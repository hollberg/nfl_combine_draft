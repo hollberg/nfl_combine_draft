{
 "cells": [
  {
   "cell_type": "markdown",
   "source": [
    "# Clean Data"
   ],
   "metadata": {
    "collapsed": false
   }
  },
  {
   "cell_type": "markdown",
   "source": [
    "### Imports"
   ],
   "metadata": {
    "collapsed": false,
    "pycharm": {
     "name": "#%% md\n"
    }
   }
  },
  {
   "cell_type": "code",
   "execution_count": 77,
   "outputs": [],
   "source": [
    "import numpy as np\n",
    "import pandas as pd\n",
    "\n",
    "# visualization\n",
    "import matplotlib.pyplot as plt\n",
    "%matplotlib inline\n",
    "import seaborn as sns\n",
    "\n",
    "# personal module scripts\n",
    "import clean_data\n"
   ],
   "metadata": {
    "collapsed": false,
    "pycharm": {
     "name": "#%%\n"
    }
   }
  },
  {
   "cell_type": "markdown",
   "source": [
    "## Clean NFL Combine Data"
   ],
   "metadata": {
    "collapsed": false
   }
  },
  {
   "cell_type": "code",
   "execution_count": 78,
   "outputs": [
    {
     "name": "stdout",
     "output_type": "stream",
     "text": [
      "(12808, 15)\n",
      "Cleaned combine size:  (8465, 15)\n"
     ]
    },
    {
     "data": {
      "text/plain": "      year              name              school  pos  height (in)  \\\n4343  2000    Darnell Alford      Boston College   OT         76.0   \n4344  2000      Kyle Allamon          Texas Tech   TE         74.5   \n4345  2000  Rashard Anderson  Jackson State (MS)   CB         74.4   \n4346  2000      Corey Atkins      South Carolina  OLB         72.4   \n4347  2000     Reggie Austin         Wake Forest   CB         69.4   \n\n      weight (lbs)  hand size (in)  arm length (in)  40 yard  bench press  \\\n4343           334           10.50            34.00     5.58         23.0   \n4344           253            9.88            31.00     5.01          NaN   \n4345           206           10.00            33.00     4.59          NaN   \n4346           237            9.75            31.88     4.76         21.0   \n4347           175            8.50            30.00     4.46         17.0   \n\n      vert leap (in)  broad jump (in)  shuttle  3cone  60yd shuttle  \n4343            25.0             94.0     4.98   8.48           NaN  \n4344            29.0            104.0     4.49   7.29         12.47  \n4345            34.0            123.0     4.15   7.18         11.72  \n4346            31.0            112.0     4.39   7.96         11.87  \n4347            35.0            119.0     4.14   7.03           NaN  ",
      "text/html": "<div>\n<style scoped>\n    .dataframe tbody tr th:only-of-type {\n        vertical-align: middle;\n    }\n\n    .dataframe tbody tr th {\n        vertical-align: top;\n    }\n\n    .dataframe thead th {\n        text-align: right;\n    }\n</style>\n<table border=\"1\" class=\"dataframe\">\n  <thead>\n    <tr style=\"text-align: right;\">\n      <th></th>\n      <th>year</th>\n      <th>name</th>\n      <th>school</th>\n      <th>pos</th>\n      <th>height (in)</th>\n      <th>weight (lbs)</th>\n      <th>hand size (in)</th>\n      <th>arm length (in)</th>\n      <th>40 yard</th>\n      <th>bench press</th>\n      <th>vert leap (in)</th>\n      <th>broad jump (in)</th>\n      <th>shuttle</th>\n      <th>3cone</th>\n      <th>60yd shuttle</th>\n    </tr>\n  </thead>\n  <tbody>\n    <tr>\n      <th>4343</th>\n      <td>2000</td>\n      <td>Darnell Alford</td>\n      <td>Boston College</td>\n      <td>OT</td>\n      <td>76.0</td>\n      <td>334</td>\n      <td>10.50</td>\n      <td>34.00</td>\n      <td>5.58</td>\n      <td>23.0</td>\n      <td>25.0</td>\n      <td>94.0</td>\n      <td>4.98</td>\n      <td>8.48</td>\n      <td>NaN</td>\n    </tr>\n    <tr>\n      <th>4344</th>\n      <td>2000</td>\n      <td>Kyle Allamon</td>\n      <td>Texas Tech</td>\n      <td>TE</td>\n      <td>74.5</td>\n      <td>253</td>\n      <td>9.88</td>\n      <td>31.00</td>\n      <td>5.01</td>\n      <td>NaN</td>\n      <td>29.0</td>\n      <td>104.0</td>\n      <td>4.49</td>\n      <td>7.29</td>\n      <td>12.47</td>\n    </tr>\n    <tr>\n      <th>4345</th>\n      <td>2000</td>\n      <td>Rashard Anderson</td>\n      <td>Jackson State (MS)</td>\n      <td>CB</td>\n      <td>74.4</td>\n      <td>206</td>\n      <td>10.00</td>\n      <td>33.00</td>\n      <td>4.59</td>\n      <td>NaN</td>\n      <td>34.0</td>\n      <td>123.0</td>\n      <td>4.15</td>\n      <td>7.18</td>\n      <td>11.72</td>\n    </tr>\n    <tr>\n      <th>4346</th>\n      <td>2000</td>\n      <td>Corey Atkins</td>\n      <td>South Carolina</td>\n      <td>OLB</td>\n      <td>72.4</td>\n      <td>237</td>\n      <td>9.75</td>\n      <td>31.88</td>\n      <td>4.76</td>\n      <td>21.0</td>\n      <td>31.0</td>\n      <td>112.0</td>\n      <td>4.39</td>\n      <td>7.96</td>\n      <td>11.87</td>\n    </tr>\n    <tr>\n      <th>4347</th>\n      <td>2000</td>\n      <td>Reggie Austin</td>\n      <td>Wake Forest</td>\n      <td>CB</td>\n      <td>69.4</td>\n      <td>175</td>\n      <td>8.50</td>\n      <td>30.00</td>\n      <td>4.46</td>\n      <td>17.0</td>\n      <td>35.0</td>\n      <td>119.0</td>\n      <td>4.14</td>\n      <td>7.03</td>\n      <td>NaN</td>\n    </tr>\n  </tbody>\n</table>\n</div>"
     },
     "execution_count": 78,
     "metadata": {},
     "output_type": "execute_result"
    }
   ],
   "source": [
    "combine_file = r'data\\nfl_combine_1987_2020.csv'\n",
    "\n",
    "df_raw_combine = pd.read_csv(combine_file)\n",
    "\n",
    "df_raw_combine.head()\n",
    "\n",
    "# Keep raw data import for reference - build copy to modify\n",
    "df_combine = df_raw_combine\n",
    "\n",
    "# Drop dummy '0' column and Wonderlic scores data\n",
    "combine_cols_to_drop = ['Unnamed: 0', 'Wonderlic']\n",
    "df_combine.drop(columns=combine_cols_to_drop, inplace=True)\n",
    "\n",
    "# Clean column headers\n",
    "df_combine.columns = df_combine.columns.str.lower()\n",
    "df_combine.rename(columns={'college':'school'}, inplace=True)\n",
    "\n",
    "# Clean school names\n",
    "df_combine['school'] = df_combine['school'].str.strip()\n",
    "\n",
    "# Drop years prior to 2000 (no draft data)\n",
    "print(df_combine.shape)\n",
    "df_combine.drop(df_combine[df_combine['year']<2000].index, inplace=True)\n",
    "print('Cleaned combine size: ', df_combine.shape)\n",
    "df_combine.head()"
   ],
   "metadata": {
    "collapsed": false,
    "pycharm": {
     "name": "#%%\n"
    }
   }
  },
  {
   "cell_type": "markdown",
   "source": [
    "## Import position mapping data\n",
    "The \"combine\" dataset maps players to very specific positions (ie, \"Free Safety\" or \"Outside Linebacker\").\n",
    "\n",
    "Map these granular positions to more standard positions. Also classify each position as \"Offense\" or \"Defense\", and indicate if the position is a \"Skill\" position or on the line of scrimmage."
   ],
   "metadata": {
    "collapsed": false
   }
  },
  {
   "cell_type": "code",
   "execution_count": 79,
   "outputs": [
    {
     "data": {
      "text/plain": "  pos pos_group offense_defense line_or_skill\n0  WR        WR               O             S\n1  CB        CB               D             S\n2  RB        RB               O             S\n3  DE        DL               D             L\n4  OT        OL               O             L",
      "text/html": "<div>\n<style scoped>\n    .dataframe tbody tr th:only-of-type {\n        vertical-align: middle;\n    }\n\n    .dataframe tbody tr th {\n        vertical-align: top;\n    }\n\n    .dataframe thead th {\n        text-align: right;\n    }\n</style>\n<table border=\"1\" class=\"dataframe\">\n  <thead>\n    <tr style=\"text-align: right;\">\n      <th></th>\n      <th>pos</th>\n      <th>pos_group</th>\n      <th>offense_defense</th>\n      <th>line_or_skill</th>\n    </tr>\n  </thead>\n  <tbody>\n    <tr>\n      <th>0</th>\n      <td>WR</td>\n      <td>WR</td>\n      <td>O</td>\n      <td>S</td>\n    </tr>\n    <tr>\n      <th>1</th>\n      <td>CB</td>\n      <td>CB</td>\n      <td>D</td>\n      <td>S</td>\n    </tr>\n    <tr>\n      <th>2</th>\n      <td>RB</td>\n      <td>RB</td>\n      <td>O</td>\n      <td>S</td>\n    </tr>\n    <tr>\n      <th>3</th>\n      <td>DE</td>\n      <td>DL</td>\n      <td>D</td>\n      <td>L</td>\n    </tr>\n    <tr>\n      <th>4</th>\n      <td>OT</td>\n      <td>OL</td>\n      <td>O</td>\n      <td>L</td>\n    </tr>\n  </tbody>\n</table>\n</div>"
     },
     "execution_count": 79,
     "metadata": {},
     "output_type": "execute_result"
    }
   ],
   "source": [
    "df_positions = pd.read_csv('data/position_mapping.csv')\n",
    "df_positions.head()"
   ],
   "metadata": {
    "collapsed": false,
    "pycharm": {
     "name": "#%%\n"
    }
   }
  },
  {
   "cell_type": "markdown",
   "source": [
    "### Merge the draft and position mapping datasets"
   ],
   "metadata": {
    "collapsed": false
   }
  },
  {
   "cell_type": "code",
   "execution_count": 80,
   "outputs": [
    {
     "name": "stdout",
     "output_type": "stream",
     "text": [
      "Granular position counts in combine dataset:\n",
      "WR     1095\n",
      "CB      864\n",
      "RB      700\n",
      "DE      657\n",
      "DT      647\n",
      "OT      618\n",
      "OLB     586\n",
      "OG      528\n",
      "TE      471\n",
      "QB      470\n",
      "ILB     350\n",
      "FS      347\n",
      "SS      298\n",
      "C       253\n",
      "FB      175\n",
      "P       108\n",
      "K        92\n",
      "LB       91\n",
      "S        53\n",
      "LS       22\n",
      "EDG      22\n",
      "OL       10\n",
      "DL        4\n",
      "DB        3\n",
      "NT        1\n",
      "Name: pos, dtype: int64\n",
      "\n",
      "Position Group counts after merging with position map:\n",
      "OL    1409\n",
      "DL    1331\n",
      "WR    1095\n",
      "LB    1027\n",
      "CB     864\n",
      "S      701\n",
      "RB     700\n",
      "TE     471\n",
      "QB     470\n",
      "K      200\n",
      "FB     175\n",
      "SN      22\n",
      "Name: pos_group, dtype: int64\n"
     ]
    },
    {
     "data": {
      "text/plain": "   year              name              school  pos  height (in)  weight (lbs)  \\\n0  2000    Darnell Alford      Boston College   OT         76.0           334   \n1  2000      Kyle Allamon          Texas Tech   TE         74.5           253   \n2  2000  Rashard Anderson  Jackson State (MS)   CB         74.4           206   \n3  2000      Corey Atkins      South Carolina  OLB         72.4           237   \n4  2000     Reggie Austin         Wake Forest   CB         69.4           175   \n\n   hand size (in)  arm length (in)  40 yard  bench press  vert leap (in)  \\\n0           10.50            34.00     5.58         23.0            25.0   \n1            9.88            31.00     5.01          NaN            29.0   \n2           10.00            33.00     4.59          NaN            34.0   \n3            9.75            31.88     4.76         21.0            31.0   \n4            8.50            30.00     4.46         17.0            35.0   \n\n   broad jump (in)  shuttle  3cone  60yd shuttle pos_group offense_defense  \\\n0             94.0     4.98   8.48           NaN        OL               O   \n1            104.0     4.49   7.29         12.47        TE               O   \n2            123.0     4.15   7.18         11.72        CB               D   \n3            112.0     4.39   7.96         11.87        LB               D   \n4            119.0     4.14   7.03           NaN        CB               D   \n\n  line_or_skill  \n0             L  \n1             S  \n2             S  \n3             S  \n4             S  ",
      "text/html": "<div>\n<style scoped>\n    .dataframe tbody tr th:only-of-type {\n        vertical-align: middle;\n    }\n\n    .dataframe tbody tr th {\n        vertical-align: top;\n    }\n\n    .dataframe thead th {\n        text-align: right;\n    }\n</style>\n<table border=\"1\" class=\"dataframe\">\n  <thead>\n    <tr style=\"text-align: right;\">\n      <th></th>\n      <th>year</th>\n      <th>name</th>\n      <th>school</th>\n      <th>pos</th>\n      <th>height (in)</th>\n      <th>weight (lbs)</th>\n      <th>hand size (in)</th>\n      <th>arm length (in)</th>\n      <th>40 yard</th>\n      <th>bench press</th>\n      <th>vert leap (in)</th>\n      <th>broad jump (in)</th>\n      <th>shuttle</th>\n      <th>3cone</th>\n      <th>60yd shuttle</th>\n      <th>pos_group</th>\n      <th>offense_defense</th>\n      <th>line_or_skill</th>\n    </tr>\n  </thead>\n  <tbody>\n    <tr>\n      <th>0</th>\n      <td>2000</td>\n      <td>Darnell Alford</td>\n      <td>Boston College</td>\n      <td>OT</td>\n      <td>76.0</td>\n      <td>334</td>\n      <td>10.50</td>\n      <td>34.00</td>\n      <td>5.58</td>\n      <td>23.0</td>\n      <td>25.0</td>\n      <td>94.0</td>\n      <td>4.98</td>\n      <td>8.48</td>\n      <td>NaN</td>\n      <td>OL</td>\n      <td>O</td>\n      <td>L</td>\n    </tr>\n    <tr>\n      <th>1</th>\n      <td>2000</td>\n      <td>Kyle Allamon</td>\n      <td>Texas Tech</td>\n      <td>TE</td>\n      <td>74.5</td>\n      <td>253</td>\n      <td>9.88</td>\n      <td>31.00</td>\n      <td>5.01</td>\n      <td>NaN</td>\n      <td>29.0</td>\n      <td>104.0</td>\n      <td>4.49</td>\n      <td>7.29</td>\n      <td>12.47</td>\n      <td>TE</td>\n      <td>O</td>\n      <td>S</td>\n    </tr>\n    <tr>\n      <th>2</th>\n      <td>2000</td>\n      <td>Rashard Anderson</td>\n      <td>Jackson State (MS)</td>\n      <td>CB</td>\n      <td>74.4</td>\n      <td>206</td>\n      <td>10.00</td>\n      <td>33.00</td>\n      <td>4.59</td>\n      <td>NaN</td>\n      <td>34.0</td>\n      <td>123.0</td>\n      <td>4.15</td>\n      <td>7.18</td>\n      <td>11.72</td>\n      <td>CB</td>\n      <td>D</td>\n      <td>S</td>\n    </tr>\n    <tr>\n      <th>3</th>\n      <td>2000</td>\n      <td>Corey Atkins</td>\n      <td>South Carolina</td>\n      <td>OLB</td>\n      <td>72.4</td>\n      <td>237</td>\n      <td>9.75</td>\n      <td>31.88</td>\n      <td>4.76</td>\n      <td>21.0</td>\n      <td>31.0</td>\n      <td>112.0</td>\n      <td>4.39</td>\n      <td>7.96</td>\n      <td>11.87</td>\n      <td>LB</td>\n      <td>D</td>\n      <td>S</td>\n    </tr>\n    <tr>\n      <th>4</th>\n      <td>2000</td>\n      <td>Reggie Austin</td>\n      <td>Wake Forest</td>\n      <td>CB</td>\n      <td>69.4</td>\n      <td>175</td>\n      <td>8.50</td>\n      <td>30.00</td>\n      <td>4.46</td>\n      <td>17.0</td>\n      <td>35.0</td>\n      <td>119.0</td>\n      <td>4.14</td>\n      <td>7.03</td>\n      <td>NaN</td>\n      <td>CB</td>\n      <td>D</td>\n      <td>S</td>\n    </tr>\n  </tbody>\n</table>\n</div>"
     },
     "execution_count": 80,
     "metadata": {},
     "output_type": "execute_result"
    }
   ],
   "source": [
    "print('Granular position counts in combine dataset:')\n",
    "print(df_combine['pos'].value_counts())\n",
    "\n",
    "df_combine = df_combine.merge(df_positions,\n",
    "                          how='left',\n",
    "                          on='pos')\n",
    "\n",
    "print('\\nPosition Group counts after merging with position map:')\n",
    "print(df_combine['pos_group'].value_counts())\n",
    "\n",
    "df_combine.head()"
   ],
   "metadata": {
    "collapsed": false,
    "pycharm": {
     "name": "#%%\n"
    }
   }
  },
  {
   "cell_type": "markdown",
   "source": [
    "#### Visualize combine performance distributions by position"
   ],
   "metadata": {
    "collapsed": false,
    "pycharm": {
     "name": "#%% md\n"
    }
   }
  },
  {
   "cell_type": "code",
   "execution_count": 81,
   "outputs": [
    {
     "name": "stdout",
     "output_type": "stream",
     "text": [
      "['OL', 'TE', 'CB', 'LB', 'S', 'DL', 'QB', 'RB', 'WR', 'FB']\n",
      "Unique Positions:  10\n",
      "Index(['year', 'name', 'school', 'pos', 'height (in)', 'weight (lbs)',\n",
      "       'hand size (in)', 'arm length (in)', '40 yard', 'bench press',\n",
      "       'vert leap (in)', 'broad jump (in)', 'shuttle', '3cone', '60yd shuttle',\n",
      "       'pos_group', 'offense_defense', 'line_or_skill'],\n",
      "      dtype='object')\n"
     ]
    },
    {
     "name": "stderr",
     "output_type": "stream",
     "text": [
      "C:\\Users\\mitch\\AppData\\Local\\Temp/ipykernel_20308/3788396273.py:48: UserWarning: Matplotlib is currently using module://matplotlib_inline.backend_inline, which is a non-GUI backend, so cannot show the figure.\n",
      "  fig.show()\n"
     ]
    },
    {
     "data": {
      "text/plain": "<Figure size 1800x1800 with 110 Axes>",
      "image/png": "[encoded data removed]"
     },
     "metadata": {
      "needs_background": "light"
     },
     "output_type": "display_data"
    }
   ],
   "source": [
    "positions = df_combine['pos_group'].unique()\n",
    "\n",
    "positions_to_drop = ['SN', 'K']   # Long snappers and kickers/punters\n",
    "\n",
    "positions = [pos for pos in positions if pos not in positions_to_drop]\n",
    "print(positions)\n",
    "\n",
    "\n",
    "print('Unique Positions: ', len(positions))\n",
    "print(df_combine.columns)\n",
    "stat_columns = ['height (in)', 'weight (lbs)',\n",
    "       'hand size (in)', 'arm length (in)', '40 yard', 'bench press',\n",
    "       'vert leap (in)', 'broad jump (in)', 'shuttle', '3cone', '60yd shuttle']\n",
    "num_stats = len(stat_columns)\n",
    "\n",
    "fig, axes = plt.subplots(len(positions), num_stats,\n",
    "                         sharex=False,\n",
    "                         sharey=True,\n",
    "                         figsize=(25,25))\n",
    "\n",
    "fig.suptitle('NFL Combine Statistics - Distribution by Position (2000-2020)', fontsize=30)\n",
    "fig.supxlabel('Measurement', fontsize=30)\n",
    "fig.supylabel('Position', fontsize=30)\n",
    "\n",
    "fig.tight_layout(rect=[0.03, 0.03, 1, .95])\n",
    "\n",
    "# Loop over axes and data\n",
    "for row, pos in enumerate(positions):\n",
    "    x_positions = df_combine[df_combine['pos_group']==pos]\n",
    "\n",
    "    for col, stat in enumerate(stat_columns):\n",
    "        # Get axis\n",
    "        ax = axes[row,col]\n",
    "        x = x_positions[stat]\n",
    "        ax.hist(x,\n",
    "                range=[df_combine[stat].min(),df_combine[stat].max()],\n",
    "                alpha=.5, bins=10)\n",
    "        # Set Y label once per row\n",
    "        if col==0:\n",
    "            ax.set_ylabel(pos, fontsize='xx-large')\n",
    "\n",
    "        # Set X label above first row and below last row\n",
    "        if row == 0:\n",
    "            ax.set_title(stat, fontsize='xx-large')\n",
    "        if row == len(positions) - 1:\n",
    "            ax.set_xlabel(stat, fontsize='xx-large')\n",
    "\n",
    "fig.show()\n",
    "fig.savefig('images/stats_by_position.png', format='png')\n"
   ],
   "metadata": {
    "collapsed": false,
    "pycharm": {
     "name": "#%%\n"
    }
   }
  },
  {
   "cell_type": "markdown",
   "source": [
    "## Import and clean NFL Draft Data"
   ],
   "metadata": {
    "collapsed": false
   }
  },
  {
   "cell_type": "code",
   "execution_count": 82,
   "outputs": [],
   "source": [
    "draft_file = r'data\\espn_draft_history_2000_2021_cleaned.csv'\n",
    "df_raw_draft = pd.read_csv(draft_file)\n",
    "\n",
    "# Keep raw data import for reference - build copy to modify\n",
    "df_draft = df_raw_draft\n",
    "\n",
    "# Clean column headers\n",
    "df_draft.columns = df_draft.columns.str.lower()\n",
    "\n",
    "# Clean school names\n",
    "df_draft['school'] = df_draft['school'].str.strip()"
   ],
   "metadata": {
    "collapsed": false,
    "pycharm": {
     "name": "#%%\n"
    }
   }
  },
  {
   "cell_type": "markdown",
   "source": [
    "### Are there duplicated names?"
   ],
   "metadata": {
    "collapsed": false
   }
  },
  {
   "cell_type": "code",
   "execution_count": 83,
   "outputs": [
    {
     "data": {
      "text/plain": "Brandon Williams    5\nChris Brown         5\nBrian Allen         4\nMike Williams       4\nChris Jones         4\nMichael Bennett     3\nJosh Harris         3\nTravis Wilson       3\nSteve Smith         3\nAndre Smith         3\nName: name, dtype: int64"
     },
     "execution_count": 83,
     "metadata": {},
     "output_type": "execute_result"
    }
   ],
   "source": [
    "df_combine['name'].value_counts(sort='descending').head(10)"
   ],
   "metadata": {
    "collapsed": false,
    "pycharm": {
     "name": "#%%\n"
    }
   }
  },
  {
   "cell_type": "markdown",
   "source": [
    "### Answer: Yes\n",
    "\n",
    "So we cannot simply join the 2 datasets on player 'name' columns. Need to also join on\n",
    "college and year.\n"
   ],
   "metadata": {
    "collapsed": false
   }
  },
  {
   "cell_type": "markdown",
   "source": [
    "## Do college names match in both datasets?"
   ],
   "metadata": {
    "collapsed": false
   }
  },
  {
   "cell_type": "code",
   "execution_count": 84,
   "outputs": [
    {
     "name": "stdout",
     "output_type": "stream",
     "text": [
      "<class 'pandas.core.frame.DataFrame'>\n",
      "               school   source\n",
      "0      Boston College  combine\n",
      "1          Texas Tech  combine\n",
      "2  Jackson State (MS)  combine\n",
      "3      South Carolina  combine\n",
      "4         Wake Forest  combine\n"
     ]
    },
    {
     "data": {
      "text/plain": "                     school source_draft source_combine\n202       Abilene Christian        draft            NaN\n381  Abilene Christian (TX)          NaN        combine\n445        Adams State (CO)          NaN        combine\n345      Alabama-Birmingham          NaN        combine\n200                  Albany        draft            NaN\n388             Albany (NY)          NaN        combine\n412       Alcorn State (MS)          NaN        combine\n133       Appalachian State        draft            NaN\n336  Appalachian State (NC)          NaN        combine\n255                 Ashland        draft            NaN",
      "text/html": "<div>\n<style scoped>\n    .dataframe tbody tr th:only-of-type {\n        vertical-align: middle;\n    }\n\n    .dataframe tbody tr th {\n        vertical-align: top;\n    }\n\n    .dataframe thead th {\n        text-align: right;\n    }\n</style>\n<table border=\"1\" class=\"dataframe\">\n  <thead>\n    <tr style=\"text-align: right;\">\n      <th></th>\n      <th>school</th>\n      <th>source_draft</th>\n      <th>source_combine</th>\n    </tr>\n  </thead>\n  <tbody>\n    <tr>\n      <th>202</th>\n      <td>Abilene Christian</td>\n      <td>draft</td>\n      <td>NaN</td>\n    </tr>\n    <tr>\n      <th>381</th>\n      <td>Abilene Christian (TX)</td>\n      <td>NaN</td>\n      <td>combine</td>\n    </tr>\n    <tr>\n      <th>445</th>\n      <td>Adams State (CO)</td>\n      <td>NaN</td>\n      <td>combine</td>\n    </tr>\n    <tr>\n      <th>345</th>\n      <td>Alabama-Birmingham</td>\n      <td>NaN</td>\n      <td>combine</td>\n    </tr>\n    <tr>\n      <th>200</th>\n      <td>Albany</td>\n      <td>draft</td>\n      <td>NaN</td>\n    </tr>\n    <tr>\n      <th>388</th>\n      <td>Albany (NY)</td>\n      <td>NaN</td>\n      <td>combine</td>\n    </tr>\n    <tr>\n      <th>412</th>\n      <td>Alcorn State (MS)</td>\n      <td>NaN</td>\n      <td>combine</td>\n    </tr>\n    <tr>\n      <th>133</th>\n      <td>Appalachian State</td>\n      <td>draft</td>\n      <td>NaN</td>\n    </tr>\n    <tr>\n      <th>336</th>\n      <td>Appalachian State (NC)</td>\n      <td>NaN</td>\n      <td>combine</td>\n    </tr>\n    <tr>\n      <th>255</th>\n      <td>Ashland</td>\n      <td>draft</td>\n      <td>NaN</td>\n    </tr>\n  </tbody>\n</table>\n</div>"
     },
     "execution_count": 84,
     "metadata": {},
     "output_type": "execute_result"
    }
   ],
   "source": [
    "draft_school = pd.DataFrame(df_draft['school'].unique()).rename(columns={0:'school'})\n",
    "draft_school['source'] = 'draft'\n",
    "combine_school = pd.DataFrame(df_combine['school'].unique()).rename(columns={0:'school'})\n",
    "combine_school['source'] = 'combine'\n",
    "print(type(combine_school))\n",
    "print(combine_school.head())\n",
    "\n",
    "schools = draft_school.merge(combine_school, on='school', how='outer',\n",
    "                             suffixes=['_draft', '_combine']).sort_values(by='school')\n",
    "\n",
    "# List all cases with mismatches\n",
    "na_mask = schools.isna().any(axis=1)\n",
    "schools[na_mask].head(10)"
   ],
   "metadata": {
    "collapsed": false,
    "pycharm": {
     "name": "#%%\n"
    }
   }
  },
  {
   "cell_type": "markdown",
   "source": [
    "### So we see that the 'combine' dataset frequently has the state appended to the school name;\n",
    "Ex: \"Abilene Christian (TX)\". Remove these from school names, with the exception of \"Miami (OH)."
   ],
   "metadata": {
    "collapsed": false,
    "pycharm": {
     "name": "#%% md\n"
    }
   }
  },
  {
   "cell_type": "code",
   "execution_count": 85,
   "outputs": [
    {
     "name": "stdout",
     "output_type": "stream",
     "text": [
      "0        Boston College\n",
      "1            Texas Tech\n",
      "2    Jackson State (MS)\n",
      "3        South Carolina\n",
      "4           Wake Forest\n",
      "Name: school, dtype: object\n"
     ]
    },
    {
     "name": "stderr",
     "output_type": "stream",
     "text": [
      "C:\\Users\\mitch\\AppData\\Local\\Temp/ipykernel_20308/172860408.py:1: FutureWarning: The default value of regex will change from True to False in a future version.\n",
      "  df_combine['school'] = df_combine['school'].str.replace('Miami (OH)', 'Miami - OH')\n"
     ]
    },
    {
     "data": {
      "text/plain": "0    Boston College\n1        Texas Tech\n2    Jackson State \n3    South Carolina\n4       Wake Forest\nName: school, dtype: object"
     },
     "execution_count": 85,
     "metadata": {},
     "output_type": "execute_result"
    }
   ],
   "source": [
    "df_combine['school'] = df_combine['school'].str.replace('Miami (OH)', 'Miami - OH')\n",
    "\n",
    "print(df_combine['school'].head())\n",
    "regex_replace_parens = r'\\([^)]*[a-zA-Z][^)]*\\)'\n",
    "df_combine['school'] = df_combine['school'].str.replace(regex_replace_parens,\n",
    "                                                        '', regex=True)\n",
    "\n",
    "df_combine['school'].head()"
   ],
   "metadata": {
    "collapsed": false,
    "pycharm": {
     "name": "#%%\n"
    }
   }
  },
  {
   "cell_type": "markdown",
   "source": [
    "## Standardize player names between datasets\n",
    "Player names in the \"Draft\" dataset include suffixes including \"Jr., II, III, IV\", but these are NOT included in the \"combine\" dataset.\n",
    "\n",
    "Standardize player names between datasets by removing these values from the \"Draft\" dataset."
   ],
   "metadata": {
    "collapsed": false
   }
  },
  {
   "cell_type": "code",
   "execution_count": 86,
   "outputs": [],
   "source": [
    "regex_suffixes_to_remove = r'Jr\\.$|III$|IIII$|IV$|, Jr.$'\n",
    "df_draft['name'] = df_draft['name'].str.replace(regex_suffixes_to_remove,\n",
    "                                                '', regex=True)"
   ],
   "metadata": {
    "collapsed": false,
    "pycharm": {
     "name": "#%%\n"
    }
   }
  },
  {
   "cell_type": "markdown",
   "source": [
    "### Merge the Draft and NFL Combine datasets"
   ],
   "metadata": {
    "collapsed": false
   }
  },
  {
   "cell_type": "code",
   "execution_count": 87,
   "outputs": [
    {
     "data": {
      "text/plain": "   year              name          school  pos  height (in)  weight (lbs)  \\\n0  2000    Darnell Alford  Boston College   OT         76.0           334   \n1  2000      Kyle Allamon      Texas Tech   TE         74.5           253   \n2  2000  Rashard Anderson  Jackson State    CB         74.4           206   \n3  2000      Corey Atkins  South Carolina  OLB         72.4           237   \n4  2000     Reggie Austin     Wake Forest   CB         69.4           175   \n\n   hand size (in)  arm length (in)  40 yard  bench press  ...  shuttle  3cone  \\\n0           10.50            34.00     5.58         23.0  ...     4.98   8.48   \n1            9.88            31.00     5.01          NaN  ...     4.49   7.29   \n2           10.00            33.00     4.59          NaN  ...     4.15   7.18   \n3            9.75            31.88     4.76         21.0  ...     4.39   7.96   \n4            8.50            30.00     4.46         17.0  ...     4.14   7.03   \n\n   60yd shuttle  pos_group  offense_defense line_or_skill round  pk(ovr)  \\\n0           NaN         OL                O             L   6.0  22(188)   \n1         12.47         TE                O             S   NaN      NaN   \n2         11.72         CB                D             S   NaN      NaN   \n3         11.87         LB                D             S   NaN      NaN   \n4           NaN         CB                D             S   4.0  31(125)   \n\n     team position  \n0  Chiefs       OT  \n1     NaN      NaN  \n2     NaN      NaN  \n3     NaN      NaN  \n4   Bears       DB  \n\n[5 rows x 22 columns]",
      "text/html": "<div>\n<style scoped>\n    .dataframe tbody tr th:only-of-type {\n        vertical-align: middle;\n    }\n\n    .dataframe tbody tr th {\n        vertical-align: top;\n    }\n\n    .dataframe thead th {\n        text-align: right;\n    }\n</style>\n<table border=\"1\" class=\"dataframe\">\n  <thead>\n    <tr style=\"text-align: right;\">\n      <th></th>\n      <th>year</th>\n      <th>name</th>\n      <th>school</th>\n      <th>pos</th>\n      <th>height (in)</th>\n      <th>weight (lbs)</th>\n      <th>hand size (in)</th>\n      <th>arm length (in)</th>\n      <th>40 yard</th>\n      <th>bench press</th>\n      <th>...</th>\n      <th>shuttle</th>\n      <th>3cone</th>\n      <th>60yd shuttle</th>\n      <th>pos_group</th>\n      <th>offense_defense</th>\n      <th>line_or_skill</th>\n      <th>round</th>\n      <th>pk(ovr)</th>\n      <th>team</th>\n      <th>position</th>\n    </tr>\n  </thead>\n  <tbody>\n    <tr>\n      <th>0</th>\n      <td>2000</td>\n      <td>Darnell Alford</td>\n      <td>Boston College</td>\n      <td>OT</td>\n      <td>76.0</td>\n      <td>334</td>\n      <td>10.50</td>\n      <td>34.00</td>\n      <td>5.58</td>\n      <td>23.0</td>\n      <td>...</td>\n      <td>4.98</td>\n      <td>8.48</td>\n      <td>NaN</td>\n      <td>OL</td>\n      <td>O</td>\n      <td>L</td>\n      <td>6.0</td>\n      <td>22(188)</td>\n      <td>Chiefs</td>\n      <td>OT</td>\n    </tr>\n    <tr>\n      <th>1</th>\n      <td>2000</td>\n      <td>Kyle Allamon</td>\n      <td>Texas Tech</td>\n      <td>TE</td>\n      <td>74.5</td>\n      <td>253</td>\n      <td>9.88</td>\n      <td>31.00</td>\n      <td>5.01</td>\n      <td>NaN</td>\n      <td>...</td>\n      <td>4.49</td>\n      <td>7.29</td>\n      <td>12.47</td>\n      <td>TE</td>\n      <td>O</td>\n      <td>S</td>\n      <td>NaN</td>\n      <td>NaN</td>\n      <td>NaN</td>\n      <td>NaN</td>\n    </tr>\n    <tr>\n      <th>2</th>\n      <td>2000</td>\n      <td>Rashard Anderson</td>\n      <td>Jackson State</td>\n      <td>CB</td>\n      <td>74.4</td>\n      <td>206</td>\n      <td>10.00</td>\n      <td>33.00</td>\n      <td>4.59</td>\n      <td>NaN</td>\n      <td>...</td>\n      <td>4.15</td>\n      <td>7.18</td>\n      <td>11.72</td>\n      <td>CB</td>\n      <td>D</td>\n      <td>S</td>\n      <td>NaN</td>\n      <td>NaN</td>\n      <td>NaN</td>\n      <td>NaN</td>\n    </tr>\n    <tr>\n      <th>3</th>\n      <td>2000</td>\n      <td>Corey Atkins</td>\n      <td>South Carolina</td>\n      <td>OLB</td>\n      <td>72.4</td>\n      <td>237</td>\n      <td>9.75</td>\n      <td>31.88</td>\n      <td>4.76</td>\n      <td>21.0</td>\n      <td>...</td>\n      <td>4.39</td>\n      <td>7.96</td>\n      <td>11.87</td>\n      <td>LB</td>\n      <td>D</td>\n      <td>S</td>\n      <td>NaN</td>\n      <td>NaN</td>\n      <td>NaN</td>\n      <td>NaN</td>\n    </tr>\n    <tr>\n      <th>4</th>\n      <td>2000</td>\n      <td>Reggie Austin</td>\n      <td>Wake Forest</td>\n      <td>CB</td>\n      <td>69.4</td>\n      <td>175</td>\n      <td>8.50</td>\n      <td>30.00</td>\n      <td>4.46</td>\n      <td>17.0</td>\n      <td>...</td>\n      <td>4.14</td>\n      <td>7.03</td>\n      <td>NaN</td>\n      <td>CB</td>\n      <td>D</td>\n      <td>S</td>\n      <td>4.0</td>\n      <td>31(125)</td>\n      <td>Bears</td>\n      <td>DB</td>\n    </tr>\n  </tbody>\n</table>\n<p>5 rows × 22 columns</p>\n</div>"
     },
     "execution_count": 87,
     "metadata": {},
     "output_type": "execute_result"
    }
   ],
   "source": [
    "df_merged = df_combine.merge(df_draft, how='left',\n",
    "                             on=['name', 'school', 'year'])\n",
    "\n",
    "df_merged.head()\n",
    "\n",
    "# df_merged.to_clipboard()"
   ],
   "metadata": {
    "collapsed": false,
    "pycharm": {
     "name": "#%%\n"
    }
   }
  },
  {
   "cell_type": "markdown",
   "source": [
    "## Investigate merged data"
   ],
   "metadata": {
    "collapsed": false,
    "pycharm": {
     "name": "#%% md\n"
    }
   }
  },
  {
   "cell_type": "code",
   "execution_count": 88,
   "outputs": [
    {
     "name": "stdout",
     "output_type": "stream",
     "text": [
      "<class 'pandas.core.frame.DataFrame'>\n",
      "Int64Index: 8465 entries, 0 to 8464\n",
      "Data columns (total 22 columns):\n",
      " #   Column           Non-Null Count  Dtype  \n",
      "---  ------           --------------  -----  \n",
      " 0   year             8465 non-null   int64  \n",
      " 1   name             8465 non-null   object \n",
      " 2   school           8462 non-null   object \n",
      " 3   pos              8465 non-null   object \n",
      " 4   height (in)      8465 non-null   float64\n",
      " 5   weight (lbs)     8465 non-null   int64  \n",
      " 6   hand size (in)   7639 non-null   float64\n",
      " 7   arm length (in)  7638 non-null   float64\n",
      " 8   40 yard          7922 non-null   float64\n",
      " 9   bench press      6603 non-null   float64\n",
      " 10  vert leap (in)   7503 non-null   float64\n",
      " 11  broad jump (in)  7400 non-null   float64\n",
      " 12  shuttle          6929 non-null   float64\n",
      " 13  3cone            6827 non-null   float64\n",
      " 14  60yd shuttle     1370 non-null   float64\n",
      " 15  pos_group        8465 non-null   object \n",
      " 16  offense_defense  8465 non-null   object \n",
      " 17  line_or_skill    8465 non-null   object \n",
      " 18  round            3612 non-null   float64\n",
      " 19  pk(ovr)          3612 non-null   object \n",
      " 20  team             3599 non-null   object \n",
      " 21  position         3612 non-null   object \n",
      "dtypes: float64(11), int64(2), object(9)\n",
      "memory usage: 1.5+ MB\n"
     ]
    }
   ],
   "source": [
    "df_merged.info()\n"
   ],
   "metadata": {
    "collapsed": false,
    "pycharm": {
     "name": "#%%\n"
    }
   }
  },
  {
   "cell_type": "markdown",
   "source": [
    "## Data Cleaning:\n",
    "* Very few 60-yard shuttle records; drop column\n",
    "* Overwrite blank \"Round\" column values with '8' (will indicate undrafted)\n",
    "* Drop kickers, long snappers, QBs and Fullbacks (too few, draft status not driven by stats)"
   ],
   "metadata": {
    "collapsed": false
   }
  },
  {
   "cell_type": "code",
   "execution_count": 89,
   "outputs": [
    {
     "name": "stdout",
     "output_type": "stream",
     "text": [
      "\n",
      " Remaining Columns\n",
      "Index(['height (in)', 'weight (lbs)', 'hand size (in)', 'arm length (in)',\n",
      "       '40 yard', 'bench press', 'vert leap (in)', 'broad jump (in)',\n",
      "       'shuttle', '3cone', 'pos_group', 'offense_defense', 'line_or_skill',\n",
      "       'round'],\n",
      "      dtype='object')\n",
      "Int64Index([  17,   23,   25,   27,   32,   63,   67,   77,   78,   91,\n",
      "            ...\n",
      "            8341, 8362, 8364, 8383, 8402, 8405, 8416, 8432, 8434, 8458],\n",
      "           dtype='int64', length=867)\n",
      "(8465, 14)\n",
      "   height (in)  weight (lbs)  hand size (in)  arm length (in)  40 yard  \\\n",
      "0         76.0           334           10.50            34.00     5.58   \n",
      "1         74.5           253            9.88            31.00     5.01   \n",
      "2         74.4           206           10.00            33.00     4.59   \n",
      "3         72.4           237            9.75            31.88     4.76   \n",
      "4         69.4           175            8.50            30.00     4.46   \n",
      "\n",
      "   bench press  vert leap (in)  broad jump (in)  shuttle  3cone pos_group  \\\n",
      "0         23.0            25.0             94.0     4.98   8.48        OL   \n",
      "1          NaN            29.0            104.0     4.49   7.29        TE   \n",
      "2          NaN            34.0            123.0     4.15   7.18        CB   \n",
      "3         21.0            31.0            112.0     4.39   7.96        LB   \n",
      "4         17.0            35.0            119.0     4.14   7.03        CB   \n",
      "\n",
      "  offense_defense line_or_skill  round  \n",
      "0               O             L    6.0  \n",
      "1               O             S    8.0  \n",
      "2               D             S    8.0  \n",
      "3               D             S    8.0  \n",
      "4               D             S    4.0  \n"
     ]
    }
   ],
   "source": [
    "# Drop 60yd shuttle (too few data points), duplicative columns related to\n",
    "# player position, and things like year and team name\n",
    "merged_cols_to_drop = ['year', 'name', 'school', 'pos',\n",
    "                       '60yd shuttle',\n",
    "                       'pk(ovr)', 'team', 'position']\n",
    "\n",
    "try:\n",
    "    df_merged.drop(columns=merged_cols_to_drop, inplace=True)\n",
    "except:\n",
    "    print('Issue dropping columns')\n",
    "\n",
    "\n",
    "# overwite blank 'round' values with '8' (will indicate undrafted)\n",
    "df_merged['round'].fillna(8, inplace=True)\n",
    "#df_merged.dropna(inplace=True)\n",
    "\n",
    "print('\\n Remaining Columns')\n",
    "print(df_merged.columns)\n",
    "\n",
    "positions_to_drop = ['SN', 'K', 'QB', 'FB']\n",
    "positions_mask = \\\n",
    "    df_merged[df_merged['pos_group'].isin(positions_to_drop)].index\n",
    "\n",
    "print(positions_mask)\n",
    "\n",
    "print(df_merged.shape)\n",
    "df_merged.drop(positions_mask, inplace=True)\n",
    "print(df_merged.head())"
   ],
   "metadata": {
    "collapsed": false,
    "pycharm": {
     "name": "#%%\n"
    }
   }
  },
  {
   "cell_type": "markdown",
   "source": [
    "## Drop all but Cornerbacks"
   ],
   "metadata": {
    "collapsed": false,
    "pycharm": {
     "name": "#%% md\n"
    }
   }
  },
  {
   "cell_type": "code",
   "execution_count": 90,
   "outputs": [
    {
     "data": {
      "text/plain": "CB    864\nName: pos_group, dtype: int64"
     },
     "execution_count": 90,
     "metadata": {},
     "output_type": "execute_result"
    }
   ],
   "source": [
    "df_merged.drop(df_merged[df_merged['pos_group']!='CB'].index, inplace=True)\n",
    "df_merged['pos_group'].value_counts()\n"
   ],
   "metadata": {
    "collapsed": false,
    "pycharm": {
     "name": "#%%\n"
    }
   }
  },
  {
   "cell_type": "markdown",
   "source": [
    "### How many players don't have much combine data? Drop them"
   ],
   "metadata": {
    "collapsed": false,
    "pycharm": {
     "name": "#%% md\n"
    }
   }
  },
  {
   "cell_type": "code",
   "execution_count": 91,
   "outputs": [
    {
     "name": "stdout",
     "output_type": "stream",
     "text": [
      "\n",
      " Missing metrics per row\n",
      "0    571\n",
      "2    108\n",
      "1     88\n",
      "3     28\n",
      "4     25\n",
      "5     17\n",
      "8     11\n",
      "7     10\n",
      "6      6\n",
      "dtype: int64\n",
      "\n",
      "Remaining missing metrics by row\n",
      "0    571\n",
      "2    108\n",
      "1     88\n",
      "3     28\n",
      "dtype: int64\n"
     ]
    },
    {
     "data": {
      "text/plain": "    height (in)  weight (lbs)  hand size (in)  arm length (in)  40 yard  \\\n2          74.4           206           10.00            33.00     4.59   \n4          69.4           175            8.50            30.00     4.46   \n7          69.9           199           10.00            31.13     4.48   \n8          73.0           192             NaN              NaN     4.43   \n10         71.0           178             NaN              NaN     4.50   \n22         69.9           204            9.13            30.50     4.60   \n29         71.4           202            9.13            30.50     4.55   \n37         71.1           205            9.50            32.00     4.47   \n53         71.4           192            9.38            32.00     4.72   \n55         73.5           197            9.50            30.75     4.47   \n\n    bench press  vert leap (in)  broad jump (in)  shuttle  3cone pos_group  \\\n2           NaN            34.0            123.0     4.15   7.18        CB   \n4          17.0            35.0            119.0     4.14   7.03        CB   \n7          16.0            37.5            116.0     4.04   6.81        CB   \n8           NaN            38.5            124.0     3.99   6.70        CB   \n10          NaN            34.5            122.0     4.20   6.87        CB   \n22         14.0            36.0            116.0     4.01   6.93        CB   \n29         14.0            36.0            117.0     4.39   7.18        CB   \n37         16.0             NaN            126.0      NaN    NaN        CB   \n53         13.0            38.0            111.0      NaN   7.10        CB   \n55          NaN            39.0            125.0     3.94   6.34        CB   \n\n   offense_defense line_or_skill  round  \n2                D             S    8.0  \n4                D             S    4.0  \n7                D             S    4.0  \n8                D             S    2.0  \n10               D             S    5.0  \n22               D             S    5.0  \n29               D             S    8.0  \n37               D             S    2.0  \n53               D             S    8.0  \n55               D             S    8.0  ",
      "text/html": "<div>\n<style scoped>\n    .dataframe tbody tr th:only-of-type {\n        vertical-align: middle;\n    }\n\n    .dataframe tbody tr th {\n        vertical-align: top;\n    }\n\n    .dataframe thead th {\n        text-align: right;\n    }\n</style>\n<table border=\"1\" class=\"dataframe\">\n  <thead>\n    <tr style=\"text-align: right;\">\n      <th></th>\n      <th>height (in)</th>\n      <th>weight (lbs)</th>\n      <th>hand size (in)</th>\n      <th>arm length (in)</th>\n      <th>40 yard</th>\n      <th>bench press</th>\n      <th>vert leap (in)</th>\n      <th>broad jump (in)</th>\n      <th>shuttle</th>\n      <th>3cone</th>\n      <th>pos_group</th>\n      <th>offense_defense</th>\n      <th>line_or_skill</th>\n      <th>round</th>\n    </tr>\n  </thead>\n  <tbody>\n    <tr>\n      <th>2</th>\n      <td>74.4</td>\n      <td>206</td>\n      <td>10.00</td>\n      <td>33.00</td>\n      <td>4.59</td>\n      <td>NaN</td>\n      <td>34.0</td>\n      <td>123.0</td>\n      <td>4.15</td>\n      <td>7.18</td>\n      <td>CB</td>\n      <td>D</td>\n      <td>S</td>\n      <td>8.0</td>\n    </tr>\n    <tr>\n      <th>4</th>\n      <td>69.4</td>\n      <td>175</td>\n      <td>8.50</td>\n      <td>30.00</td>\n      <td>4.46</td>\n      <td>17.0</td>\n      <td>35.0</td>\n      <td>119.0</td>\n      <td>4.14</td>\n      <td>7.03</td>\n      <td>CB</td>\n      <td>D</td>\n      <td>S</td>\n      <td>4.0</td>\n    </tr>\n    <tr>\n      <th>7</th>\n      <td>69.9</td>\n      <td>199</td>\n      <td>10.00</td>\n      <td>31.13</td>\n      <td>4.48</td>\n      <td>16.0</td>\n      <td>37.5</td>\n      <td>116.0</td>\n      <td>4.04</td>\n      <td>6.81</td>\n      <td>CB</td>\n      <td>D</td>\n      <td>S</td>\n      <td>4.0</td>\n    </tr>\n    <tr>\n      <th>8</th>\n      <td>73.0</td>\n      <td>192</td>\n      <td>NaN</td>\n      <td>NaN</td>\n      <td>4.43</td>\n      <td>NaN</td>\n      <td>38.5</td>\n      <td>124.0</td>\n      <td>3.99</td>\n      <td>6.70</td>\n      <td>CB</td>\n      <td>D</td>\n      <td>S</td>\n      <td>2.0</td>\n    </tr>\n    <tr>\n      <th>10</th>\n      <td>71.0</td>\n      <td>178</td>\n      <td>NaN</td>\n      <td>NaN</td>\n      <td>4.50</td>\n      <td>NaN</td>\n      <td>34.5</td>\n      <td>122.0</td>\n      <td>4.20</td>\n      <td>6.87</td>\n      <td>CB</td>\n      <td>D</td>\n      <td>S</td>\n      <td>5.0</td>\n    </tr>\n    <tr>\n      <th>22</th>\n      <td>69.9</td>\n      <td>204</td>\n      <td>9.13</td>\n      <td>30.50</td>\n      <td>4.60</td>\n      <td>14.0</td>\n      <td>36.0</td>\n      <td>116.0</td>\n      <td>4.01</td>\n      <td>6.93</td>\n      <td>CB</td>\n      <td>D</td>\n      <td>S</td>\n      <td>5.0</td>\n    </tr>\n    <tr>\n      <th>29</th>\n      <td>71.4</td>\n      <td>202</td>\n      <td>9.13</td>\n      <td>30.50</td>\n      <td>4.55</td>\n      <td>14.0</td>\n      <td>36.0</td>\n      <td>117.0</td>\n      <td>4.39</td>\n      <td>7.18</td>\n      <td>CB</td>\n      <td>D</td>\n      <td>S</td>\n      <td>8.0</td>\n    </tr>\n    <tr>\n      <th>37</th>\n      <td>71.1</td>\n      <td>205</td>\n      <td>9.50</td>\n      <td>32.00</td>\n      <td>4.47</td>\n      <td>16.0</td>\n      <td>NaN</td>\n      <td>126.0</td>\n      <td>NaN</td>\n      <td>NaN</td>\n      <td>CB</td>\n      <td>D</td>\n      <td>S</td>\n      <td>2.0</td>\n    </tr>\n    <tr>\n      <th>53</th>\n      <td>71.4</td>\n      <td>192</td>\n      <td>9.38</td>\n      <td>32.00</td>\n      <td>4.72</td>\n      <td>13.0</td>\n      <td>38.0</td>\n      <td>111.0</td>\n      <td>NaN</td>\n      <td>7.10</td>\n      <td>CB</td>\n      <td>D</td>\n      <td>S</td>\n      <td>8.0</td>\n    </tr>\n    <tr>\n      <th>55</th>\n      <td>73.5</td>\n      <td>197</td>\n      <td>9.50</td>\n      <td>30.75</td>\n      <td>4.47</td>\n      <td>NaN</td>\n      <td>39.0</td>\n      <td>125.0</td>\n      <td>3.94</td>\n      <td>6.34</td>\n      <td>CB</td>\n      <td>D</td>\n      <td>S</td>\n      <td>8.0</td>\n    </tr>\n  </tbody>\n</table>\n</div>"
     },
     "execution_count": 91,
     "metadata": {},
     "output_type": "execute_result"
    }
   ],
   "source": [
    "metrics_cols = ['height (in)', 'weight (lbs)', 'hand size (in)', 'arm length (in)',\n",
    "       '40 yard', 'bench press', 'vert leap (in)', 'broad jump (in)',\n",
    "       'shuttle', '3cone']\n",
    "\n",
    "# See count of records by number of missing metrics values\n",
    "# 10 total metrics values, drop if they don't have at least 8\n",
    "print('\\n Missing metrics per row')\n",
    "print(df_merged[metrics_cols].isna().sum(axis=1).value_counts())\n",
    "df_merged.dropna(axis=0, thresh=7,\n",
    "                 subset=metrics_cols, inplace=True)\n",
    "print('\\nRemaining missing metrics by row')\n",
    "print(df_merged[metrics_cols].isna().sum(axis=1).value_counts())\n",
    "\n",
    "df_merged.head(10)"
   ],
   "metadata": {
    "collapsed": false,
    "pycharm": {
     "name": "#%%\n"
    }
   }
  },
  {
   "cell_type": "code",
   "execution_count": 92,
   "outputs": [
    {
     "data": {
      "text/plain": "Index(['height (in)', 'weight (lbs)', 'hand size (in)', 'arm length (in)',\n       '40 yard', 'bench press', 'vert leap (in)', 'broad jump (in)',\n       'shuttle', '3cone', 'pos_group', 'offense_defense', 'line_or_skill',\n       'round'],\n      dtype='object')"
     },
     "execution_count": 92,
     "metadata": {},
     "output_type": "execute_result"
    }
   ],
   "source": [
    "df_merged.columns\n"
   ],
   "metadata": {
    "collapsed": false,
    "pycharm": {
     "name": "#%%\n"
    }
   }
  },
  {
   "cell_type": "markdown",
   "source": [
    "## Impute missing values based on average of players with same position\n"
   ],
   "metadata": {
    "collapsed": false,
    "pycharm": {
     "name": "#%% md\n"
    }
   }
  },
  {
   "cell_type": "code",
   "execution_count": 93,
   "outputs": [
    {
     "name": "stdout",
     "output_type": "stream",
     "text": [
      "    height (in)  weight (lbs)  hand size (in)  arm length (in)  40 yard  \\\n",
      "2          74.4           206           10.00            33.00     4.59   \n",
      "4          69.4           175            8.50            30.00     4.46   \n",
      "7          69.9           199           10.00            31.13     4.48   \n",
      "8          73.0           192             NaN              NaN     4.43   \n",
      "10         71.0           178             NaN              NaN     4.50   \n",
      "22         69.9           204            9.13            30.50     4.60   \n",
      "29         71.4           202            9.13            30.50     4.55   \n",
      "37         71.1           205            9.50            32.00     4.47   \n",
      "53         71.4           192            9.38            32.00     4.72   \n",
      "55         73.5           197            9.50            30.75     4.47   \n",
      "\n",
      "    bench press  vert leap (in)  broad jump (in)  shuttle  3cone pos_group  \\\n",
      "2           NaN            34.0            123.0     4.15   7.18        CB   \n",
      "4          17.0            35.0            119.0     4.14   7.03        CB   \n",
      "7          16.0            37.5            116.0     4.04   6.81        CB   \n",
      "8           NaN            38.5            124.0     3.99   6.70        CB   \n",
      "10          NaN            34.5            122.0     4.20   6.87        CB   \n",
      "22         14.0            36.0            116.0     4.01   6.93        CB   \n",
      "29         14.0            36.0            117.0     4.39   7.18        CB   \n",
      "37         16.0             NaN            126.0      NaN    NaN        CB   \n",
      "53         13.0            38.0            111.0      NaN   7.10        CB   \n",
      "55          NaN            39.0            125.0     3.94   6.34        CB   \n",
      "\n",
      "   offense_defense line_or_skill  round  \n",
      "2                D             S    8.0  \n",
      "4                D             S    4.0  \n",
      "7                D             S    4.0  \n",
      "8                D             S    2.0  \n",
      "10               D             S    5.0  \n",
      "22               D             S    5.0  \n",
      "29               D             S    8.0  \n",
      "37               D             S    2.0  \n",
      "53               D             S    8.0  \n",
      "55               D             S    8.0  \n",
      "\n",
      "\n",
      "    height (in)  weight (lbs)  hand size (in)  arm length (in)  40 yard  \\\n",
      "2          74.4           206           10.00            33.00     4.59   \n",
      "4          69.4           175            8.50            30.00     4.46   \n",
      "7          69.9           199           10.00            31.13     4.48   \n",
      "8          73.0           192            9.13            31.25     4.43   \n",
      "10         71.0           178            9.13            31.25     4.50   \n",
      "22         69.9           204            9.13            30.50     4.60   \n",
      "29         71.4           202            9.13            30.50     4.55   \n",
      "37         71.1           205            9.50            32.00     4.47   \n",
      "53         71.4           192            9.38            32.00     4.72   \n",
      "55         73.5           197            9.50            30.75     4.47   \n",
      "\n",
      "    bench press  vert leap (in)  broad jump (in)  shuttle  3cone pos_group  \\\n",
      "2          14.0            34.0            123.0     4.15   7.18        CB   \n",
      "4          17.0            35.0            119.0     4.14   7.03        CB   \n",
      "7          16.0            37.5            116.0     4.04   6.81        CB   \n",
      "8          14.0            38.5            124.0     3.99   6.70        CB   \n",
      "10         14.0            34.5            122.0     4.20   6.87        CB   \n",
      "22         14.0            36.0            116.0     4.01   6.93        CB   \n",
      "29         14.0            36.0            117.0     4.39   7.18        CB   \n",
      "37         16.0            35.5            126.0     4.20   6.95        CB   \n",
      "53         13.0            38.0            111.0     4.20   7.10        CB   \n",
      "55         14.0            39.0            125.0     3.94   6.34        CB   \n",
      "\n",
      "   offense_defense line_or_skill  round  \n",
      "2                D             S    8.0  \n",
      "4                D             S    4.0  \n",
      "7                D             S    4.0  \n",
      "8                D             S    2.0  \n",
      "10               D             S    5.0  \n",
      "22               D             S    5.0  \n",
      "29               D             S    8.0  \n",
      "37               D             S    2.0  \n",
      "53               D             S    8.0  \n",
      "55               D             S    8.0  \n"
     ]
    }
   ],
   "source": [
    "print(df_merged.head(10))\n",
    "\n",
    "df_merged = clean_data.group_imputer(\n",
    "    df=df_merged,\n",
    "    grouping_col='pos_group',\n",
    "    cols_to_impute=metrics_cols)\n",
    "\n",
    "print('\\n')\n",
    "print(df_merged.head(10))"
   ],
   "metadata": {
    "collapsed": false,
    "pycharm": {
     "name": "#%%\n"
    }
   }
  },
  {
   "cell_type": "code",
   "execution_count": 93,
   "outputs": [],
   "source": [],
   "metadata": {
    "collapsed": false,
    "pycharm": {
     "name": "#%%\n"
    }
   }
  },
  {
   "cell_type": "markdown",
   "source": [
    "## Begin Modeling\n"
   ],
   "metadata": {
    "collapsed": false
   }
  },
  {
   "cell_type": "markdown",
   "source": [
    "### Imports for modeling"
   ],
   "metadata": {
    "collapsed": false
   }
  },
  {
   "cell_type": "code",
   "execution_count": 108,
   "outputs": [],
   "source": [
    "from sklearn.model_selection import train_test_split\n",
    "\n",
    "# encoders\n",
    "from category_encoders import OneHotEncoder, OrdinalEncoder\n",
    "from sklearn.impute import SimpleImputer\n",
    "from sklearn.preprocessing import StandardScaler\n",
    "\n",
    "#metrics\n",
    "from sklearn.metrics import accuracy_score, precision_score\n",
    "from sklearn.metrics import classification_report, roc_auc_score, confusion_matrix, plot_confusion_matrix\n",
    "from sklearn.metrics import ConfusionMatrixDisplay\n",
    "\n",
    "#pipeline\n",
    "from sklearn.pipeline import make_pipeline\n",
    "\n",
    "# machine learning\n",
    "from sklearn.linear_model import LogisticRegression, RidgeClassifierCV\n",
    "from sklearn.ensemble import RandomForestClassifier\n",
    "from sklearn.tree import DecisionTreeClassifier\n",
    "from sklearn.model_selection import RandomizedSearchCV\n",
    "\n",
    "# Boosted Models\n",
    "# Use this one if you have an M1 chip.\n",
    "from sklearn.ensemble import GradientBoostingClassifier\n",
    "from xgboost import XGBClassifier\n",
    "\n",
    "# Permutation Importance\n",
    "from sklearn.inspection import permutation_importance\n",
    "\n",
    "# for displaying images and html\n",
    "from IPython.display import Image\n",
    "from IPython.core.display import HTML\n"
   ],
   "metadata": {
    "collapsed": false,
    "pycharm": {
     "name": "#%%\n"
    }
   }
  },
  {
   "cell_type": "markdown",
   "source": [
    "### Split data"
   ],
   "metadata": {
    "collapsed": false
   }
  },
  {
   "cell_type": "code",
   "execution_count": 95,
   "outputs": [
    {
     "name": "stdout",
     "output_type": "stream",
     "text": [
      "X_train shape: (636, 13) X_test shape: (159, 13)\n"
     ]
    }
   ],
   "source": [
    "target = 'round'\n",
    "X = df_merged.drop(columns=target)\n",
    "y = df_merged[target]\n",
    "\n",
    "X_train, X_test, y_train, y_test = train_test_split(X, y,\n",
    "                                                    test_size=.2,\n",
    "                                                    random_state=42)\n",
    "\n",
    "print(f'X_train shape: {X_train.shape} X_test shape: {X_test.shape}')"
   ],
   "metadata": {
    "collapsed": false,
    "pycharm": {
     "name": "#%%\n"
    }
   }
  },
  {
   "cell_type": "markdown",
   "source": [
    "## Baseline Accuracy"
   ],
   "metadata": {
    "collapsed": false,
    "pycharm": {
     "name": "#%% md\n"
    }
   }
  },
  {
   "cell_type": "code",
   "execution_count": 96,
   "outputs": [
    {
     "data": {
      "text/plain": "0.5484276729559748"
     },
     "execution_count": 96,
     "metadata": {},
     "output_type": "execute_result"
    }
   ],
   "source": [
    "baseline = y.value_counts(normalize=True).max()\n",
    "baseline\n"
   ],
   "metadata": {
    "collapsed": false,
    "pycharm": {
     "name": "#%%\n"
    }
   }
  },
  {
   "cell_type": "markdown",
   "source": [
    "## Build Random Forest Model/Pipeline"
   ],
   "metadata": {
    "collapsed": false,
    "pycharm": {
     "name": "#%% md\n"
    }
   }
  },
  {
   "cell_type": "code",
   "execution_count": 97,
   "outputs": [
    {
     "name": "stdout",
     "output_type": "stream",
     "text": [
      "Fitting 5 folds for each of 25 candidates, totalling 125 fits\n"
     ]
    },
    {
     "data": {
      "text/plain": "RandomizedSearchCV(cv=5,\n                   estimator=Pipeline(steps=[('ordinalencoder',\n                                              OrdinalEncoder(cols=['pos_group',\n                                                                   'offense_defense',\n                                                                   'line_or_skill'],\n                                                             mapping=[{'col': 'pos_group',\n                                                                       'data_type': dtype('O'),\n                                                                       'mapping': CB     1\nNaN   -2\ndtype: int64},\n                                                                      {'col': 'offense_defense',\n                                                                       'data_type': dtype('O'),\n                                                                       'mapping': D      1\nNaN   -2\ndtype: int64},\n                                                                      {'col': 'line_or_skill',\n                                                                       'data_type': dtype('O'),\n                                                                       'mapping...\n                                              RandomForestClassifier(random_state=42))]),\n                   n_iter=25, n_jobs=8,\n                   param_distributions={'randomforestclassifier__bootstrap': [True,\n                                                                              False],\n                                        'randomforestclassifier__max_depth': range(3, 50, 5),\n                                        'randomforestclassifier__n_estimators': range(10, 2000, 10),\n                                        'randomforestclassifier__warm_start': [True,\n                                                                               False],\n                                        'simpleimputer__strategy': ['mean',\n                                                                    'most_frequent']},\n                   verbose=1)"
     },
     "execution_count": 97,
     "metadata": {},
     "output_type": "execute_result"
    }
   ],
   "source": [
    "# Base Model\n",
    "model_rf = make_pipeline(\n",
    "    OrdinalEncoder(),\n",
    "    SimpleImputer(),\n",
    "    RandomForestClassifier(random_state=42)\n",
    ")\n",
    "\n",
    "# Parameter distributions for hyperparameter tuning\n",
    "# Note double underscores __ in keys below\n",
    "param_distributions = {\n",
    "    'simpleimputer__strategy': ['mean', 'most_frequent'],\n",
    "    'randomforestclassifier__max_depth': range(3,50,5),\n",
    "    'randomforestclassifier__n_estimators': range(10,2000, 10),\n",
    "    'randomforestclassifier__bootstrap': [True, False],\n",
    "    'randomforestclassifier__warm_start': [True, False]\n",
    "}\n",
    "\n",
    "tuned_rf = RandomizedSearchCV(\n",
    "    model_rf,\n",
    "    param_distributions=param_distributions,\n",
    "    n_iter=25,\n",
    "    cv=5,\n",
    "    verbose=1,\n",
    "    n_jobs=8\n",
    ")\n",
    "\n",
    "model_rf.fit(X_train, y_train)\n",
    "tuned_rf.fit(X_train, y_train)\n"
   ],
   "metadata": {
    "collapsed": false,
    "pycharm": {
     "name": "#%%\n"
    }
   }
  },
  {
   "cell_type": "markdown",
   "source": [
    "### Evaluate Random Forest Model/Pipeline"
   ],
   "metadata": {
    "collapsed": false
   }
  },
  {
   "cell_type": "code",
   "execution_count": 109,
   "outputs": [
    {
     "name": "stdout",
     "output_type": "stream",
     "text": [
      "Tuned RF training best score:  0.5393085629921259\n",
      "Tuned RF best parameters:  {'simpleimputer__strategy': 'mean', 'randomforestclassifier__warm_start': True, 'randomforestclassifier__n_estimators': 1850, 'randomforestclassifier__max_depth': 3, 'randomforestclassifier__bootstrap': True}\n",
      "Random Forest Training Accuracy 1.0\n",
      "Random Forest Validation Accuracy 0.5534591194968553\n"
     ]
    },
    {
     "data": {
      "text/plain": "<sklearn.metrics._plot.confusion_matrix.ConfusionMatrixDisplay at 0x20ffdf9ed90>"
     },
     "execution_count": 109,
     "metadata": {},
     "output_type": "execute_result"
    },
    {
     "data": {
      "text/plain": "<Figure size 432x288 with 2 Axes>",
      "image/png": "[encoded data removed]"
     },
     "metadata": {
      "needs_background": "light"
     },
     "output_type": "display_data"
    }
   ],
   "source": [
    "print('Tuned RF training best score: ', tuned_rf.best_score_)\n",
    "print('Tuned RF best parameters: ', tuned_rf.best_params_)\n",
    "\n",
    "print('Random Forest Training Accuracy', model_rf.score(X_train, y_train))\n",
    "print('Random Forest Validation Accuracy', model_rf.score(X_test, y_test))\n",
    "X_train\n",
    "\n",
    "#y_pred = tuned_rf.predict()\n",
    "\n",
    "conf_matrix = confusion_matrix(y_true=y_test, y_pred=tuned_rf.predict(X_test))\n",
    "display = ConfusionMatrixDisplay(confusion_matrix=conf_matrix)\n",
    "display.plot()"
   ],
   "metadata": {
    "collapsed": false,
    "pycharm": {
     "name": "#%%\n"
    }
   }
  },
  {
   "cell_type": "markdown",
   "source": [
    "### Get Permutation importances for model"
   ],
   "metadata": {
    "collapsed": false,
    "pycharm": {
     "name": "#%% md\n"
    }
   }
  },
  {
   "cell_type": "code",
   "execution_count": 99,
   "outputs": [
    {
     "data": {
      "text/plain": "<Figure size 432x288 with 1 Axes>",
      "image/png": "[encoded data removed]"
     },
     "metadata": {
      "needs_background": "light"
     },
     "output_type": "display_data"
    }
   ],
   "source": [
    "importances = model_rf.named_steps['randomforestclassifier'].feature_importances_\n",
    "\n",
    "gini_imp = pd.DataFrame(data=importances, index=X_test.columns, columns=['gini_impurity']).sort_values(by='gini_impurity')\n",
    "\n",
    "gini_imp.tail(10).plot(kind='barh');\n",
    "\n"
   ],
   "metadata": {
    "collapsed": false,
    "pycharm": {
     "name": "#%%\n"
    }
   }
  },
  {
   "cell_type": "markdown",
   "source": [
    "## Build XGBoost Model/Pipeline"
   ],
   "metadata": {
    "collapsed": false
   }
  },
  {
   "cell_type": "code",
   "execution_count": 110,
   "outputs": [
    {
     "data": {
      "text/plain": "Pipeline(steps=[('ordinalencoder',\n                 OrdinalEncoder(cols=['pos_group', 'offense_defense',\n                                      'line_or_skill'],\n                                mapping=[{'col': 'pos_group',\n                                          'data_type': dtype('O'),\n                                          'mapping': CB     1\nNaN   -2\ndtype: int64},\n                                         {'col': 'offense_defense',\n                                          'data_type': dtype('O'),\n                                          'mapping': D      1\nNaN   -2\ndtype: int64},\n                                         {'col': 'line_or_skill',\n                                          'data_type': dtype('O'),\n                                          'mapping': S      1\nNaN   -2\ndtype: int64}])),\n                ('simpleimputer', SimpleImputer()),\n                ('gradientboostingclassifier',\n                 GradientBoostingClassifier(max_depth=4, n_estimators=500,\n                                            random_state=42, subsample=1))])"
     },
     "execution_count": 110,
     "metadata": {},
     "output_type": "execute_result"
    }
   ],
   "source": [
    "model_xgb = make_pipeline(\n",
    "    OrdinalEncoder(),\n",
    "    SimpleImputer(),\n",
    "    GradientBoostingClassifier(\n",
    "        loss='deviance',\n",
    "        # learning_rate=0.1,\n",
    "        n_estimators=500,\n",
    "        subsample=1,\n",
    "        max_depth=4,\n",
    "        random_state=42\n",
    "    )\n",
    ")\n",
    "\n",
    "model_xgb.fit(X_train, y_train)"
   ],
   "metadata": {
    "collapsed": false,
    "pycharm": {
     "name": "#%%\n"
    }
   }
  },
  {
   "cell_type": "markdown",
   "source": [
    "### Evaluate XGBoost Model/Pipeline"
   ],
   "metadata": {
    "collapsed": false
   }
  },
  {
   "cell_type": "code",
   "execution_count": 112,
   "outputs": [
    {
     "name": "stdout",
     "output_type": "stream",
     "text": [
      "XGBoost Forest Training Accuracy 1.0\n",
      "XGBoost Forest Validation Accuracy 0.4716981132075472\n"
     ]
    },
    {
     "data": {
      "text/plain": "<sklearn.metrics._plot.confusion_matrix.ConfusionMatrixDisplay at 0x20ff9040850>"
     },
     "execution_count": 112,
     "metadata": {},
     "output_type": "execute_result"
    },
    {
     "data": {
      "text/plain": "<Figure size 432x288 with 2 Axes>",
      "image/png": "[encoded data removed]"
     },
     "metadata": {
      "needs_background": "light"
     },
     "output_type": "display_data"
    }
   ],
   "source": [
    "print('XGBoost Forest Training Accuracy', model_xgb.score(X_train, y_train))\n",
    "print('XGBoost Forest Validation Accuracy', model_xgb.score(X_test, y_test))\n",
    "\n",
    "conf_matrix = confusion_matrix(y_true=y_test, y_pred=model_xgb.predict(X_test))\n",
    "display = ConfusionMatrixDisplay(confusion_matrix=conf_matrix,\n",
    "                                 display_labels=model_xgb.classes_)\n",
    "display.plot()"
   ],
   "metadata": {
    "collapsed": false,
    "pycharm": {
     "name": "#%%\n"
    }
   }
  },
  {
   "cell_type": "markdown",
   "source": [
    "## Build Ridge Regression Model/Pipeline"
   ],
   "metadata": {
    "collapsed": false
   }
  },
  {
   "cell_type": "code",
   "execution_count": 102,
   "outputs": [
    {
     "data": {
      "text/plain": "Pipeline(steps=[('onehotencoder',\n                 OneHotEncoder(cols=['pos_group', 'offense_defense',\n                                     'line_or_skill'])),\n                ('simpleimputer', SimpleImputer()),\n                ('ridgeclassifiercv',\n                 RidgeClassifierCV(alphas=array([ 0.1,  1. , 10. ]), cv=5))])"
     },
     "execution_count": 102,
     "metadata": {},
     "output_type": "execute_result"
    }
   ],
   "source": [
    "# very similar to RandomForest\n",
    "model_ridge = make_pipeline(\n",
    "    OneHotEncoder(),\n",
    "    SimpleImputer(),\n",
    "    RidgeClassifierCV(cv=5)\n",
    ")\n",
    "\n",
    "model_ridge.fit(X_train, y_train)"
   ],
   "metadata": {
    "collapsed": false,
    "pycharm": {
     "name": "#%%\n"
    }
   }
  },
  {
   "cell_type": "markdown",
   "source": [
    "### Evaluate Ridge Regression Model/Pipeline"
   ],
   "metadata": {
    "collapsed": false
   }
  },
  {
   "cell_type": "code",
   "execution_count": 103,
   "outputs": [
    {
     "name": "stdout",
     "output_type": "stream",
     "text": [
      "Ridge Regression Training Accuracy 0.5377358490566038\n",
      "Ridge Regression Validation Accuracy 0.5849056603773585\n"
     ]
    }
   ],
   "source": [
    "print('Ridge Regression Training Accuracy', model_ridge.score(X_train, y_train))\n",
    "print('Ridge Regression Validation Accuracy', model_ridge.score(X_test, y_test))\n",
    "\n",
    "# model_ridge.named_steps.ridgeclassifiercv.coef_"
   ],
   "metadata": {
    "collapsed": false,
    "pycharm": {
     "name": "#%%\n"
    }
   }
  },
  {
   "cell_type": "code",
   "execution_count": 103,
   "outputs": [],
   "source": [],
   "metadata": {
    "collapsed": false,
    "pycharm": {
     "name": "#%%\n"
    }
   }
  },
  {
   "cell_type": "markdown",
   "source": [
    "# Module 4 Work\n",
    "(10/14/2021)\n",
    "\n",
    "* Make at least 1 partial dependence plot to explain your model.\n",
    "* Make at least 1 Shapley force plot to explain an individual prediction.\n",
    "* Share at least 1 visualization (of any type) on Slack!\n"
   ],
   "metadata": {
    "collapsed": false,
    "pycharm": {
     "name": "#%% md\n"
    }
   }
  },
  {
   "cell_type": "markdown",
   "source": [
    "### imports"
   ],
   "metadata": {
    "collapsed": false
   }
  },
  {
   "cell_type": "code",
   "execution_count": 103,
   "outputs": [],
   "source": [],
   "metadata": {
    "collapsed": false,
    "pycharm": {
     "name": "#%%\n"
    }
   }
  },
  {
   "cell_type": "code",
   "execution_count": 103,
   "outputs": [],
   "source": [],
   "metadata": {
    "collapsed": false,
    "pycharm": {
     "name": "#%%\n"
    }
   }
  }
 ],
 "metadata": {
  "kernelspec": {
   "name": "pycharm-437d00df",
   "language": "python",
   "display_name": "PyCharm (nfl_combine_draft)"
  },
  "language_info": {
   "codemirror_mode": {
    "name": "ipython",
    "version": 2
   },
   "file_extension": ".py",
   "mimetype": "text/x-python",
   "name": "python",
   "nbconvert_exporter": "python",
   "pygments_lexer": "ipython2",
   "version": "2.7.6"
  }
 },
 "nbformat": 4,
 "nbformat_minor": 0
}