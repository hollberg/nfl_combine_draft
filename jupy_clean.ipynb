{
 "cells": [
  {
   "cell_type": "markdown",
   "source": [
    "# Clean Data"
   ],
   "metadata": {
    "collapsed": false
   }
  },
  {
   "cell_type": "markdown",
   "source": [
    "### Imports"
   ],
   "metadata": {
    "collapsed": false,
    "pycharm": {
     "name": "#%% md\n"
    }
   }
  },
  {
   "cell_type": "code",
   "execution_count": 152,
   "outputs": [],
   "source": [
    "import numpy as np\n",
    "import pandas as pd\n"
   ],
   "metadata": {
    "collapsed": false,
    "pycharm": {
     "name": "#%%\n"
    }
   }
  },
  {
   "cell_type": "markdown",
   "source": [
    "## Clean NFL Combine Data"
   ],
   "metadata": {
    "collapsed": false
   }
  },
  {
   "cell_type": "code",
   "execution_count": 153,
   "outputs": [
    {
     "name": "stdout",
     "output_type": "stream",
     "text": [
      "(12808, 15)\n",
      "Cleaned combine size:  (8465, 15)\n"
     ]
    }
   ],
   "source": [
    "combine_file = r'data\\nfl_combine_1987_2020.csv'\n",
    "\n",
    "df_raw_combine = pd.read_csv(combine_file)\n",
    "\n",
    "df_raw_combine.head()\n",
    "\n",
    "# Keep raw data import for reference - build copy to modify\n",
    "df_combine = df_raw_combine\n",
    "\n",
    "# Drop dummy '0' column and Wonderlic scores data\n",
    "combine_cols_to_drop = ['Unnamed: 0', 'Wonderlic']\n",
    "df_combine.drop(columns=combine_cols_to_drop, inplace=True)\n",
    "\n",
    "# Clean column headers\n",
    "df_combine.columns = df_combine.columns.str.lower()\n",
    "df_combine.rename(columns={'college':'school'}, inplace=True)\n",
    "\n",
    "# Clean school names\n",
    "df_combine['school'] = df_combine['school'].str.strip()\n",
    "\n",
    "# Drop years prior to 2000 (no draft data)\n",
    "print(df_combine.shape)\n",
    "df_combine.drop(df_combine[df_combine['year']<2000].index, inplace=True)\n",
    "print('Cleaned combine size: ', df_combine.shape)\n"
   ],
   "metadata": {
    "collapsed": false,
    "pycharm": {
     "name": "#%%\n"
    }
   }
  },
  {
   "cell_type": "markdown",
   "source": [
    "## Clean NFL Draft Data"
   ],
   "metadata": {
    "collapsed": false
   }
  },
  {
   "cell_type": "code",
   "execution_count": 154,
   "outputs": [],
   "source": [
    "draft_file = r'data\\espn_draft_history_2000_2021_cleaned.csv'\n",
    "df_raw_draft = pd.read_csv(draft_file)\n",
    "\n",
    "# Keep raw data import for reference - build copy to modify\n",
    "df_draft = df_raw_draft\n",
    "\n",
    "# Clean column headers\n",
    "df_draft.columns = df_draft.columns.str.lower()\n",
    "\n",
    "# Clean school names\n",
    "df_draft['school'] = df_draft['school'].str.strip()\n"
   ],
   "metadata": {
    "collapsed": false,
    "pycharm": {
     "name": "#%%\n"
    }
   }
  },
  {
   "cell_type": "code",
   "execution_count": 155,
   "outputs": [
    {
     "data": {
      "text/plain": "WR     1095\nCB      864\nRB      700\nDE      657\nDT      647\nOT      618\nOLB     586\nOG      528\nTE      471\nQB      470\nILB     350\nFS      347\nSS      298\nC       253\nFB      175\nP       108\nK        92\nLB       91\nS        53\nLS       22\nEDG      22\nOL       10\nDL        4\nDB        3\nNT        1\nName: pos, dtype: int64"
     },
     "execution_count": 155,
     "metadata": {},
     "output_type": "execute_result"
    }
   ],
   "source": [
    "# combine results by position\n",
    "df_combine['pos'].value_counts()\n"
   ],
   "metadata": {
    "collapsed": false,
    "pycharm": {
     "name": "#%%\n"
    }
   }
  },
  {
   "cell_type": "markdown",
   "source": [
    "### Are there duplicated names?"
   ],
   "metadata": {
    "collapsed": false
   }
  },
  {
   "cell_type": "code",
   "execution_count": 156,
   "outputs": [
    {
     "data": {
      "text/plain": "Brandon Williams    5\nChris Brown         5\nBrian Allen         4\nMike Williams       4\nChris Jones         4\nMichael Bennett     3\nJosh Harris         3\nTravis Wilson       3\nSteve Smith         3\nAndre Smith         3\nName: name, dtype: int64"
     },
     "execution_count": 156,
     "metadata": {},
     "output_type": "execute_result"
    }
   ],
   "source": [
    "df_combine['name'].value_counts(sort='descending').head(10)"
   ],
   "metadata": {
    "collapsed": false,
    "pycharm": {
     "name": "#%%\n"
    }
   }
  },
  {
   "cell_type": "markdown",
   "source": [
    "### Answer: Yes\n",
    "\n",
    "So we cannot simply join the 2 datasets on player 'name' columns. Need to also join on\n",
    "college and year.\n"
   ],
   "metadata": {
    "collapsed": false
   }
  },
  {
   "cell_type": "markdown",
   "source": [
    "## Do college names match in both datasets?"
   ],
   "metadata": {
    "collapsed": false
   }
  },
  {
   "cell_type": "code",
   "execution_count": 157,
   "outputs": [
    {
     "name": "stdout",
     "output_type": "stream",
     "text": [
      "<class 'pandas.core.frame.DataFrame'>\n",
      "               school   source\n",
      "0      Boston College  combine\n",
      "1          Texas Tech  combine\n",
      "2  Jackson State (MS)  combine\n",
      "3      South Carolina  combine\n",
      "4         Wake Forest  combine\n",
      "                       school source_draft source_combine\n",
      "202         Abilene Christian        draft            NaN\n",
      "381    Abilene Christian (TX)          NaN        combine\n",
      "445          Adams State (CO)          NaN        combine\n",
      "345        Alabama-Birmingham          NaN        combine\n",
      "200                    Albany        draft            NaN\n",
      "..                        ...          ...            ...\n",
      "225             Winston-Salem        draft            NaN\n",
      "348  Winston-Salem State (NC)          NaN        combine\n",
      "280          Youngstown State        draft            NaN\n",
      "325     Youngstown State (OH)          NaN        combine\n",
      "103                       NaN        draft        combine\n",
      "\n",
      "[315 rows x 3 columns]\n"
     ]
    }
   ],
   "source": [
    "draft_school = pd.DataFrame(df_draft['school'].unique()).rename(columns={0:'school'})\n",
    "draft_school['source'] = 'draft'\n",
    "combine_school = pd.DataFrame(df_combine['school'].unique()).rename(columns={0:'school'})\n",
    "combine_school['source'] = 'combine'\n",
    "print(type(combine_school))\n",
    "print(combine_school.head())\n",
    "\n",
    "schools = draft_school.merge(combine_school, on='school', how='outer',\n",
    "                             suffixes=['_draft', '_combine']).sort_values(by='school')\n",
    "\n",
    "# List all cases with mismatches\n",
    "na_mask = schools.isna().any(axis=1)\n",
    "print(schools[na_mask])"
   ],
   "metadata": {
    "collapsed": false,
    "pycharm": {
     "name": "#%%\n"
    }
   }
  },
  {
   "cell_type": "markdown",
   "source": [
    "### So we see that the 'combine' dataset frequently has the state appended to the school name;\n",
    "Ex: \"Abilene Christian (TX)\". Remove these from school names, with the exception of \"Miami (OH)."
   ],
   "metadata": {
    "collapsed": false,
    "pycharm": {
     "name": "#%% md\n"
    }
   }
  },
  {
   "cell_type": "code",
   "execution_count": 158,
   "outputs": [
    {
     "name": "stdout",
     "output_type": "stream",
     "text": [
      "4343         Boston College\n",
      "4344             Texas Tech\n",
      "4345     Jackson State (MS)\n",
      "4346         South Carolina\n",
      "4347            Wake Forest\n",
      "4348               Syracuse\n",
      "4349               Colorado\n",
      "4350               Arkansas\n",
      "4351               Oklahoma\n",
      "4352    Arkansas-Pine Bluff\n",
      "4353      Mississippi State\n",
      "4354          West Virginia\n",
      "4355          Marshall (WV)\n",
      "4356               Colorado\n",
      "4357                Arizona\n",
      "4358             Miami (FL)\n",
      "4359                   Iowa\n",
      "4360               Michigan\n",
      "4361             Iowa State\n",
      "4362             Utah State\n",
      "Name: school, dtype: object\n",
      "4343         Boston College\n",
      "4344             Texas Tech\n",
      "4345         Jackson State \n",
      "4346         South Carolina\n",
      "4347            Wake Forest\n",
      "4348               Syracuse\n",
      "4349               Colorado\n",
      "4350               Arkansas\n",
      "4351               Oklahoma\n",
      "4352    Arkansas-Pine Bluff\n",
      "4353      Mississippi State\n",
      "4354          West Virginia\n",
      "4355              Marshall \n",
      "4356               Colorado\n",
      "4357                Arizona\n",
      "4358                 Miami \n",
      "4359                   Iowa\n",
      "4360               Michigan\n",
      "4361             Iowa State\n",
      "4362             Utah State\n",
      "Name: school, dtype: object\n"
     ]
    },
    {
     "name": "stderr",
     "output_type": "stream",
     "text": [
      "C:\\Users\\mitch\\AppData\\Local\\Temp/ipykernel_38680/4032306494.py:1: FutureWarning: The default value of regex will change from True to False in a future version.\n",
      "  df_combine['school'] = df_combine['school'].str.replace('Miami (OH)', 'Miami - OH')\n"
     ]
    }
   ],
   "source": [
    "df_combine['school'] = df_combine['school'].str.replace('Miami (OH)', 'Miami - OH')\n",
    "\n",
    "print(df_combine['school'].head())\n",
    "regex_replace_parens = r'\\([^)]*[a-zA-Z][^)]*\\)'\n",
    "df_combine['school'] = df_combine['school'].str.replace(regex_replace_parens, '', regex=True)\n",
    "\n",
    "print(df_combine['school'].head())\n",
    "\n",
    "# pd.DataFrame(df_combine['school'].unique()).to_clipboard()\n",
    "#\n",
    "# schools2 = df_draft.merge(df_combine,\n",
    "#                           on='school', how='outer',\n",
    "#                           suffixes=['_draft', '_combine']).sort_values(by='school')\n",
    "#\n",
    "# na_mask = schools2.isna().any(axis=1)\n",
    "# schools2[na_mask]\n",
    "# pd.concat([df_combine['school'], df_draft['school']], join='outer')\n",
    "\n",
    "#df_combine.merge(df_draft, how='left', on='school')"
   ],
   "metadata": {
    "collapsed": false,
    "pycharm": {
     "name": "#%%\n"
    }
   }
  },
  {
   "cell_type": "markdown",
   "source": [
    "## Standardize player names between datasets\n",
    "Player names in the \"Draft\" dataset include suffixes including \"Jr., II, III, IV\", but these are NOT included in the \"combine\" dataset.\n",
    "\n",
    "Standardize player names between datasets by removing these values from the \"Draft\" dataset."
   ],
   "metadata": {
    "collapsed": false
   }
  },
  {
   "cell_type": "code",
   "execution_count": 159,
   "outputs": [],
   "source": [
    "regex_suffixes_to_remove = r'Jr\\.$|III$|IIII$|IV$|, Jr.$'\n",
    "df_draft['name'] = df_draft['name'].str.replace(regex_suffixes_to_remove, '', regex=True)\n",
    "\n",
    "# df_draft['name'].to_clipboard()\n",
    "\n"
   ],
   "metadata": {
    "collapsed": false,
    "pycharm": {
     "name": "#%%\n"
    }
   }
  },
  {
   "cell_type": "markdown",
   "source": [
    "Merge the Draft and NFL Combine datasets"
   ],
   "metadata": {
    "collapsed": false
   }
  },
  {
   "cell_type": "code",
   "execution_count": 160,
   "outputs": [
    {
     "data": {
      "text/plain": "   year              name               school  pos  height (in)  \\\n0  2000    Darnell Alford       Boston College   OT         76.0   \n1  2000      Kyle Allamon           Texas Tech   TE         74.5   \n2  2000  Rashard Anderson       Jackson State    CB         74.4   \n3  2000      Corey Atkins       South Carolina  OLB         72.4   \n4  2000     Reggie Austin          Wake Forest   CB         69.4   \n5  2000    Mark Baniewicz             Syracuse   OT         77.9   \n6  2000    Rashidi Barnes             Colorado   FS         71.6   \n7  2000     David Barrett             Arkansas   CB         69.9   \n8  2000    William Bartee             Oklahoma   CB         73.0   \n9  2000  Terrance Beadles  Arkansas-Pine Bluff   OG         74.9   \n\n   weight (lbs)  hand size (in)  arm length (in)  40 yard  bench press  \\\n0           334           10.50            34.00     5.58         23.0   \n1           253            9.88            31.00     5.01          NaN   \n2           206           10.00            33.00     4.59          NaN   \n3           237            9.75            31.88     4.76         21.0   \n4           175            8.50            30.00     4.46         17.0   \n5           312            9.25            32.75     5.36         20.0   \n6           208            9.50            32.00     4.63         10.0   \n7           199           10.00            31.13     4.48         16.0   \n8           192             NaN              NaN     4.43          NaN   \n9           312           10.13            33.00     5.21         29.0   \n\n   vert leap (in)  broad jump (in)  shuttle  3cone  60yd shuttle  round  \\\n0            25.0             94.0     4.98   8.48           NaN    6.0   \n1            29.0            104.0     4.49   7.29         12.47    NaN   \n2            34.0            123.0     4.15   7.18         11.72    NaN   \n3            31.0            112.0     4.39   7.96         11.87    NaN   \n4            35.0            119.0     4.14   7.03           NaN    4.0   \n5            28.0             96.0     4.73   7.72           NaN    7.0   \n6            35.0            114.0     4.32   6.92         11.35    7.0   \n7            37.5            116.0     4.04   6.81         10.77    4.0   \n8            38.5            124.0     3.99   6.70           NaN    2.0   \n9             NaN              NaN      NaN    NaN           NaN    NaN   \n\n   pk(ovr)       team position  \n0  22(188)     Chiefs       OT  \n1      NaN        NaN      NaN  \n2      NaN        NaN      NaN  \n3      NaN        NaN      NaN  \n4  31(125)      Bears       DB  \n5  41(247)    Jaguars       OT  \n6  19(225)     Browns       DB  \n7   8(102)  Cardinals       DB  \n8   23(54)     Chiefs       DB  \n9      NaN        NaN      NaN  ",
      "text/html": "<div>\n<style scoped>\n    .dataframe tbody tr th:only-of-type {\n        vertical-align: middle;\n    }\n\n    .dataframe tbody tr th {\n        vertical-align: top;\n    }\n\n    .dataframe thead th {\n        text-align: right;\n    }\n</style>\n<table border=\"1\" class=\"dataframe\">\n  <thead>\n    <tr style=\"text-align: right;\">\n      <th></th>\n      <th>year</th>\n      <th>name</th>\n      <th>school</th>\n      <th>pos</th>\n      <th>height (in)</th>\n      <th>weight (lbs)</th>\n      <th>hand size (in)</th>\n      <th>arm length (in)</th>\n      <th>40 yard</th>\n      <th>bench press</th>\n      <th>vert leap (in)</th>\n      <th>broad jump (in)</th>\n      <th>shuttle</th>\n      <th>3cone</th>\n      <th>60yd shuttle</th>\n      <th>round</th>\n      <th>pk(ovr)</th>\n      <th>team</th>\n      <th>position</th>\n    </tr>\n  </thead>\n  <tbody>\n    <tr>\n      <th>0</th>\n      <td>2000</td>\n      <td>Darnell Alford</td>\n      <td>Boston College</td>\n      <td>OT</td>\n      <td>76.0</td>\n      <td>334</td>\n      <td>10.50</td>\n      <td>34.00</td>\n      <td>5.58</td>\n      <td>23.0</td>\n      <td>25.0</td>\n      <td>94.0</td>\n      <td>4.98</td>\n      <td>8.48</td>\n      <td>NaN</td>\n      <td>6.0</td>\n      <td>22(188)</td>\n      <td>Chiefs</td>\n      <td>OT</td>\n    </tr>\n    <tr>\n      <th>1</th>\n      <td>2000</td>\n      <td>Kyle Allamon</td>\n      <td>Texas Tech</td>\n      <td>TE</td>\n      <td>74.5</td>\n      <td>253</td>\n      <td>9.88</td>\n      <td>31.00</td>\n      <td>5.01</td>\n      <td>NaN</td>\n      <td>29.0</td>\n      <td>104.0</td>\n      <td>4.49</td>\n      <td>7.29</td>\n      <td>12.47</td>\n      <td>NaN</td>\n      <td>NaN</td>\n      <td>NaN</td>\n      <td>NaN</td>\n    </tr>\n    <tr>\n      <th>2</th>\n      <td>2000</td>\n      <td>Rashard Anderson</td>\n      <td>Jackson State</td>\n      <td>CB</td>\n      <td>74.4</td>\n      <td>206</td>\n      <td>10.00</td>\n      <td>33.00</td>\n      <td>4.59</td>\n      <td>NaN</td>\n      <td>34.0</td>\n      <td>123.0</td>\n      <td>4.15</td>\n      <td>7.18</td>\n      <td>11.72</td>\n      <td>NaN</td>\n      <td>NaN</td>\n      <td>NaN</td>\n      <td>NaN</td>\n    </tr>\n    <tr>\n      <th>3</th>\n      <td>2000</td>\n      <td>Corey Atkins</td>\n      <td>South Carolina</td>\n      <td>OLB</td>\n      <td>72.4</td>\n      <td>237</td>\n      <td>9.75</td>\n      <td>31.88</td>\n      <td>4.76</td>\n      <td>21.0</td>\n      <td>31.0</td>\n      <td>112.0</td>\n      <td>4.39</td>\n      <td>7.96</td>\n      <td>11.87</td>\n      <td>NaN</td>\n      <td>NaN</td>\n      <td>NaN</td>\n      <td>NaN</td>\n    </tr>\n    <tr>\n      <th>4</th>\n      <td>2000</td>\n      <td>Reggie Austin</td>\n      <td>Wake Forest</td>\n      <td>CB</td>\n      <td>69.4</td>\n      <td>175</td>\n      <td>8.50</td>\n      <td>30.00</td>\n      <td>4.46</td>\n      <td>17.0</td>\n      <td>35.0</td>\n      <td>119.0</td>\n      <td>4.14</td>\n      <td>7.03</td>\n      <td>NaN</td>\n      <td>4.0</td>\n      <td>31(125)</td>\n      <td>Bears</td>\n      <td>DB</td>\n    </tr>\n    <tr>\n      <th>5</th>\n      <td>2000</td>\n      <td>Mark Baniewicz</td>\n      <td>Syracuse</td>\n      <td>OT</td>\n      <td>77.9</td>\n      <td>312</td>\n      <td>9.25</td>\n      <td>32.75</td>\n      <td>5.36</td>\n      <td>20.0</td>\n      <td>28.0</td>\n      <td>96.0</td>\n      <td>4.73</td>\n      <td>7.72</td>\n      <td>NaN</td>\n      <td>7.0</td>\n      <td>41(247)</td>\n      <td>Jaguars</td>\n      <td>OT</td>\n    </tr>\n    <tr>\n      <th>6</th>\n      <td>2000</td>\n      <td>Rashidi Barnes</td>\n      <td>Colorado</td>\n      <td>FS</td>\n      <td>71.6</td>\n      <td>208</td>\n      <td>9.50</td>\n      <td>32.00</td>\n      <td>4.63</td>\n      <td>10.0</td>\n      <td>35.0</td>\n      <td>114.0</td>\n      <td>4.32</td>\n      <td>6.92</td>\n      <td>11.35</td>\n      <td>7.0</td>\n      <td>19(225)</td>\n      <td>Browns</td>\n      <td>DB</td>\n    </tr>\n    <tr>\n      <th>7</th>\n      <td>2000</td>\n      <td>David Barrett</td>\n      <td>Arkansas</td>\n      <td>CB</td>\n      <td>69.9</td>\n      <td>199</td>\n      <td>10.00</td>\n      <td>31.13</td>\n      <td>4.48</td>\n      <td>16.0</td>\n      <td>37.5</td>\n      <td>116.0</td>\n      <td>4.04</td>\n      <td>6.81</td>\n      <td>10.77</td>\n      <td>4.0</td>\n      <td>8(102)</td>\n      <td>Cardinals</td>\n      <td>DB</td>\n    </tr>\n    <tr>\n      <th>8</th>\n      <td>2000</td>\n      <td>William Bartee</td>\n      <td>Oklahoma</td>\n      <td>CB</td>\n      <td>73.0</td>\n      <td>192</td>\n      <td>NaN</td>\n      <td>NaN</td>\n      <td>4.43</td>\n      <td>NaN</td>\n      <td>38.5</td>\n      <td>124.0</td>\n      <td>3.99</td>\n      <td>6.70</td>\n      <td>NaN</td>\n      <td>2.0</td>\n      <td>23(54)</td>\n      <td>Chiefs</td>\n      <td>DB</td>\n    </tr>\n    <tr>\n      <th>9</th>\n      <td>2000</td>\n      <td>Terrance Beadles</td>\n      <td>Arkansas-Pine Bluff</td>\n      <td>OG</td>\n      <td>74.9</td>\n      <td>312</td>\n      <td>10.13</td>\n      <td>33.00</td>\n      <td>5.21</td>\n      <td>29.0</td>\n      <td>NaN</td>\n      <td>NaN</td>\n      <td>NaN</td>\n      <td>NaN</td>\n      <td>NaN</td>\n      <td>NaN</td>\n      <td>NaN</td>\n      <td>NaN</td>\n      <td>NaN</td>\n    </tr>\n  </tbody>\n</table>\n</div>"
     },
     "execution_count": 160,
     "metadata": {},
     "output_type": "execute_result"
    }
   ],
   "source": [
    "df_merged = df_combine.merge(df_draft, how='left',\n",
    "                             on=['name', 'school', 'year'])\n",
    "\n",
    "df_merged.head(10)\n",
    "\n",
    "# df_merged.to_clipboard()"
   ],
   "metadata": {
    "collapsed": false,
    "pycharm": {
     "name": "#%%\n"
    }
   }
  },
  {
   "cell_type": "markdown",
   "source": [
    "## Investigate merged data"
   ],
   "metadata": {
    "collapsed": false,
    "pycharm": {
     "name": "#%% md\n"
    }
   }
  },
  {
   "cell_type": "code",
   "execution_count": 161,
   "outputs": [
    {
     "name": "stdout",
     "output_type": "stream",
     "text": [
      "<class 'pandas.core.frame.DataFrame'>\n",
      "Int64Index: 8465 entries, 0 to 8464\n",
      "Data columns (total 19 columns):\n",
      " #   Column           Non-Null Count  Dtype  \n",
      "---  ------           --------------  -----  \n",
      " 0   year             8465 non-null   int64  \n",
      " 1   name             8465 non-null   object \n",
      " 2   school           8462 non-null   object \n",
      " 3   pos              8465 non-null   object \n",
      " 4   height (in)      8465 non-null   float64\n",
      " 5   weight (lbs)     8465 non-null   int64  \n",
      " 6   hand size (in)   7639 non-null   float64\n",
      " 7   arm length (in)  7638 non-null   float64\n",
      " 8   40 yard          7922 non-null   float64\n",
      " 9   bench press      6603 non-null   float64\n",
      " 10  vert leap (in)   7503 non-null   float64\n",
      " 11  broad jump (in)  7400 non-null   float64\n",
      " 12  shuttle          6929 non-null   float64\n",
      " 13  3cone            6827 non-null   float64\n",
      " 14  60yd shuttle     1370 non-null   float64\n",
      " 15  round            3612 non-null   float64\n",
      " 16  pk(ovr)          3612 non-null   object \n",
      " 17  team             3599 non-null   object \n",
      " 18  position         3612 non-null   object \n",
      "dtypes: float64(11), int64(2), object(6)\n",
      "memory usage: 1.3+ MB\n"
     ]
    }
   ],
   "source": [
    "df_merged.info()\n"
   ],
   "metadata": {
    "collapsed": false,
    "pycharm": {
     "name": "#%%\n"
    }
   }
  },
  {
   "cell_type": "code",
   "execution_count": 161,
   "outputs": [],
   "source": [],
   "metadata": {
    "collapsed": false,
    "pycharm": {
     "name": "#%%\n"
    }
   }
  }
 ],
 "metadata": {
  "kernelspec": {
   "display_name": "Python 3",
   "language": "python",
   "name": "python3"
  },
  "language_info": {
   "codemirror_mode": {
    "name": "ipython",
    "version": 2
   },
   "file_extension": ".py",
   "mimetype": "text/x-python",
   "name": "python",
   "nbconvert_exporter": "python",
   "pygments_lexer": "ipython2",
   "version": "2.7.6"
  }
 },
 "nbformat": 4,
 "nbformat_minor": 0
}