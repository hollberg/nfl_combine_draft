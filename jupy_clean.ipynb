{
 "cells": [
  {
   "cell_type": "markdown",
   "source": [
    "# Clean Data"
   ],
   "metadata": {
    "collapsed": false
   }
  },
  {
   "cell_type": "markdown",
   "source": [
    "### Imports"
   ],
   "metadata": {
    "collapsed": false,
    "pycharm": {
     "name": "#%% md\n"
    }
   }
  },
  {
   "cell_type": "code",
   "execution_count": 137,
   "outputs": [],
   "source": [
    "import numpy as np\n",
    "import pandas as pd\n",
    "\n",
    "# visualization\n",
    "import matplotlib.pyplot as plt\n",
    "%matplotlib inline\n",
    "import seaborn as sns\n"
   ],
   "metadata": {
    "collapsed": false,
    "pycharm": {
     "name": "#%%\n"
    }
   }
  },
  {
   "cell_type": "markdown",
   "source": [
    "## Clean NFL Combine Data"
   ],
   "metadata": {
    "collapsed": false
   }
  },
  {
   "cell_type": "code",
   "execution_count": 138,
   "outputs": [
    {
     "name": "stdout",
     "output_type": "stream",
     "text": [
      "(12808, 15)\n",
      "Cleaned combine size:  (8465, 15)\n"
     ]
    },
    {
     "data": {
      "text/plain": "      year              name              school  pos  height (in)  \\\n4343  2000    Darnell Alford      Boston College   OT         76.0   \n4344  2000      Kyle Allamon          Texas Tech   TE         74.5   \n4345  2000  Rashard Anderson  Jackson State (MS)   CB         74.4   \n4346  2000      Corey Atkins      South Carolina  OLB         72.4   \n4347  2000     Reggie Austin         Wake Forest   CB         69.4   \n\n      weight (lbs)  hand size (in)  arm length (in)  40 yard  bench press  \\\n4343           334           10.50            34.00     5.58         23.0   \n4344           253            9.88            31.00     5.01          NaN   \n4345           206           10.00            33.00     4.59          NaN   \n4346           237            9.75            31.88     4.76         21.0   \n4347           175            8.50            30.00     4.46         17.0   \n\n      vert leap (in)  broad jump (in)  shuttle  3cone  60yd shuttle  \n4343            25.0             94.0     4.98   8.48           NaN  \n4344            29.0            104.0     4.49   7.29         12.47  \n4345            34.0            123.0     4.15   7.18         11.72  \n4346            31.0            112.0     4.39   7.96         11.87  \n4347            35.0            119.0     4.14   7.03           NaN  ",
      "text/html": "<div>\n<style scoped>\n    .dataframe tbody tr th:only-of-type {\n        vertical-align: middle;\n    }\n\n    .dataframe tbody tr th {\n        vertical-align: top;\n    }\n\n    .dataframe thead th {\n        text-align: right;\n    }\n</style>\n<table border=\"1\" class=\"dataframe\">\n  <thead>\n    <tr style=\"text-align: right;\">\n      <th></th>\n      <th>year</th>\n      <th>name</th>\n      <th>school</th>\n      <th>pos</th>\n      <th>height (in)</th>\n      <th>weight (lbs)</th>\n      <th>hand size (in)</th>\n      <th>arm length (in)</th>\n      <th>40 yard</th>\n      <th>bench press</th>\n      <th>vert leap (in)</th>\n      <th>broad jump (in)</th>\n      <th>shuttle</th>\n      <th>3cone</th>\n      <th>60yd shuttle</th>\n    </tr>\n  </thead>\n  <tbody>\n    <tr>\n      <th>4343</th>\n      <td>2000</td>\n      <td>Darnell Alford</td>\n      <td>Boston College</td>\n      <td>OT</td>\n      <td>76.0</td>\n      <td>334</td>\n      <td>10.50</td>\n      <td>34.00</td>\n      <td>5.58</td>\n      <td>23.0</td>\n      <td>25.0</td>\n      <td>94.0</td>\n      <td>4.98</td>\n      <td>8.48</td>\n      <td>NaN</td>\n    </tr>\n    <tr>\n      <th>4344</th>\n      <td>2000</td>\n      <td>Kyle Allamon</td>\n      <td>Texas Tech</td>\n      <td>TE</td>\n      <td>74.5</td>\n      <td>253</td>\n      <td>9.88</td>\n      <td>31.00</td>\n      <td>5.01</td>\n      <td>NaN</td>\n      <td>29.0</td>\n      <td>104.0</td>\n      <td>4.49</td>\n      <td>7.29</td>\n      <td>12.47</td>\n    </tr>\n    <tr>\n      <th>4345</th>\n      <td>2000</td>\n      <td>Rashard Anderson</td>\n      <td>Jackson State (MS)</td>\n      <td>CB</td>\n      <td>74.4</td>\n      <td>206</td>\n      <td>10.00</td>\n      <td>33.00</td>\n      <td>4.59</td>\n      <td>NaN</td>\n      <td>34.0</td>\n      <td>123.0</td>\n      <td>4.15</td>\n      <td>7.18</td>\n      <td>11.72</td>\n    </tr>\n    <tr>\n      <th>4346</th>\n      <td>2000</td>\n      <td>Corey Atkins</td>\n      <td>South Carolina</td>\n      <td>OLB</td>\n      <td>72.4</td>\n      <td>237</td>\n      <td>9.75</td>\n      <td>31.88</td>\n      <td>4.76</td>\n      <td>21.0</td>\n      <td>31.0</td>\n      <td>112.0</td>\n      <td>4.39</td>\n      <td>7.96</td>\n      <td>11.87</td>\n    </tr>\n    <tr>\n      <th>4347</th>\n      <td>2000</td>\n      <td>Reggie Austin</td>\n      <td>Wake Forest</td>\n      <td>CB</td>\n      <td>69.4</td>\n      <td>175</td>\n      <td>8.50</td>\n      <td>30.00</td>\n      <td>4.46</td>\n      <td>17.0</td>\n      <td>35.0</td>\n      <td>119.0</td>\n      <td>4.14</td>\n      <td>7.03</td>\n      <td>NaN</td>\n    </tr>\n  </tbody>\n</table>\n</div>"
     },
     "execution_count": 138,
     "metadata": {},
     "output_type": "execute_result"
    }
   ],
   "source": [
    "combine_file = r'data\\nfl_combine_1987_2020.csv'\n",
    "\n",
    "df_raw_combine = pd.read_csv(combine_file)\n",
    "\n",
    "df_raw_combine.head()\n",
    "\n",
    "# Keep raw data import for reference - build copy to modify\n",
    "df_combine = df_raw_combine\n",
    "\n",
    "# Drop dummy '0' column and Wonderlic scores data\n",
    "combine_cols_to_drop = ['Unnamed: 0', 'Wonderlic']\n",
    "df_combine.drop(columns=combine_cols_to_drop, inplace=True)\n",
    "\n",
    "# Clean column headers\n",
    "df_combine.columns = df_combine.columns.str.lower()\n",
    "df_combine.rename(columns={'college':'school'}, inplace=True)\n",
    "\n",
    "# Clean school names\n",
    "df_combine['school'] = df_combine['school'].str.strip()\n",
    "\n",
    "# Drop years prior to 2000 (no draft data)\n",
    "print(df_combine.shape)\n",
    "df_combine.drop(df_combine[df_combine['year']<2000].index, inplace=True)\n",
    "print('Cleaned combine size: ', df_combine.shape)\n",
    "df_combine.head()"
   ],
   "metadata": {
    "collapsed": false,
    "pycharm": {
     "name": "#%%\n"
    }
   }
  },
  {
   "cell_type": "markdown",
   "source": [
    "## Import position mapping data\n",
    "The \"combine\" dataset maps players to very specific positions (ie, \"Free Saftey\" or \"Outside Linebacker\").\n",
    "\n",
    "Map these granular positions to more standard positions. Also classify each position as \"Offense\" or \"Defense\", and indicate if the position is a \"Skill\" position or on the line of scrimmage."
   ],
   "metadata": {
    "collapsed": false
   }
  },
  {
   "cell_type": "code",
   "execution_count": 139,
   "outputs": [
    {
     "data": {
      "text/plain": "  pos pos_group offense_defense line_or_skill\n0  WR        WR               O             S\n1  CB        CB               D             S\n2  RB        RB               O             S\n3  DE        DL               D             L\n4  OT        OL               O             L",
      "text/html": "<div>\n<style scoped>\n    .dataframe tbody tr th:only-of-type {\n        vertical-align: middle;\n    }\n\n    .dataframe tbody tr th {\n        vertical-align: top;\n    }\n\n    .dataframe thead th {\n        text-align: right;\n    }\n</style>\n<table border=\"1\" class=\"dataframe\">\n  <thead>\n    <tr style=\"text-align: right;\">\n      <th></th>\n      <th>pos</th>\n      <th>pos_group</th>\n      <th>offense_defense</th>\n      <th>line_or_skill</th>\n    </tr>\n  </thead>\n  <tbody>\n    <tr>\n      <th>0</th>\n      <td>WR</td>\n      <td>WR</td>\n      <td>O</td>\n      <td>S</td>\n    </tr>\n    <tr>\n      <th>1</th>\n      <td>CB</td>\n      <td>CB</td>\n      <td>D</td>\n      <td>S</td>\n    </tr>\n    <tr>\n      <th>2</th>\n      <td>RB</td>\n      <td>RB</td>\n      <td>O</td>\n      <td>S</td>\n    </tr>\n    <tr>\n      <th>3</th>\n      <td>DE</td>\n      <td>DL</td>\n      <td>D</td>\n      <td>L</td>\n    </tr>\n    <tr>\n      <th>4</th>\n      <td>OT</td>\n      <td>OL</td>\n      <td>O</td>\n      <td>L</td>\n    </tr>\n  </tbody>\n</table>\n</div>"
     },
     "execution_count": 139,
     "metadata": {},
     "output_type": "execute_result"
    }
   ],
   "source": [
    "df_positions = pd.read_csv('data/position_mapping.csv')\n",
    "df_positions.head()"
   ],
   "metadata": {
    "collapsed": false,
    "pycharm": {
     "name": "#%%\n"
    }
   }
  },
  {
   "cell_type": "markdown",
   "source": [
    "### Merge the draft and position mapping datasets"
   ],
   "metadata": {
    "collapsed": false
   }
  },
  {
   "cell_type": "code",
   "execution_count": 140,
   "outputs": [
    {
     "name": "stdout",
     "output_type": "stream",
     "text": [
      "WR     1095\n",
      "CB      864\n",
      "RB      700\n",
      "DE      657\n",
      "DT      647\n",
      "OT      618\n",
      "OLB     586\n",
      "OG      528\n",
      "TE      471\n",
      "QB      470\n",
      "ILB     350\n",
      "FS      347\n",
      "SS      298\n",
      "C       253\n",
      "FB      175\n",
      "P       108\n",
      "K        92\n",
      "LB       91\n",
      "S        53\n",
      "LS       22\n",
      "EDG      22\n",
      "OL       10\n",
      "DL        4\n",
      "DB        3\n",
      "NT        1\n",
      "Name: pos, dtype: int64\n",
      "OL    1409\n",
      "DL    1331\n",
      "WR    1095\n",
      "LB    1027\n",
      "CB     864\n",
      "S      701\n",
      "RB     700\n",
      "TE     471\n",
      "QB     470\n",
      "K      200\n",
      "FB     175\n",
      "SN      22\n",
      "Name: pos_group, dtype: int64\n"
     ]
    },
    {
     "data": {
      "text/plain": "   year              name              school  pos  height (in)  weight (lbs)  \\\n0  2000    Darnell Alford      Boston College   OT         76.0           334   \n1  2000      Kyle Allamon          Texas Tech   TE         74.5           253   \n2  2000  Rashard Anderson  Jackson State (MS)   CB         74.4           206   \n3  2000      Corey Atkins      South Carolina  OLB         72.4           237   \n4  2000     Reggie Austin         Wake Forest   CB         69.4           175   \n\n   hand size (in)  arm length (in)  40 yard  bench press  vert leap (in)  \\\n0           10.50            34.00     5.58         23.0            25.0   \n1            9.88            31.00     5.01          NaN            29.0   \n2           10.00            33.00     4.59          NaN            34.0   \n3            9.75            31.88     4.76         21.0            31.0   \n4            8.50            30.00     4.46         17.0            35.0   \n\n   broad jump (in)  shuttle  3cone  60yd shuttle pos_group offense_defense  \\\n0             94.0     4.98   8.48           NaN        OL               O   \n1            104.0     4.49   7.29         12.47        TE               O   \n2            123.0     4.15   7.18         11.72        CB               D   \n3            112.0     4.39   7.96         11.87        LB               D   \n4            119.0     4.14   7.03           NaN        CB               D   \n\n  line_or_skill  \n0             L  \n1             S  \n2             S  \n3             S  \n4             S  ",
      "text/html": "<div>\n<style scoped>\n    .dataframe tbody tr th:only-of-type {\n        vertical-align: middle;\n    }\n\n    .dataframe tbody tr th {\n        vertical-align: top;\n    }\n\n    .dataframe thead th {\n        text-align: right;\n    }\n</style>\n<table border=\"1\" class=\"dataframe\">\n  <thead>\n    <tr style=\"text-align: right;\">\n      <th></th>\n      <th>year</th>\n      <th>name</th>\n      <th>school</th>\n      <th>pos</th>\n      <th>height (in)</th>\n      <th>weight (lbs)</th>\n      <th>hand size (in)</th>\n      <th>arm length (in)</th>\n      <th>40 yard</th>\n      <th>bench press</th>\n      <th>vert leap (in)</th>\n      <th>broad jump (in)</th>\n      <th>shuttle</th>\n      <th>3cone</th>\n      <th>60yd shuttle</th>\n      <th>pos_group</th>\n      <th>offense_defense</th>\n      <th>line_or_skill</th>\n    </tr>\n  </thead>\n  <tbody>\n    <tr>\n      <th>0</th>\n      <td>2000</td>\n      <td>Darnell Alford</td>\n      <td>Boston College</td>\n      <td>OT</td>\n      <td>76.0</td>\n      <td>334</td>\n      <td>10.50</td>\n      <td>34.00</td>\n      <td>5.58</td>\n      <td>23.0</td>\n      <td>25.0</td>\n      <td>94.0</td>\n      <td>4.98</td>\n      <td>8.48</td>\n      <td>NaN</td>\n      <td>OL</td>\n      <td>O</td>\n      <td>L</td>\n    </tr>\n    <tr>\n      <th>1</th>\n      <td>2000</td>\n      <td>Kyle Allamon</td>\n      <td>Texas Tech</td>\n      <td>TE</td>\n      <td>74.5</td>\n      <td>253</td>\n      <td>9.88</td>\n      <td>31.00</td>\n      <td>5.01</td>\n      <td>NaN</td>\n      <td>29.0</td>\n      <td>104.0</td>\n      <td>4.49</td>\n      <td>7.29</td>\n      <td>12.47</td>\n      <td>TE</td>\n      <td>O</td>\n      <td>S</td>\n    </tr>\n    <tr>\n      <th>2</th>\n      <td>2000</td>\n      <td>Rashard Anderson</td>\n      <td>Jackson State (MS)</td>\n      <td>CB</td>\n      <td>74.4</td>\n      <td>206</td>\n      <td>10.00</td>\n      <td>33.00</td>\n      <td>4.59</td>\n      <td>NaN</td>\n      <td>34.0</td>\n      <td>123.0</td>\n      <td>4.15</td>\n      <td>7.18</td>\n      <td>11.72</td>\n      <td>CB</td>\n      <td>D</td>\n      <td>S</td>\n    </tr>\n    <tr>\n      <th>3</th>\n      <td>2000</td>\n      <td>Corey Atkins</td>\n      <td>South Carolina</td>\n      <td>OLB</td>\n      <td>72.4</td>\n      <td>237</td>\n      <td>9.75</td>\n      <td>31.88</td>\n      <td>4.76</td>\n      <td>21.0</td>\n      <td>31.0</td>\n      <td>112.0</td>\n      <td>4.39</td>\n      <td>7.96</td>\n      <td>11.87</td>\n      <td>LB</td>\n      <td>D</td>\n      <td>S</td>\n    </tr>\n    <tr>\n      <th>4</th>\n      <td>2000</td>\n      <td>Reggie Austin</td>\n      <td>Wake Forest</td>\n      <td>CB</td>\n      <td>69.4</td>\n      <td>175</td>\n      <td>8.50</td>\n      <td>30.00</td>\n      <td>4.46</td>\n      <td>17.0</td>\n      <td>35.0</td>\n      <td>119.0</td>\n      <td>4.14</td>\n      <td>7.03</td>\n      <td>NaN</td>\n      <td>CB</td>\n      <td>D</td>\n      <td>S</td>\n    </tr>\n  </tbody>\n</table>\n</div>"
     },
     "execution_count": 140,
     "metadata": {},
     "output_type": "execute_result"
    }
   ],
   "source": [
    "print(df_combine['pos'].value_counts())\n",
    "\n",
    "df_combine = df_combine.merge(df_positions,\n",
    "                          how='left',\n",
    "                          on='pos')\n",
    "\n",
    "print(df_combine['pos_group'].value_counts())\n",
    "\n",
    "df_combine.head()"
   ],
   "metadata": {
    "collapsed": false,
    "pycharm": {
     "name": "#%%\n"
    }
   }
  },
  {
   "cell_type": "markdown",
   "source": [
    "#### Visualize combine performance distributions by position"
   ],
   "metadata": {
    "collapsed": false,
    "pycharm": {
     "name": "#%% md\n"
    }
   }
  },
  {
   "cell_type": "code",
   "execution_count": 141,
   "outputs": [
    {
     "name": "stdout",
     "output_type": "stream",
     "text": [
      "['OL', 'TE', 'CB', 'LB', 'S', 'DL', 'QB', 'RB', 'WR', 'FB']\n",
      "Unique Positions:  10\n",
      "Index(['year', 'name', 'school', 'pos', 'height (in)', 'weight (lbs)',\n",
      "       'hand size (in)', 'arm length (in)', '40 yard', 'bench press',\n",
      "       'vert leap (in)', 'broad jump (in)', 'shuttle', '3cone', '60yd shuttle',\n",
      "       'pos_group', 'offense_defense', 'line_or_skill'],\n",
      "      dtype='object')\n"
     ]
    },
    {
     "name": "stderr",
     "output_type": "stream",
     "text": [
      "C:\\Users\\mitch\\AppData\\Local\\Temp/ipykernel_26536/4152309854.py:48: UserWarning: Matplotlib is currently using module://matplotlib_inline.backend_inline, which is a non-GUI backend, so cannot show the figure.\n",
      "  fig.show()\n"
     ]
    },
    {
     "data": {
      "text/plain": "<Figure size 1800x1800 with 110 Axes>",
      "image/png": "[encoded data removed]"
     },
     "metadata": {
      "needs_background": "light"
     },
     "output_type": "display_data"
    }
   ],
   "source": [
    "positions = df_combine['pos_group'].unique()\n",
    "\n",
    "positions_to_drop = ['SN', 'K']   # Long snappers and kickers/punters\n",
    "\n",
    "positions = [pos for pos in positions if pos not in positions_to_drop]\n",
    "print(positions)\n",
    "\n",
    "\n",
    "print('Unique Positions: ', len(positions))\n",
    "print(df_combine.columns)\n",
    "stat_columns = ['height (in)', 'weight (lbs)',\n",
    "       'hand size (in)', 'arm length (in)', '40 yard', 'bench press',\n",
    "       'vert leap (in)', 'broad jump (in)', 'shuttle', '3cone', '60yd shuttle']\n",
    "num_stats = len(stat_columns)\n",
    "\n",
    "fig, axes = plt.subplots(len(positions), num_stats,\n",
    "                         sharex=False,\n",
    "                         sharey=True,\n",
    "                         figsize=(25,25))\n",
    "\n",
    "fig.suptitle('NFL Combine Statistics by Position (2000-2020)', fontsize=30)\n",
    "fig.supxlabel('Measurement', fontsize=30)\n",
    "fig.supylabel('Position', fontsize=30)\n",
    "\n",
    "fig.tight_layout(rect=[0.03, 0.03, 1, .95])\n",
    "\n",
    "# Loop over axes and data\n",
    "for row, pos in enumerate(positions):\n",
    "    x_positions = df_combine[df_combine['pos_group']==pos]\n",
    "\n",
    "    for col, stat in enumerate(stat_columns):\n",
    "        # Get axis\n",
    "        ax = axes[row,col]\n",
    "        x = x_positions[stat]\n",
    "        ax.hist(x,\n",
    "                range=[df_combine[stat].min(),df_combine[stat].max()],\n",
    "                alpha=.5, bins=10)\n",
    "        # Set Y label once per row\n",
    "        if col==0:\n",
    "            ax.set_ylabel(pos, fontsize='xx-large')\n",
    "\n",
    "        # Set X label once per column\n",
    "        if row == 0:\n",
    "            ax.set_title(stat, fontsize='xx-large')\n",
    "        if row == len(positions) - 1:\n",
    "            ax.set_xlabel(stat, fontsize='xx-large')\n",
    "\n",
    "fig.show()\n",
    "fig.savefig('images/stats_by_position.png', format='png')\n"
   ],
   "metadata": {
    "collapsed": false,
    "pycharm": {
     "name": "#%%\n"
    }
   }
  },
  {
   "cell_type": "markdown",
   "source": [
    "## Clean NFL Draft Data"
   ],
   "metadata": {
    "collapsed": false
   }
  },
  {
   "cell_type": "code",
   "execution_count": 142,
   "outputs": [],
   "source": [
    "draft_file = r'data\\espn_draft_history_2000_2021_cleaned.csv'\n",
    "df_raw_draft = pd.read_csv(draft_file)\n",
    "\n",
    "# Keep raw data import for reference - build copy to modify\n",
    "df_draft = df_raw_draft\n",
    "\n",
    "# Clean column headers\n",
    "df_draft.columns = df_draft.columns.str.lower()\n",
    "\n",
    "# Clean school names\n",
    "df_draft['school'] = df_draft['school'].str.strip()"
   ],
   "metadata": {
    "collapsed": false,
    "pycharm": {
     "name": "#%%\n"
    }
   }
  },
  {
   "cell_type": "markdown",
   "source": [
    "### Are there duplicated names?"
   ],
   "metadata": {
    "collapsed": false
   }
  },
  {
   "cell_type": "code",
   "execution_count": 143,
   "outputs": [
    {
     "data": {
      "text/plain": "Brandon Williams    5\nChris Brown         5\nBrian Allen         4\nMike Williams       4\nChris Jones         4\nMichael Bennett     3\nJosh Harris         3\nTravis Wilson       3\nSteve Smith         3\nAndre Smith         3\nName: name, dtype: int64"
     },
     "execution_count": 143,
     "metadata": {},
     "output_type": "execute_result"
    }
   ],
   "source": [
    "df_combine['name'].value_counts(sort='descending').head(10)"
   ],
   "metadata": {
    "collapsed": false,
    "pycharm": {
     "name": "#%%\n"
    }
   }
  },
  {
   "cell_type": "markdown",
   "source": [
    "### Answer: Yes\n",
    "\n",
    "So we cannot simply join the 2 datasets on player 'name' columns. Need to also join on\n",
    "college and year.\n"
   ],
   "metadata": {
    "collapsed": false
   }
  },
  {
   "cell_type": "markdown",
   "source": [
    "## Do college names match in both datasets?"
   ],
   "metadata": {
    "collapsed": false
   }
  },
  {
   "cell_type": "code",
   "execution_count": 144,
   "outputs": [
    {
     "name": "stdout",
     "output_type": "stream",
     "text": [
      "<class 'pandas.core.frame.DataFrame'>\n",
      "               school   source\n",
      "0      Boston College  combine\n",
      "1          Texas Tech  combine\n",
      "2  Jackson State (MS)  combine\n",
      "3      South Carolina  combine\n",
      "4         Wake Forest  combine\n"
     ]
    },
    {
     "data": {
      "text/plain": "                     school source_draft source_combine\n202       Abilene Christian        draft            NaN\n381  Abilene Christian (TX)          NaN        combine\n445        Adams State (CO)          NaN        combine\n345      Alabama-Birmingham          NaN        combine\n200                  Albany        draft            NaN\n388             Albany (NY)          NaN        combine\n412       Alcorn State (MS)          NaN        combine\n133       Appalachian State        draft            NaN\n336  Appalachian State (NC)          NaN        combine\n255                 Ashland        draft            NaN",
      "text/html": "<div>\n<style scoped>\n    .dataframe tbody tr th:only-of-type {\n        vertical-align: middle;\n    }\n\n    .dataframe tbody tr th {\n        vertical-align: top;\n    }\n\n    .dataframe thead th {\n        text-align: right;\n    }\n</style>\n<table border=\"1\" class=\"dataframe\">\n  <thead>\n    <tr style=\"text-align: right;\">\n      <th></th>\n      <th>school</th>\n      <th>source_draft</th>\n      <th>source_combine</th>\n    </tr>\n  </thead>\n  <tbody>\n    <tr>\n      <th>202</th>\n      <td>Abilene Christian</td>\n      <td>draft</td>\n      <td>NaN</td>\n    </tr>\n    <tr>\n      <th>381</th>\n      <td>Abilene Christian (TX)</td>\n      <td>NaN</td>\n      <td>combine</td>\n    </tr>\n    <tr>\n      <th>445</th>\n      <td>Adams State (CO)</td>\n      <td>NaN</td>\n      <td>combine</td>\n    </tr>\n    <tr>\n      <th>345</th>\n      <td>Alabama-Birmingham</td>\n      <td>NaN</td>\n      <td>combine</td>\n    </tr>\n    <tr>\n      <th>200</th>\n      <td>Albany</td>\n      <td>draft</td>\n      <td>NaN</td>\n    </tr>\n    <tr>\n      <th>388</th>\n      <td>Albany (NY)</td>\n      <td>NaN</td>\n      <td>combine</td>\n    </tr>\n    <tr>\n      <th>412</th>\n      <td>Alcorn State (MS)</td>\n      <td>NaN</td>\n      <td>combine</td>\n    </tr>\n    <tr>\n      <th>133</th>\n      <td>Appalachian State</td>\n      <td>draft</td>\n      <td>NaN</td>\n    </tr>\n    <tr>\n      <th>336</th>\n      <td>Appalachian State (NC)</td>\n      <td>NaN</td>\n      <td>combine</td>\n    </tr>\n    <tr>\n      <th>255</th>\n      <td>Ashland</td>\n      <td>draft</td>\n      <td>NaN</td>\n    </tr>\n  </tbody>\n</table>\n</div>"
     },
     "execution_count": 144,
     "metadata": {},
     "output_type": "execute_result"
    }
   ],
   "source": [
    "draft_school = pd.DataFrame(df_draft['school'].unique()).rename(columns={0:'school'})\n",
    "draft_school['source'] = 'draft'\n",
    "combine_school = pd.DataFrame(df_combine['school'].unique()).rename(columns={0:'school'})\n",
    "combine_school['source'] = 'combine'\n",
    "print(type(combine_school))\n",
    "print(combine_school.head())\n",
    "\n",
    "schools = draft_school.merge(combine_school, on='school', how='outer',\n",
    "                             suffixes=['_draft', '_combine']).sort_values(by='school')\n",
    "\n",
    "# List all cases with mismatches\n",
    "na_mask = schools.isna().any(axis=1)\n",
    "schools[na_mask].head(10)"
   ],
   "metadata": {
    "collapsed": false,
    "pycharm": {
     "name": "#%%\n"
    }
   }
  },
  {
   "cell_type": "markdown",
   "source": [
    "### So we see that the 'combine' dataset frequently has the state appended to the school name;\n",
    "Ex: \"Abilene Christian (TX)\". Remove these from school names, with the exception of \"Miami (OH)."
   ],
   "metadata": {
    "collapsed": false,
    "pycharm": {
     "name": "#%% md\n"
    }
   }
  },
  {
   "cell_type": "code",
   "execution_count": 145,
   "outputs": [
    {
     "name": "stdout",
     "output_type": "stream",
     "text": [
      "0        Boston College\n",
      "1            Texas Tech\n",
      "2    Jackson State (MS)\n",
      "3        South Carolina\n",
      "4           Wake Forest\n",
      "Name: school, dtype: object\n"
     ]
    },
    {
     "name": "stderr",
     "output_type": "stream",
     "text": [
      "C:\\Users\\mitch\\AppData\\Local\\Temp/ipykernel_26536/4029171560.py:1: FutureWarning: The default value of regex will change from True to False in a future version.\n",
      "  df_combine['school'] = df_combine['school'].str.replace('Miami (OH)', 'Miami - OH')\n"
     ]
    },
    {
     "data": {
      "text/plain": "0    Boston College\n1        Texas Tech\n2    Jackson State \n3    South Carolina\n4       Wake Forest\nName: school, dtype: object"
     },
     "execution_count": 145,
     "metadata": {},
     "output_type": "execute_result"
    }
   ],
   "source": [
    "df_combine['school'] = df_combine['school'].str.replace('Miami (OH)', 'Miami - OH')\n",
    "\n",
    "print(df_combine['school'].head())\n",
    "regex_replace_parens = r'\\([^)]*[a-zA-Z][^)]*\\)'\n",
    "df_combine['school'] = df_combine['school'].str.replace(regex_replace_parens, '', regex=True)\n",
    "\n",
    "df_combine['school'].head()"
   ],
   "metadata": {
    "collapsed": false,
    "pycharm": {
     "name": "#%%\n"
    }
   }
  },
  {
   "cell_type": "markdown",
   "source": [
    "## Standardize player names between datasets\n",
    "Player names in the \"Draft\" dataset include suffixes including \"Jr., II, III, IV\", but these are NOT included in the \"combine\" dataset.\n",
    "\n",
    "Standardize player names between datasets by removing these values from the \"Draft\" dataset."
   ],
   "metadata": {
    "collapsed": false
   }
  },
  {
   "cell_type": "code",
   "execution_count": 146,
   "outputs": [],
   "source": [
    "regex_suffixes_to_remove = r'Jr\\.$|III$|IIII$|IV$|, Jr.$'\n",
    "df_draft['name'] = df_draft['name'].str.replace(regex_suffixes_to_remove, '', regex=True)\n",
    "\n",
    "# df_draft['name'].to_clipboard()"
   ],
   "metadata": {
    "collapsed": false,
    "pycharm": {
     "name": "#%%\n"
    }
   }
  },
  {
   "cell_type": "markdown",
   "source": [
    "Merge the Draft and NFL Combine datasets"
   ],
   "metadata": {
    "collapsed": false
   }
  },
  {
   "cell_type": "code",
   "execution_count": 147,
   "outputs": [],
   "source": [
    "df_merged = df_combine.merge(df_draft, how='left',\n",
    "                             on=['name', 'school', 'year'])\n",
    "\n",
    "df_merged.head(10)\n",
    "\n",
    "df_merged.to_clipboard()"
   ],
   "metadata": {
    "collapsed": false,
    "pycharm": {
     "name": "#%%\n"
    }
   }
  },
  {
   "cell_type": "markdown",
   "source": [
    "## Investigate merged data"
   ],
   "metadata": {
    "collapsed": false,
    "pycharm": {
     "name": "#%% md\n"
    }
   }
  },
  {
   "cell_type": "code",
   "execution_count": 148,
   "outputs": [
    {
     "name": "stdout",
     "output_type": "stream",
     "text": [
      "<class 'pandas.core.frame.DataFrame'>\n",
      "Int64Index: 8465 entries, 0 to 8464\n",
      "Data columns (total 22 columns):\n",
      " #   Column           Non-Null Count  Dtype  \n",
      "---  ------           --------------  -----  \n",
      " 0   year             8465 non-null   int64  \n",
      " 1   name             8465 non-null   object \n",
      " 2   school           8462 non-null   object \n",
      " 3   pos              8465 non-null   object \n",
      " 4   height (in)      8465 non-null   float64\n",
      " 5   weight (lbs)     8465 non-null   int64  \n",
      " 6   hand size (in)   7639 non-null   float64\n",
      " 7   arm length (in)  7638 non-null   float64\n",
      " 8   40 yard          7922 non-null   float64\n",
      " 9   bench press      6603 non-null   float64\n",
      " 10  vert leap (in)   7503 non-null   float64\n",
      " 11  broad jump (in)  7400 non-null   float64\n",
      " 12  shuttle          6929 non-null   float64\n",
      " 13  3cone            6827 non-null   float64\n",
      " 14  60yd shuttle     1370 non-null   float64\n",
      " 15  pos_group        8465 non-null   object \n",
      " 16  offense_defense  8465 non-null   object \n",
      " 17  line_or_skill    8465 non-null   object \n",
      " 18  round            3612 non-null   float64\n",
      " 19  pk(ovr)          3612 non-null   object \n",
      " 20  team             3599 non-null   object \n",
      " 21  position         3612 non-null   object \n",
      "dtypes: float64(11), int64(2), object(9)\n",
      "memory usage: 1.5+ MB\n"
     ]
    }
   ],
   "source": [
    "df_merged.info()"
   ],
   "metadata": {
    "collapsed": false,
    "pycharm": {
     "name": "#%%\n"
    }
   }
  },
  {
   "cell_type": "markdown",
   "source": [
    "## Data Cleaning:\n",
    "* Very few 60-yard shuttle records; drop column\n",
    "* Overwrite blank \"Round\" column values with '8' (will indicate undrafted)\n",
    "* Drop kickers, long snappers, QBs and Fullbacks (too few, draft status not driven by stats)"
   ],
   "metadata": {
    "collapsed": false
   }
  },
  {
   "cell_type": "code",
   "execution_count": 149,
   "outputs": [
    {
     "name": "stdout",
     "output_type": "stream",
     "text": [
      "Int64Index([  17,   23,   25,   27,   32,   63,   67,   77,   78,   91,\n",
      "            ...\n",
      "            8341, 8362, 8364, 8383, 8402, 8405, 8416, 8432, 8434, 8458],\n",
      "           dtype='int64', length=867)\n",
      "(8465, 14)\n",
      "      height (in)  weight (lbs)  hand size (in)  arm length (in)  40 yard  \\\n",
      "0           76.00           334           10.50            34.00     5.58   \n",
      "1           74.50           253            9.88            31.00     5.01   \n",
      "2           74.40           206           10.00            33.00     4.59   \n",
      "3           72.40           237            9.75            31.88     4.76   \n",
      "4           69.40           175            8.50            30.00     4.46   \n",
      "...           ...           ...             ...              ...      ...   \n",
      "8460        76.63           258           10.50            34.13     4.73   \n",
      "8461        76.00           257            9.75            33.13     4.92   \n",
      "8462        73.75           230            9.25            31.63     4.79   \n",
      "8463        76.88           264           10.00            33.75      NaN   \n",
      "8464        75.38           264           10.38            32.88     4.64   \n",
      "\n",
      "      bench press  vert leap (in)  broad jump (in)  shuttle  3cone pos_group  \\\n",
      "0            23.0            25.0             94.0     4.98   8.48        OL   \n",
      "1             NaN            29.0            104.0     4.49   7.29        TE   \n",
      "2             NaN            34.0            123.0     4.15   7.18        CB   \n",
      "3            21.0            31.0            112.0     4.39   7.96        LB   \n",
      "4            17.0            35.0            119.0     4.14   7.03        CB   \n",
      "...           ...             ...              ...      ...    ...       ...   \n",
      "8460         20.0            34.5            123.0     4.44   7.25        DL   \n",
      "8461          NaN            35.0            119.0      NaN    NaN        TE   \n",
      "8462         16.0            33.5            114.0     4.37   7.34        LB   \n",
      "8463          NaN             NaN              NaN      NaN    NaN        DL   \n",
      "8464         29.0            33.0            127.0      NaN    NaN        DL   \n",
      "\n",
      "     offense_defense line_or_skill  round  \n",
      "0                  O             L    6.0  \n",
      "1                  O             S    8.0  \n",
      "2                  D             S    8.0  \n",
      "3                  D             S    8.0  \n",
      "4                  D             S    4.0  \n",
      "...              ...           ...    ...  \n",
      "8460               D             L    4.0  \n",
      "8461               O             S    8.0  \n",
      "8462               D             S    8.0  \n",
      "8463               D             L    1.0  \n",
      "8464               D             L    3.0  \n",
      "\n",
      "[7598 rows x 14 columns]\n",
      "0    4946\n",
      "1     846\n",
      "2     786\n",
      "3     311\n",
      "4     280\n",
      "5     155\n",
      "6     120\n",
      "8      83\n",
      "7      71\n",
      "dtype: int64\n",
      "0    4946\n",
      "1     846\n",
      "2     786\n",
      "3     311\n",
      "dtype: int64\n"
     ]
    },
    {
     "data": {
      "text/plain": "    height (in)  weight (lbs)  hand size (in)  arm length (in)  40 yard  \\\n0          76.0           334           10.50            34.00     5.58   \n1          74.5           253            9.88            31.00     5.01   \n2          74.4           206           10.00            33.00     4.59   \n3          72.4           237            9.75            31.88     4.76   \n4          69.4           175            8.50            30.00     4.46   \n5          77.9           312            9.25            32.75     5.36   \n6          71.6           208            9.50            32.00     4.63   \n7          69.9           199           10.00            31.13     4.48   \n8          73.0           192             NaN              NaN     4.43   \n10         71.0           178             NaN              NaN     4.50   \n\n    bench press  vert leap (in)  broad jump (in)  shuttle  3cone pos_group  \\\n0          23.0            25.0             94.0     4.98   8.48        OL   \n1           NaN            29.0            104.0     4.49   7.29        TE   \n2           NaN            34.0            123.0     4.15   7.18        CB   \n3          21.0            31.0            112.0     4.39   7.96        LB   \n4          17.0            35.0            119.0     4.14   7.03        CB   \n5          20.0            28.0             96.0     4.73   7.72        OL   \n6          10.0            35.0            114.0     4.32   6.92         S   \n7          16.0            37.5            116.0     4.04   6.81        CB   \n8           NaN            38.5            124.0     3.99   6.70        CB   \n10          NaN            34.5            122.0     4.20   6.87        CB   \n\n   offense_defense line_or_skill  round  \n0                O             L    6.0  \n1                O             S    8.0  \n2                D             S    8.0  \n3                D             S    8.0  \n4                D             S    4.0  \n5                O             L    7.0  \n6                D             S    7.0  \n7                D             S    4.0  \n8                D             S    2.0  \n10               D             S    5.0  ",
      "text/html": "<div>\n<style scoped>\n    .dataframe tbody tr th:only-of-type {\n        vertical-align: middle;\n    }\n\n    .dataframe tbody tr th {\n        vertical-align: top;\n    }\n\n    .dataframe thead th {\n        text-align: right;\n    }\n</style>\n<table border=\"1\" class=\"dataframe\">\n  <thead>\n    <tr style=\"text-align: right;\">\n      <th></th>\n      <th>height (in)</th>\n      <th>weight (lbs)</th>\n      <th>hand size (in)</th>\n      <th>arm length (in)</th>\n      <th>40 yard</th>\n      <th>bench press</th>\n      <th>vert leap (in)</th>\n      <th>broad jump (in)</th>\n      <th>shuttle</th>\n      <th>3cone</th>\n      <th>pos_group</th>\n      <th>offense_defense</th>\n      <th>line_or_skill</th>\n      <th>round</th>\n    </tr>\n  </thead>\n  <tbody>\n    <tr>\n      <th>0</th>\n      <td>76.0</td>\n      <td>334</td>\n      <td>10.50</td>\n      <td>34.00</td>\n      <td>5.58</td>\n      <td>23.0</td>\n      <td>25.0</td>\n      <td>94.0</td>\n      <td>4.98</td>\n      <td>8.48</td>\n      <td>OL</td>\n      <td>O</td>\n      <td>L</td>\n      <td>6.0</td>\n    </tr>\n    <tr>\n      <th>1</th>\n      <td>74.5</td>\n      <td>253</td>\n      <td>9.88</td>\n      <td>31.00</td>\n      <td>5.01</td>\n      <td>NaN</td>\n      <td>29.0</td>\n      <td>104.0</td>\n      <td>4.49</td>\n      <td>7.29</td>\n      <td>TE</td>\n      <td>O</td>\n      <td>S</td>\n      <td>8.0</td>\n    </tr>\n    <tr>\n      <th>2</th>\n      <td>74.4</td>\n      <td>206</td>\n      <td>10.00</td>\n      <td>33.00</td>\n      <td>4.59</td>\n      <td>NaN</td>\n      <td>34.0</td>\n      <td>123.0</td>\n      <td>4.15</td>\n      <td>7.18</td>\n      <td>CB</td>\n      <td>D</td>\n      <td>S</td>\n      <td>8.0</td>\n    </tr>\n    <tr>\n      <th>3</th>\n      <td>72.4</td>\n      <td>237</td>\n      <td>9.75</td>\n      <td>31.88</td>\n      <td>4.76</td>\n      <td>21.0</td>\n      <td>31.0</td>\n      <td>112.0</td>\n      <td>4.39</td>\n      <td>7.96</td>\n      <td>LB</td>\n      <td>D</td>\n      <td>S</td>\n      <td>8.0</td>\n    </tr>\n    <tr>\n      <th>4</th>\n      <td>69.4</td>\n      <td>175</td>\n      <td>8.50</td>\n      <td>30.00</td>\n      <td>4.46</td>\n      <td>17.0</td>\n      <td>35.0</td>\n      <td>119.0</td>\n      <td>4.14</td>\n      <td>7.03</td>\n      <td>CB</td>\n      <td>D</td>\n      <td>S</td>\n      <td>4.0</td>\n    </tr>\n    <tr>\n      <th>5</th>\n      <td>77.9</td>\n      <td>312</td>\n      <td>9.25</td>\n      <td>32.75</td>\n      <td>5.36</td>\n      <td>20.0</td>\n      <td>28.0</td>\n      <td>96.0</td>\n      <td>4.73</td>\n      <td>7.72</td>\n      <td>OL</td>\n      <td>O</td>\n      <td>L</td>\n      <td>7.0</td>\n    </tr>\n    <tr>\n      <th>6</th>\n      <td>71.6</td>\n      <td>208</td>\n      <td>9.50</td>\n      <td>32.00</td>\n      <td>4.63</td>\n      <td>10.0</td>\n      <td>35.0</td>\n      <td>114.0</td>\n      <td>4.32</td>\n      <td>6.92</td>\n      <td>S</td>\n      <td>D</td>\n      <td>S</td>\n      <td>7.0</td>\n    </tr>\n    <tr>\n      <th>7</th>\n      <td>69.9</td>\n      <td>199</td>\n      <td>10.00</td>\n      <td>31.13</td>\n      <td>4.48</td>\n      <td>16.0</td>\n      <td>37.5</td>\n      <td>116.0</td>\n      <td>4.04</td>\n      <td>6.81</td>\n      <td>CB</td>\n      <td>D</td>\n      <td>S</td>\n      <td>4.0</td>\n    </tr>\n    <tr>\n      <th>8</th>\n      <td>73.0</td>\n      <td>192</td>\n      <td>NaN</td>\n      <td>NaN</td>\n      <td>4.43</td>\n      <td>NaN</td>\n      <td>38.5</td>\n      <td>124.0</td>\n      <td>3.99</td>\n      <td>6.70</td>\n      <td>CB</td>\n      <td>D</td>\n      <td>S</td>\n      <td>2.0</td>\n    </tr>\n    <tr>\n      <th>10</th>\n      <td>71.0</td>\n      <td>178</td>\n      <td>NaN</td>\n      <td>NaN</td>\n      <td>4.50</td>\n      <td>NaN</td>\n      <td>34.5</td>\n      <td>122.0</td>\n      <td>4.20</td>\n      <td>6.87</td>\n      <td>CB</td>\n      <td>D</td>\n      <td>S</td>\n      <td>5.0</td>\n    </tr>\n  </tbody>\n</table>\n</div>"
     },
     "execution_count": 149,
     "metadata": {},
     "output_type": "execute_result"
    }
   ],
   "source": [
    "# Drop 60yd shuttle\n",
    "try:\n",
    "    df_merged.drop(columns=['60yd shuttle'], inplace=True)\n",
    "except:\n",
    "    pass\n",
    "\n",
    "# overwite blank 'round' values with '8' (will indicate undrafted)\n",
    "df_merged['round'].fillna(8, inplace=True)\n",
    "\n",
    "merged_cols_to_drop = ['year', 'name', 'school', 'pos',\n",
    "                       'pk(ovr)', 'team', 'position']\n",
    "\n",
    "try:\n",
    "    df_merged.drop(columns=merged_cols_to_drop, inplace=True)\n",
    "except:\n",
    "    pass\n",
    "\n",
    "positions_to_drop = ['SN', 'K', 'QB', 'FB']\n",
    "positions_mask = \\\n",
    "    df_merged[df_merged['pos_group'].isin(positions_to_drop)].index\n",
    "\n",
    "print(positions_mask)\n",
    "\n",
    "print(df_merged.shape)\n",
    "df_merged.drop(positions_mask, inplace=True)\n",
    "print(df_merged)\n",
    "\n",
    "\n",
    "# How many players don't have much combine data? Drop them\n",
    "metrics_cols = ['height (in)', 'weight (lbs)', 'hand size (in)', 'arm length (in)',\n",
    "       '40 yard', 'bench press', 'vert leap (in)', 'broad jump (in)',\n",
    "       'shuttle', '3cone']\n",
    "\n",
    "# See count of records by number of missing metrics values\n",
    "# 10 total metrics values, drop if they don't have at least 8\n",
    "print(df_merged[metrics_cols].isna().sum(axis=1).value_counts())\n",
    "df_merged.dropna(axis=0, thresh=7,\n",
    "                 subset=metrics_cols, inplace=True)\n",
    "\n",
    "print(df_merged[metrics_cols].isna().sum(axis=1).value_counts())\n",
    "\n",
    "df_merged.head(10)"
   ],
   "metadata": {
    "collapsed": false,
    "pycharm": {
     "name": "#%%\n"
    }
   }
  },
  {
   "cell_type": "code",
   "execution_count": 150,
   "outputs": [
    {
     "data": {
      "text/plain": "Index(['height (in)', 'weight (lbs)', 'hand size (in)', 'arm length (in)',\n       '40 yard', 'bench press', 'vert leap (in)', 'broad jump (in)',\n       'shuttle', '3cone', 'pos_group', 'offense_defense', 'line_or_skill',\n       'round'],\n      dtype='object')"
     },
     "execution_count": 150,
     "metadata": {},
     "output_type": "execute_result"
    }
   ],
   "source": [
    "df_merged.columns"
   ],
   "metadata": {
    "collapsed": false,
    "pycharm": {
     "name": "#%%\n"
    }
   }
  },
  {
   "cell_type": "markdown",
   "source": [
    "## Begin Modeling\n"
   ],
   "metadata": {
    "collapsed": false
   }
  },
  {
   "cell_type": "markdown",
   "source": [
    "### Imports for modeling"
   ],
   "metadata": {
    "collapsed": false
   }
  },
  {
   "cell_type": "code",
   "execution_count": 151,
   "outputs": [],
   "source": [
    "from sklearn.model_selection import train_test_split\n",
    "\n",
    "# encoders\n",
    "from category_encoders import OneHotEncoder, OrdinalEncoder\n",
    "from sklearn.impute import SimpleImputer\n",
    "from sklearn.preprocessing import StandardScaler\n",
    "\n",
    "#metrics\n",
    "from sklearn.metrics import accuracy_score, precision_score, recall_score, classification_report, roc_auc_score\n",
    "\n",
    "#pipeline\n",
    "from sklearn.pipeline import make_pipeline\n",
    "\n",
    "# machine learning\n",
    "from sklearn.linear_model import LogisticRegression\n",
    "from sklearn.ensemble import RandomForestClassifier\n",
    "from sklearn.tree import DecisionTreeClassifier\n",
    "\n",
    "# Boosted Models\n",
    "# Use this one if you have an M1 chip.\n",
    "from sklearn.ensemble import GradientBoostingClassifier\n",
    "from xgboost import XGBClassifier\n",
    "\n",
    "# Permutation Importance\n",
    "from sklearn.inspection import permutation_importance\n",
    "\n",
    "# for displaying images and html\n",
    "from IPython.display import Image\n",
    "from IPython.core.display import HTML\n",
    "\n"
   ],
   "metadata": {
    "collapsed": false,
    "pycharm": {
     "name": "#%%\n"
    }
   }
  },
  {
   "cell_type": "markdown",
   "source": [
    "### Split data"
   ],
   "metadata": {
    "collapsed": false
   }
  },
  {
   "cell_type": "code",
   "execution_count": 152,
   "outputs": [
    {
     "name": "stdout",
     "output_type": "stream",
     "text": [
      "X_train shape: (5511, 13) X_test shape: (1378, 13)\n"
     ]
    }
   ],
   "source": [
    "target = 'round'\n",
    "X = df_merged.drop(columns=target)\n",
    "y = df_merged[target]\n",
    "\n",
    "X_train, X_test, y_train, y_test = train_test_split(X, y,\n",
    "                                                    test_size=.2,\n",
    "                                                    random_state=42)\n",
    "\n",
    "print(f'X_train shape: {X_train.shape} X_test shape: {X_test.shape}')"
   ],
   "metadata": {
    "collapsed": false,
    "pycharm": {
     "name": "#%%\n"
    }
   }
  },
  {
   "cell_type": "markdown",
   "source": [
    "## Baseline Accuracy"
   ],
   "metadata": {
    "collapsed": false,
    "pycharm": {
     "name": "#%% md\n"
    }
   }
  },
  {
   "cell_type": "code",
   "execution_count": 153,
   "outputs": [
    {
     "data": {
      "text/plain": "0.5619102917694876"
     },
     "execution_count": 153,
     "metadata": {},
     "output_type": "execute_result"
    }
   ],
   "source": [
    "baseline = y.value_counts(normalize=True).max()\n",
    "baseline\n"
   ],
   "metadata": {
    "collapsed": false,
    "pycharm": {
     "name": "#%%\n"
    }
   }
  },
  {
   "cell_type": "markdown",
   "source": [
    "## Build Random Forest Model/Pipeline"
   ],
   "metadata": {
    "collapsed": false,
    "pycharm": {
     "name": "#%% md\n"
    }
   }
  },
  {
   "cell_type": "code",
   "execution_count": 154,
   "outputs": [
    {
     "data": {
      "text/plain": "Pipeline(steps=[('ordinalencoder',\n                 OrdinalEncoder(cols=['pos_group', 'offense_defense',\n                                      'line_or_skill'],\n                                mapping=[{'col': 'pos_group',\n                                          'data_type': dtype('O'),\n                                          'mapping': CB     1\nLB     2\nS      3\nOL     4\nDL     5\nTE     6\nWR     7\nRB     8\nNaN   -2\ndtype: int64},\n                                         {'col': 'offense_defense',\n                                          'data_type': dtype('O'),\n                                          'mapping': D      1\nO      2\nNaN   -2\ndtype: int64},\n                                         {'col': 'line_or_skill',\n                                          'data_type': dtype('O'),\n                                          'mapping': S      1\nL      2\nNaN   -2\ndtype: int64}])),\n                ('simpleimputer', SimpleImputer()),\n                ('randomforestclassifier',\n                 RandomForestClassifier(random_state=42))])"
     },
     "execution_count": 154,
     "metadata": {},
     "output_type": "execute_result"
    }
   ],
   "source": [
    "# very similar to RandomForest\n",
    "model_rf = make_pipeline(\n",
    "    OrdinalEncoder(),\n",
    "    SimpleImputer(),\n",
    "    RandomForestClassifier(random_state=42)\n",
    ")\n",
    "\n",
    "model_rf.fit(X_train, y_train)"
   ],
   "metadata": {
    "collapsed": false,
    "pycharm": {
     "name": "#%%\n"
    }
   }
  },
  {
   "cell_type": "markdown",
   "source": [
    "### Evaluate Random Forest Model/Pipeline"
   ],
   "metadata": {
    "collapsed": false
   }
  },
  {
   "cell_type": "code",
   "execution_count": 155,
   "outputs": [
    {
     "name": "stdout",
     "output_type": "stream",
     "text": [
      "Random Forest Training Accuracy 1.0\n",
      "Random Forest Validation Accuracy 0.5413642960812772\n"
     ]
    },
    {
     "data": {
      "text/plain": "      height (in)  weight (lbs)  hand size (in)  arm length (in)  40 yard  \\\n1235        69.30           194            8.50           30.880     4.63   \n6685        72.25           230            9.63           32.250     4.68   \n5050        69.38           216            9.38           30.375     4.67   \n6780        75.50           291            9.38           33.625     4.89   \n7338        71.50           204            8.38           32.125     4.42   \n...           ...           ...             ...              ...      ...   \n4678        74.38           223            9.88           32.380     4.63   \n6400        73.63           240            9.75           31.750     4.79   \n6442        75.25           306           10.63           33.250     5.27   \n6640        71.75           232           10.00           32.000     4.78   \n1097        71.60           233            9.75           32.880     4.59   \n\n      bench press  vert leap (in)  broad jump (in)  shuttle  3cone pos_group  \\\n1235          8.0            31.0            112.0      NaN    NaN        CB   \n6685          NaN            35.5            117.0     4.38   7.35        LB   \n5050         15.0            31.0            115.0     4.55   7.37         S   \n6780         23.0            32.0            116.0     4.59   7.57        OL   \n7338         25.0            35.0            121.0     4.39   7.21         S   \n...           ...             ...              ...      ...    ...       ...   \n4678         13.0            32.0            121.0     4.50   7.15        RB   \n6400         18.0            29.5            114.0     4.87   6.79        LB   \n6442         22.0            24.5            100.0     4.81   7.97        OL   \n6640         18.0            33.0            116.0     4.21   7.30        LB   \n1097         22.0            34.5            118.0      NaN    NaN        LB   \n\n     offense_defense line_or_skill  \n1235               D             S  \n6685               D             S  \n5050               D             S  \n6780               O             L  \n7338               D             S  \n...              ...           ...  \n4678               O             S  \n6400               D             S  \n6442               O             L  \n6640               D             S  \n1097               D             S  \n\n[5511 rows x 13 columns]",
      "text/html": "<div>\n<style scoped>\n    .dataframe tbody tr th:only-of-type {\n        vertical-align: middle;\n    }\n\n    .dataframe tbody tr th {\n        vertical-align: top;\n    }\n\n    .dataframe thead th {\n        text-align: right;\n    }\n</style>\n<table border=\"1\" class=\"dataframe\">\n  <thead>\n    <tr style=\"text-align: right;\">\n      <th></th>\n      <th>height (in)</th>\n      <th>weight (lbs)</th>\n      <th>hand size (in)</th>\n      <th>arm length (in)</th>\n      <th>40 yard</th>\n      <th>bench press</th>\n      <th>vert leap (in)</th>\n      <th>broad jump (in)</th>\n      <th>shuttle</th>\n      <th>3cone</th>\n      <th>pos_group</th>\n      <th>offense_defense</th>\n      <th>line_or_skill</th>\n    </tr>\n  </thead>\n  <tbody>\n    <tr>\n      <th>1235</th>\n      <td>69.30</td>\n      <td>194</td>\n      <td>8.50</td>\n      <td>30.880</td>\n      <td>4.63</td>\n      <td>8.0</td>\n      <td>31.0</td>\n      <td>112.0</td>\n      <td>NaN</td>\n      <td>NaN</td>\n      <td>CB</td>\n      <td>D</td>\n      <td>S</td>\n    </tr>\n    <tr>\n      <th>6685</th>\n      <td>72.25</td>\n      <td>230</td>\n      <td>9.63</td>\n      <td>32.250</td>\n      <td>4.68</td>\n      <td>NaN</td>\n      <td>35.5</td>\n      <td>117.0</td>\n      <td>4.38</td>\n      <td>7.35</td>\n      <td>LB</td>\n      <td>D</td>\n      <td>S</td>\n    </tr>\n    <tr>\n      <th>5050</th>\n      <td>69.38</td>\n      <td>216</td>\n      <td>9.38</td>\n      <td>30.375</td>\n      <td>4.67</td>\n      <td>15.0</td>\n      <td>31.0</td>\n      <td>115.0</td>\n      <td>4.55</td>\n      <td>7.37</td>\n      <td>S</td>\n      <td>D</td>\n      <td>S</td>\n    </tr>\n    <tr>\n      <th>6780</th>\n      <td>75.50</td>\n      <td>291</td>\n      <td>9.38</td>\n      <td>33.625</td>\n      <td>4.89</td>\n      <td>23.0</td>\n      <td>32.0</td>\n      <td>116.0</td>\n      <td>4.59</td>\n      <td>7.57</td>\n      <td>OL</td>\n      <td>O</td>\n      <td>L</td>\n    </tr>\n    <tr>\n      <th>7338</th>\n      <td>71.50</td>\n      <td>204</td>\n      <td>8.38</td>\n      <td>32.125</td>\n      <td>4.42</td>\n      <td>25.0</td>\n      <td>35.0</td>\n      <td>121.0</td>\n      <td>4.39</td>\n      <td>7.21</td>\n      <td>S</td>\n      <td>D</td>\n      <td>S</td>\n    </tr>\n    <tr>\n      <th>...</th>\n      <td>...</td>\n      <td>...</td>\n      <td>...</td>\n      <td>...</td>\n      <td>...</td>\n      <td>...</td>\n      <td>...</td>\n      <td>...</td>\n      <td>...</td>\n      <td>...</td>\n      <td>...</td>\n      <td>...</td>\n      <td>...</td>\n    </tr>\n    <tr>\n      <th>4678</th>\n      <td>74.38</td>\n      <td>223</td>\n      <td>9.88</td>\n      <td>32.380</td>\n      <td>4.63</td>\n      <td>13.0</td>\n      <td>32.0</td>\n      <td>121.0</td>\n      <td>4.50</td>\n      <td>7.15</td>\n      <td>RB</td>\n      <td>O</td>\n      <td>S</td>\n    </tr>\n    <tr>\n      <th>6400</th>\n      <td>73.63</td>\n      <td>240</td>\n      <td>9.75</td>\n      <td>31.750</td>\n      <td>4.79</td>\n      <td>18.0</td>\n      <td>29.5</td>\n      <td>114.0</td>\n      <td>4.87</td>\n      <td>6.79</td>\n      <td>LB</td>\n      <td>D</td>\n      <td>S</td>\n    </tr>\n    <tr>\n      <th>6442</th>\n      <td>75.25</td>\n      <td>306</td>\n      <td>10.63</td>\n      <td>33.250</td>\n      <td>5.27</td>\n      <td>22.0</td>\n      <td>24.5</td>\n      <td>100.0</td>\n      <td>4.81</td>\n      <td>7.97</td>\n      <td>OL</td>\n      <td>O</td>\n      <td>L</td>\n    </tr>\n    <tr>\n      <th>6640</th>\n      <td>71.75</td>\n      <td>232</td>\n      <td>10.00</td>\n      <td>32.000</td>\n      <td>4.78</td>\n      <td>18.0</td>\n      <td>33.0</td>\n      <td>116.0</td>\n      <td>4.21</td>\n      <td>7.30</td>\n      <td>LB</td>\n      <td>D</td>\n      <td>S</td>\n    </tr>\n    <tr>\n      <th>1097</th>\n      <td>71.60</td>\n      <td>233</td>\n      <td>9.75</td>\n      <td>32.880</td>\n      <td>4.59</td>\n      <td>22.0</td>\n      <td>34.5</td>\n      <td>118.0</td>\n      <td>NaN</td>\n      <td>NaN</td>\n      <td>LB</td>\n      <td>D</td>\n      <td>S</td>\n    </tr>\n  </tbody>\n</table>\n<p>5511 rows × 13 columns</p>\n</div>"
     },
     "execution_count": 155,
     "metadata": {},
     "output_type": "execute_result"
    }
   ],
   "source": [
    "print('Random Forest Training Accuracy', model_rf.score(X_train, y_train))\n",
    "print('Random Forest Validation Accuracy', model_rf.score(X_test, y_test))\n",
    "X_train"
   ],
   "metadata": {
    "collapsed": false,
    "pycharm": {
     "name": "#%%\n"
    }
   }
  },
  {
   "cell_type": "markdown",
   "source": [
    "### Get Permutation importances for model"
   ],
   "metadata": {
    "collapsed": false,
    "pycharm": {
     "name": "#%% md\n"
    }
   }
  },
  {
   "cell_type": "code",
   "execution_count": 156,
   "outputs": [
    {
     "data": {
      "text/plain": "<Figure size 432x288 with 1 Axes>",
      "image/png": "[encoded data removed]"
     },
     "metadata": {
      "needs_background": "light"
     },
     "output_type": "display_data"
    }
   ],
   "source": [
    "importances = model_rf.named_steps['randomforestclassifier'].feature_importances_\n",
    "\n",
    "gini_imp = pd.DataFrame(data=importances, index=X_test.columns, columns=['gini_impurity']).sort_values(by='gini_impurity')\n",
    "\n",
    "gini_imp.tail(10).plot(kind='barh');\n",
    "\n"
   ],
   "metadata": {
    "collapsed": false,
    "pycharm": {
     "name": "#%%\n"
    }
   }
  },
  {
   "cell_type": "markdown",
   "source": [
    "## Build XGBoost Model/Pipeline"
   ],
   "metadata": {
    "collapsed": false
   }
  },
  {
   "cell_type": "code",
   "execution_count": 157,
   "outputs": [
    {
     "data": {
      "text/plain": "Pipeline(steps=[('ordinalencoder',\n                 OrdinalEncoder(cols=['pos_group', 'offense_defense',\n                                      'line_or_skill'],\n                                mapping=[{'col': 'pos_group',\n                                          'data_type': dtype('O'),\n                                          'mapping': CB     1\nLB     2\nS      3\nOL     4\nDL     5\nTE     6\nWR     7\nRB     8\nNaN   -2\ndtype: int64},\n                                         {'col': 'offense_defense',\n                                          'data_type': dtype('O'),\n                                          'mapping': D      1\nO      2\nNaN   -2\ndtype: int64},\n                                         {'col': 'line_or_skill',\n                                          'data_type': dtype('O'),\n                                          'mapping': S      1\nL      2\nNaN   -2\ndtype: int64}])),\n                ('simpleimputer', SimpleImputer()),\n                ('gradientboostingclassifier',\n                 GradientBoostingClassifier(max_depth=6, n_estimators=1000,\n                                            random_state=42, subsample=1))])"
     },
     "execution_count": 157,
     "metadata": {},
     "output_type": "execute_result"
    }
   ],
   "source": [
    "model_xgb = make_pipeline(\n",
    "    OrdinalEncoder(),\n",
    "    SimpleImputer(),\n",
    "    GradientBoostingClassifier(\n",
    "        loss='deviance',\n",
    "        # learning_rate=0.1,\n",
    "        n_estimators=1_000,\n",
    "        subsample=1,\n",
    "        max_depth=6,\n",
    "        random_state=42\n",
    "    )\n",
    ")\n",
    "\n",
    "model_xgb.fit(X_train, y_train)"
   ],
   "metadata": {
    "collapsed": false,
    "pycharm": {
     "name": "#%%\n"
    }
   }
  },
  {
   "cell_type": "markdown",
   "source": [
    "### Evaluate XGBoost Model/Pipeline"
   ],
   "metadata": {
    "collapsed": false
   }
  },
  {
   "cell_type": "code",
   "execution_count": 158,
   "outputs": [
    {
     "name": "stdout",
     "output_type": "stream",
     "text": [
      "XGBoost Forest Training Accuracy 1.0\n",
      "XGBoost Forest Validation Accuracy 0.5297532656023222\n"
     ]
    }
   ],
   "source": [
    "print('XGBoost Forest Training Accuracy', model_xgb.score(X_train, y_train))\n",
    "print('XGBoost Forest Validation Accuracy', model_xgb.score(X_test, y_test))"
   ],
   "metadata": {
    "collapsed": false,
    "pycharm": {
     "name": "#%%\n"
    }
   }
  }
 ],
 "metadata": {
  "kernelspec": {
   "display_name": "Python 3",
   "language": "python",
   "name": "python3"
  },
  "language_info": {
   "codemirror_mode": {
    "name": "ipython",
    "version": 2
   },
   "file_extension": ".py",
   "mimetype": "text/x-python",
   "name": "python",
   "nbconvert_exporter": "python",
   "pygments_lexer": "ipython2",
   "version": "2.7.6"
  }
 },
 "nbformat": 4,
 "nbformat_minor": 0
}