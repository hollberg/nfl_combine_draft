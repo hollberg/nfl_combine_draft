{
 "cells": [
  {
   "cell_type": "markdown",
   "metadata": {},
   "source": [
    "# Clean Data"
   ]
  },
  {
   "cell_type": "markdown",
   "metadata": {
    "pycharm": {
     "name": "#%% md\n"
    }
   },
   "source": [
    "### Imports"
   ]
  },
  {
   "cell_type": "code",
   "execution_count": 124,
   "metadata": {
    "pycharm": {
     "name": "#%%\n"
    }
   },
   "outputs": [],
   "source": [
    "import numpy as np\n",
    "import pandas as pd\n",
    "\n",
    "# visualization\n",
    "import matplotlib.pyplot as plt\n",
    "%matplotlib inline\n",
    "import seaborn as sns\n",
    "\n",
    "from sklearn.model_selection import train_test_split\n",
    "\n",
    "# To visualize pipeline models\n",
    "from sklearn import set_config\n",
    "from sklearn.utils import estimator_html_repr\n",
    "\n",
    "\n",
    "# encoders\n",
    "from category_encoders import OneHotEncoder, OrdinalEncoder\n",
    "from sklearn.impute import SimpleImputer\n",
    "from sklearn.preprocessing import StandardScaler\n",
    "\n",
    "#metrics\n",
    "from sklearn.metrics import accuracy_score, precision_score, roc_auc_score\n",
    "from sklearn.metrics import classification_report, mean_squared_error\n",
    "from sklearn.metrics import confusion_matrix, ConfusionMatrixDisplay\n",
    "\n",
    "#pipeline\n",
    "from sklearn.pipeline import make_pipeline\n",
    "\n",
    "# machine learning\n",
    "from sklearn.linear_model import LogisticRegression, RidgeClassifierCV\n",
    "from sklearn.ensemble import RandomForestClassifier\n",
    "from sklearn.tree import DecisionTreeClassifier\n",
    "from sklearn.model_selection import RandomizedSearchCV\n",
    "\n",
    "# Boosted Models\n",
    "from xgboost import XGBClassifier\n",
    "\n",
    "# Permutation Importance\n",
    "from sklearn.inspection import permutation_importance\n",
    "\n",
    "# for displaying images and html\n",
    "from IPython.display import Image\n",
    "from IPython.core.display import HTML\n"
   ]
  },
  {
   "cell_type": "markdown",
   "source": [
    "## Utility Function"
   ],
   "metadata": {
    "collapsed": false,
    "pycharm": {
     "name": "#%% md\n"
    }
   }
  },
  {
   "cell_type": "code",
   "execution_count": 125,
   "outputs": [],
   "source": [
    "def group_imputer(df, grouping_col, cols_to_impute):\n",
    "    \"\"\"\n",
    "    Impute values in a dataframe based on averages WITHIN a given category\n",
    "    :param df: Pandas DataFrame\n",
    "    :param grouping_col: String, column name to group by\n",
    "    :param cols_to_impute: List, column names where NaNs will be imputed\n",
    "    :return: Pandas DataFrame\n",
    "    \"\"\"\n",
    "    entries_in_group_col = df[grouping_col].unique()\n",
    "    df_group_means = df.groupby(by=grouping_col)[cols_to_impute].median()\n",
    "\n",
    "    # Loop over input df and replace/impute values\n",
    "    for entry in entries_in_group_col:\n",
    "        for column in cols_to_impute:\n",
    "            fill_value = df_group_means.loc[entry, column]\n",
    "            # fill_value = 100.01\n",
    "            # df[df[grouping_col]==entry][column] = df[df[grouping_col]==entry][column].fillna(fill_value)\n",
    "            # df[df[grouping_col] == entry][column].fillna(fill_value, inplace=True)\n",
    "            mask = df[grouping_col] == entry\n",
    "            df.loc[mask, column] = df.loc[mask, column].fillna(fill_value)\n",
    "\n",
    "    return df"
   ],
   "metadata": {
    "collapsed": false,
    "pycharm": {
     "name": "#%%\n"
    }
   }
  },
  {
   "cell_type": "markdown",
   "metadata": {},
   "source": [
    "## Clean NFL Combine Data"
   ]
  },
  {
   "cell_type": "code",
   "execution_count": 126,
   "metadata": {
    "pycharm": {
     "name": "#%%\n"
    }
   },
   "outputs": [
    {
     "name": "stdout",
     "output_type": "stream",
     "text": [
      "(12808, 15)\n",
      "Cleaned combine size:  (8465, 15)\n"
     ]
    },
    {
     "data": {
      "text/plain": "      year              name              school  pos  height (in)  \\\n4343  2000    Darnell Alford      Boston College   OT         76.0   \n4344  2000      Kyle Allamon          Texas Tech   TE         74.5   \n4345  2000  Rashard Anderson  Jackson State (MS)   CB         74.4   \n4346  2000      Corey Atkins      South Carolina  OLB         72.4   \n4347  2000     Reggie Austin         Wake Forest   CB         69.4   \n\n      weight (lbs)  hand size (in)  arm length (in)  40 yard  bench press  \\\n4343           334           10.50            34.00     5.58         23.0   \n4344           253            9.88            31.00     5.01          NaN   \n4345           206           10.00            33.00     4.59          NaN   \n4346           237            9.75            31.88     4.76         21.0   \n4347           175            8.50            30.00     4.46         17.0   \n\n      vert leap (in)  broad jump (in)  shuttle  3cone  60yd shuttle  \n4343            25.0             94.0     4.98   8.48           NaN  \n4344            29.0            104.0     4.49   7.29         12.47  \n4345            34.0            123.0     4.15   7.18         11.72  \n4346            31.0            112.0     4.39   7.96         11.87  \n4347            35.0            119.0     4.14   7.03           NaN  ",
      "text/html": "<div>\n<style scoped>\n    .dataframe tbody tr th:only-of-type {\n        vertical-align: middle;\n    }\n\n    .dataframe tbody tr th {\n        vertical-align: top;\n    }\n\n    .dataframe thead th {\n        text-align: right;\n    }\n</style>\n<table border=\"1\" class=\"dataframe\">\n  <thead>\n    <tr style=\"text-align: right;\">\n      <th></th>\n      <th>year</th>\n      <th>name</th>\n      <th>school</th>\n      <th>pos</th>\n      <th>height (in)</th>\n      <th>weight (lbs)</th>\n      <th>hand size (in)</th>\n      <th>arm length (in)</th>\n      <th>40 yard</th>\n      <th>bench press</th>\n      <th>vert leap (in)</th>\n      <th>broad jump (in)</th>\n      <th>shuttle</th>\n      <th>3cone</th>\n      <th>60yd shuttle</th>\n    </tr>\n  </thead>\n  <tbody>\n    <tr>\n      <th>4343</th>\n      <td>2000</td>\n      <td>Darnell Alford</td>\n      <td>Boston College</td>\n      <td>OT</td>\n      <td>76.0</td>\n      <td>334</td>\n      <td>10.50</td>\n      <td>34.00</td>\n      <td>5.58</td>\n      <td>23.0</td>\n      <td>25.0</td>\n      <td>94.0</td>\n      <td>4.98</td>\n      <td>8.48</td>\n      <td>NaN</td>\n    </tr>\n    <tr>\n      <th>4344</th>\n      <td>2000</td>\n      <td>Kyle Allamon</td>\n      <td>Texas Tech</td>\n      <td>TE</td>\n      <td>74.5</td>\n      <td>253</td>\n      <td>9.88</td>\n      <td>31.00</td>\n      <td>5.01</td>\n      <td>NaN</td>\n      <td>29.0</td>\n      <td>104.0</td>\n      <td>4.49</td>\n      <td>7.29</td>\n      <td>12.47</td>\n    </tr>\n    <tr>\n      <th>4345</th>\n      <td>2000</td>\n      <td>Rashard Anderson</td>\n      <td>Jackson State (MS)</td>\n      <td>CB</td>\n      <td>74.4</td>\n      <td>206</td>\n      <td>10.00</td>\n      <td>33.00</td>\n      <td>4.59</td>\n      <td>NaN</td>\n      <td>34.0</td>\n      <td>123.0</td>\n      <td>4.15</td>\n      <td>7.18</td>\n      <td>11.72</td>\n    </tr>\n    <tr>\n      <th>4346</th>\n      <td>2000</td>\n      <td>Corey Atkins</td>\n      <td>South Carolina</td>\n      <td>OLB</td>\n      <td>72.4</td>\n      <td>237</td>\n      <td>9.75</td>\n      <td>31.88</td>\n      <td>4.76</td>\n      <td>21.0</td>\n      <td>31.0</td>\n      <td>112.0</td>\n      <td>4.39</td>\n      <td>7.96</td>\n      <td>11.87</td>\n    </tr>\n    <tr>\n      <th>4347</th>\n      <td>2000</td>\n      <td>Reggie Austin</td>\n      <td>Wake Forest</td>\n      <td>CB</td>\n      <td>69.4</td>\n      <td>175</td>\n      <td>8.50</td>\n      <td>30.00</td>\n      <td>4.46</td>\n      <td>17.0</td>\n      <td>35.0</td>\n      <td>119.0</td>\n      <td>4.14</td>\n      <td>7.03</td>\n      <td>NaN</td>\n    </tr>\n  </tbody>\n</table>\n</div>"
     },
     "execution_count": 126,
     "metadata": {},
     "output_type": "execute_result"
    }
   ],
   "source": [
    "combine_file = r'data\\nfl_combine_1987_2020.csv'\n",
    "\n",
    "df_raw_combine = pd.read_csv(combine_file)\n",
    "\n",
    "df_raw_combine.head()\n",
    "\n",
    "# Keep raw data import for reference - build copy to modify\n",
    "df_combine = df_raw_combine\n",
    "\n",
    "# Drop dummy '0' column and Wonderlic scores data\n",
    "combine_cols_to_drop = ['Unnamed: 0', 'Wonderlic']\n",
    "df_combine.drop(columns=combine_cols_to_drop, inplace=True)\n",
    "\n",
    "# Clean column headers\n",
    "df_combine.columns = df_combine.columns.str.lower()\n",
    "df_combine.rename(columns={'college':'school'}, inplace=True)\n",
    "\n",
    "# Clean school names\n",
    "df_combine['school'] = df_combine['school'].str.strip()\n",
    "\n",
    "# Drop years prior to 2000 (no draft data)\n",
    "print(df_combine.shape)\n",
    "df_combine.drop(df_combine[df_combine['year']<2000].index, inplace=True)\n",
    "print('Cleaned combine size: ', df_combine.shape)\n",
    "df_combine.head()"
   ]
  },
  {
   "cell_type": "markdown",
   "metadata": {},
   "source": [
    "## Import position mapping data\n",
    "The \"combine\" dataset maps players to very specific positions (ie, \"Free Safety\" or \"Outside Linebacker\").\n",
    "\n",
    "Map these granular positions to more standard positions. Also classify each position as \"Offense\" or \"Defense\", and indicate if the position is a \"Skill\" position or on the line of scrimmage."
   ]
  },
  {
   "cell_type": "code",
   "execution_count": 127,
   "metadata": {
    "pycharm": {
     "name": "#%%\n"
    }
   },
   "outputs": [
    {
     "data": {
      "text/plain": "  pos pos_group offense_defense line_or_skill\n0  WR        WR               O             S\n1  CB        CB               D             S\n2  RB        RB               O             S\n3  DE        DL               D             L\n4  OT        OL               O             L",
      "text/html": "<div>\n<style scoped>\n    .dataframe tbody tr th:only-of-type {\n        vertical-align: middle;\n    }\n\n    .dataframe tbody tr th {\n        vertical-align: top;\n    }\n\n    .dataframe thead th {\n        text-align: right;\n    }\n</style>\n<table border=\"1\" class=\"dataframe\">\n  <thead>\n    <tr style=\"text-align: right;\">\n      <th></th>\n      <th>pos</th>\n      <th>pos_group</th>\n      <th>offense_defense</th>\n      <th>line_or_skill</th>\n    </tr>\n  </thead>\n  <tbody>\n    <tr>\n      <th>0</th>\n      <td>WR</td>\n      <td>WR</td>\n      <td>O</td>\n      <td>S</td>\n    </tr>\n    <tr>\n      <th>1</th>\n      <td>CB</td>\n      <td>CB</td>\n      <td>D</td>\n      <td>S</td>\n    </tr>\n    <tr>\n      <th>2</th>\n      <td>RB</td>\n      <td>RB</td>\n      <td>O</td>\n      <td>S</td>\n    </tr>\n    <tr>\n      <th>3</th>\n      <td>DE</td>\n      <td>DL</td>\n      <td>D</td>\n      <td>L</td>\n    </tr>\n    <tr>\n      <th>4</th>\n      <td>OT</td>\n      <td>OL</td>\n      <td>O</td>\n      <td>L</td>\n    </tr>\n  </tbody>\n</table>\n</div>"
     },
     "execution_count": 127,
     "metadata": {},
     "output_type": "execute_result"
    }
   ],
   "source": [
    "df_positions = pd.read_csv('data/position_mapping.csv')\n",
    "df_positions.head()"
   ]
  },
  {
   "cell_type": "markdown",
   "metadata": {},
   "source": [
    "### Merge the draft and position mapping datasets"
   ]
  },
  {
   "cell_type": "code",
   "execution_count": 128,
   "metadata": {
    "pycharm": {
     "name": "#%%\n"
    }
   },
   "outputs": [
    {
     "name": "stdout",
     "output_type": "stream",
     "text": [
      "Granular position counts in combine dataset:\n",
      "WR    1095\n",
      "CB     864\n",
      "RB     700\n",
      "DE     657\n",
      "DT     647\n",
      "Name: pos, dtype: int64\n",
      "\n",
      "Position Group counts after merging with position map:\n",
      "OL    1409\n",
      "DL    1331\n",
      "WR    1095\n",
      "LB    1027\n",
      "CB     864\n",
      "S      701\n",
      "RB     700\n",
      "TE     471\n",
      "QB     470\n",
      "K      200\n",
      "FB     175\n",
      "SN      22\n",
      "Name: pos_group, dtype: int64\n"
     ]
    },
    {
     "data": {
      "text/plain": "   year              name              school  pos  height (in)  weight (lbs)  \\\n0  2000    Darnell Alford      Boston College   OT         76.0           334   \n1  2000      Kyle Allamon          Texas Tech   TE         74.5           253   \n2  2000  Rashard Anderson  Jackson State (MS)   CB         74.4           206   \n3  2000      Corey Atkins      South Carolina  OLB         72.4           237   \n4  2000     Reggie Austin         Wake Forest   CB         69.4           175   \n\n   hand size (in)  arm length (in)  40 yard  bench press  vert leap (in)  \\\n0           10.50            34.00     5.58         23.0            25.0   \n1            9.88            31.00     5.01          NaN            29.0   \n2           10.00            33.00     4.59          NaN            34.0   \n3            9.75            31.88     4.76         21.0            31.0   \n4            8.50            30.00     4.46         17.0            35.0   \n\n   broad jump (in)  shuttle  3cone  60yd shuttle pos_group offense_defense  \\\n0             94.0     4.98   8.48           NaN        OL               O   \n1            104.0     4.49   7.29         12.47        TE               O   \n2            123.0     4.15   7.18         11.72        CB               D   \n3            112.0     4.39   7.96         11.87        LB               D   \n4            119.0     4.14   7.03           NaN        CB               D   \n\n  line_or_skill  \n0             L  \n1             S  \n2             S  \n3             S  \n4             S  ",
      "text/html": "<div>\n<style scoped>\n    .dataframe tbody tr th:only-of-type {\n        vertical-align: middle;\n    }\n\n    .dataframe tbody tr th {\n        vertical-align: top;\n    }\n\n    .dataframe thead th {\n        text-align: right;\n    }\n</style>\n<table border=\"1\" class=\"dataframe\">\n  <thead>\n    <tr style=\"text-align: right;\">\n      <th></th>\n      <th>year</th>\n      <th>name</th>\n      <th>school</th>\n      <th>pos</th>\n      <th>height (in)</th>\n      <th>weight (lbs)</th>\n      <th>hand size (in)</th>\n      <th>arm length (in)</th>\n      <th>40 yard</th>\n      <th>bench press</th>\n      <th>vert leap (in)</th>\n      <th>broad jump (in)</th>\n      <th>shuttle</th>\n      <th>3cone</th>\n      <th>60yd shuttle</th>\n      <th>pos_group</th>\n      <th>offense_defense</th>\n      <th>line_or_skill</th>\n    </tr>\n  </thead>\n  <tbody>\n    <tr>\n      <th>0</th>\n      <td>2000</td>\n      <td>Darnell Alford</td>\n      <td>Boston College</td>\n      <td>OT</td>\n      <td>76.0</td>\n      <td>334</td>\n      <td>10.50</td>\n      <td>34.00</td>\n      <td>5.58</td>\n      <td>23.0</td>\n      <td>25.0</td>\n      <td>94.0</td>\n      <td>4.98</td>\n      <td>8.48</td>\n      <td>NaN</td>\n      <td>OL</td>\n      <td>O</td>\n      <td>L</td>\n    </tr>\n    <tr>\n      <th>1</th>\n      <td>2000</td>\n      <td>Kyle Allamon</td>\n      <td>Texas Tech</td>\n      <td>TE</td>\n      <td>74.5</td>\n      <td>253</td>\n      <td>9.88</td>\n      <td>31.00</td>\n      <td>5.01</td>\n      <td>NaN</td>\n      <td>29.0</td>\n      <td>104.0</td>\n      <td>4.49</td>\n      <td>7.29</td>\n      <td>12.47</td>\n      <td>TE</td>\n      <td>O</td>\n      <td>S</td>\n    </tr>\n    <tr>\n      <th>2</th>\n      <td>2000</td>\n      <td>Rashard Anderson</td>\n      <td>Jackson State (MS)</td>\n      <td>CB</td>\n      <td>74.4</td>\n      <td>206</td>\n      <td>10.00</td>\n      <td>33.00</td>\n      <td>4.59</td>\n      <td>NaN</td>\n      <td>34.0</td>\n      <td>123.0</td>\n      <td>4.15</td>\n      <td>7.18</td>\n      <td>11.72</td>\n      <td>CB</td>\n      <td>D</td>\n      <td>S</td>\n    </tr>\n    <tr>\n      <th>3</th>\n      <td>2000</td>\n      <td>Corey Atkins</td>\n      <td>South Carolina</td>\n      <td>OLB</td>\n      <td>72.4</td>\n      <td>237</td>\n      <td>9.75</td>\n      <td>31.88</td>\n      <td>4.76</td>\n      <td>21.0</td>\n      <td>31.0</td>\n      <td>112.0</td>\n      <td>4.39</td>\n      <td>7.96</td>\n      <td>11.87</td>\n      <td>LB</td>\n      <td>D</td>\n      <td>S</td>\n    </tr>\n    <tr>\n      <th>4</th>\n      <td>2000</td>\n      <td>Reggie Austin</td>\n      <td>Wake Forest</td>\n      <td>CB</td>\n      <td>69.4</td>\n      <td>175</td>\n      <td>8.50</td>\n      <td>30.00</td>\n      <td>4.46</td>\n      <td>17.0</td>\n      <td>35.0</td>\n      <td>119.0</td>\n      <td>4.14</td>\n      <td>7.03</td>\n      <td>NaN</td>\n      <td>CB</td>\n      <td>D</td>\n      <td>S</td>\n    </tr>\n  </tbody>\n</table>\n</div>"
     },
     "execution_count": 128,
     "metadata": {},
     "output_type": "execute_result"
    }
   ],
   "source": [
    "print('Granular position counts in combine dataset:')\n",
    "print(df_combine['pos'].value_counts().head())\n",
    "\n",
    "df_combine = df_combine.merge(df_positions,\n",
    "                          how='left',\n",
    "                          on='pos')\n",
    "\n",
    "print('\\nPosition Group counts after merging with position map:')\n",
    "print(df_combine['pos_group'].value_counts())\n",
    "\n",
    "df_combine.head()"
   ]
  },
  {
   "cell_type": "markdown",
   "metadata": {
    "pycharm": {
     "name": "#%% md\n"
    }
   },
   "source": [
    "#### Visualize combine performance distributions by position"
   ]
  },
  {
   "cell_type": "code",
   "execution_count": 129,
   "metadata": {
    "pycharm": {
     "name": "#%%\n"
    }
   },
   "outputs": [
    {
     "name": "stdout",
     "output_type": "stream",
     "text": [
      "['OL', 'TE', 'CB', 'LB', 'S', 'DL', 'QB', 'RB', 'WR', 'FB']\n",
      "{'WR': 'S', 'CB': 'S', 'RB': 'S', 'DL': 'L', 'OL': 'L', 'LB': 'S', 'TE': 'S', 'QB': 'S', 'S': 'S', 'FB': 'S', 'K': 'ST', 'SN': 'ST'}\n",
      "['OL', 'DL', 'TE', 'CB', 'LB', 'S', 'QB', 'RB', 'WR', 'FB']\n",
      "Unique Positions:  10\n",
      "Index(['year', 'name', 'school', 'pos', 'height (in)', 'weight (lbs)',\n",
      "       'hand size (in)', 'arm length (in)', '40 yard', 'bench press',\n",
      "       'vert leap (in)', 'broad jump (in)', 'shuttle', '3cone', '60yd shuttle',\n",
      "       'pos_group', 'offense_defense', 'line_or_skill'],\n",
      "      dtype='object')\n"
     ]
    },
    {
     "name": "stderr",
     "output_type": "stream",
     "text": [
      "C:\\Users\\mitch\\AppData\\Local\\Temp/ipykernel_51136/3965164478.py:53: UserWarning: Matplotlib is currently using module://matplotlib_inline.backend_inline, which is a non-GUI backend, so cannot show the figure.\n",
      "  fig.show()\n"
     ]
    },
    {
     "data": {
      "text/plain": "<Figure size 1800x1800 with 110 Axes>",
      "image/png": "[encoded data removed]"
     },
     "metadata": {
      "needs_background": "light"
     },
     "output_type": "display_data"
    }
   ],
   "source": [
    "positions = df_combine['pos_group'].unique()\n",
    "\n",
    "positions_to_drop = ['SN', 'K']   # Long snappers and kickers/punters\n",
    "\n",
    "positions = [pos for pos in positions if pos not in positions_to_drop]\n",
    "print(positions)\n",
    "\n",
    "# Sort positions by L(ine)/S(kill)\n",
    "sort_dict = pd.Series(df_positions['line_or_skill'].values,index=df_positions['pos_group']).to_dict()\n",
    "print(sort_dict)\n",
    "positions.sort(key=lambda x: sort_dict[x])\n",
    "print(positions)\n",
    "\n",
    "print('Unique Positions: ', len(positions))\n",
    "print(df_combine.columns)\n",
    "stat_columns = ['height (in)', 'weight (lbs)',\n",
    "       'hand size (in)', 'arm length (in)', '40 yard', 'bench press',\n",
    "       'vert leap (in)', 'broad jump (in)', 'shuttle', '3cone', '60yd shuttle']\n",
    "num_stats = len(stat_columns)\n",
    "\n",
    "fig, axes = plt.subplots(len(positions), num_stats,\n",
    "                         sharex=False,\n",
    "                         sharey=True,\n",
    "                         figsize=(25,25))\n",
    "\n",
    "fig.suptitle('NFL Combine Statistics - Distribution by Position (2000-2020)', fontsize=30)\n",
    "fig.supxlabel('Measurement', fontsize=30)\n",
    "fig.supylabel('Position', fontsize=30)\n",
    "\n",
    "fig.tight_layout(rect=[0.03, 0.03, 1, .95])\n",
    "\n",
    "# Loop over axes and data\n",
    "for row, pos in enumerate(positions):\n",
    "    x_positions = df_combine[df_combine['pos_group']==pos]\n",
    "\n",
    "    for col, stat in enumerate(stat_columns):\n",
    "        # Get axis\n",
    "        ax = axes[row,col]\n",
    "        x = x_positions[stat]\n",
    "        ax.hist(x,\n",
    "                range=[df_combine[stat].min(),df_combine[stat].max()],\n",
    "                alpha=.5, bins=10)\n",
    "        # Set Y label once per row\n",
    "        if col==0:\n",
    "            ax.set_ylabel(pos, fontsize='xx-large')\n",
    "\n",
    "        # Set X label above first row and below last row\n",
    "        if row == 0:\n",
    "            ax.set_title(stat, fontsize='xx-large')\n",
    "        if row == len(positions) - 1:\n",
    "            ax.set_xlabel(stat, fontsize='xx-large')\n",
    "\n",
    "fig.show()\n",
    "fig.savefig('images/stats_by_position.png', format='png')\n"
   ]
  },
  {
   "cell_type": "markdown",
   "metadata": {},
   "source": [
    "## Import and clean NFL Draft Data"
   ]
  },
  {
   "cell_type": "code",
   "execution_count": 130,
   "metadata": {
    "pycharm": {
     "name": "#%%\n"
    }
   },
   "outputs": [
    {
     "data": {
      "text/plain": "   year  round pk(ovr)      team             name position         school\n0  2000      1    1(1)    Browns   Courtney Brown       DE     Penn State\n1  2000      1    2(2)  Redskins  LaVar Arrington       LB     Penn State\n2  2000      1    3(3)  Redskins    Chris Samuels       OT        Alabama\n3  2000      1    4(4)   Bengals    Peter Warrick       WR  Florida State\n4  2000      1    5(5)    Ravens      Jamal Lewis       RB      Tennessee",
      "text/html": "<div>\n<style scoped>\n    .dataframe tbody tr th:only-of-type {\n        vertical-align: middle;\n    }\n\n    .dataframe tbody tr th {\n        vertical-align: top;\n    }\n\n    .dataframe thead th {\n        text-align: right;\n    }\n</style>\n<table border=\"1\" class=\"dataframe\">\n  <thead>\n    <tr style=\"text-align: right;\">\n      <th></th>\n      <th>year</th>\n      <th>round</th>\n      <th>pk(ovr)</th>\n      <th>team</th>\n      <th>name</th>\n      <th>position</th>\n      <th>school</th>\n    </tr>\n  </thead>\n  <tbody>\n    <tr>\n      <th>0</th>\n      <td>2000</td>\n      <td>1</td>\n      <td>1(1)</td>\n      <td>Browns</td>\n      <td>Courtney Brown</td>\n      <td>DE</td>\n      <td>Penn State</td>\n    </tr>\n    <tr>\n      <th>1</th>\n      <td>2000</td>\n      <td>1</td>\n      <td>2(2)</td>\n      <td>Redskins</td>\n      <td>LaVar Arrington</td>\n      <td>LB</td>\n      <td>Penn State</td>\n    </tr>\n    <tr>\n      <th>2</th>\n      <td>2000</td>\n      <td>1</td>\n      <td>3(3)</td>\n      <td>Redskins</td>\n      <td>Chris Samuels</td>\n      <td>OT</td>\n      <td>Alabama</td>\n    </tr>\n    <tr>\n      <th>3</th>\n      <td>2000</td>\n      <td>1</td>\n      <td>4(4)</td>\n      <td>Bengals</td>\n      <td>Peter Warrick</td>\n      <td>WR</td>\n      <td>Florida State</td>\n    </tr>\n    <tr>\n      <th>4</th>\n      <td>2000</td>\n      <td>1</td>\n      <td>5(5)</td>\n      <td>Ravens</td>\n      <td>Jamal Lewis</td>\n      <td>RB</td>\n      <td>Tennessee</td>\n    </tr>\n  </tbody>\n</table>\n</div>"
     },
     "execution_count": 130,
     "metadata": {},
     "output_type": "execute_result"
    }
   ],
   "source": [
    "draft_file = r'data\\espn_draft_history_2000_2021_cleaned.csv'\n",
    "df_raw_draft = pd.read_csv(draft_file)\n",
    "\n",
    "# Keep raw data import for reference - build copy to modify\n",
    "df_draft = df_raw_draft\n",
    "\n",
    "# Clean column headers\n",
    "df_draft.columns = df_draft.columns.str.lower()\n",
    "\n",
    "# Clean school names\n",
    "df_draft['school'] = df_draft['school'].str.strip()\n",
    "df_draft.head()"
   ]
  },
  {
   "cell_type": "markdown",
   "metadata": {},
   "source": [
    "### Are there duplicated names?"
   ]
  },
  {
   "cell_type": "code",
   "execution_count": 131,
   "metadata": {
    "pycharm": {
     "name": "#%%\n"
    }
   },
   "outputs": [
    {
     "data": {
      "text/plain": "Brandon Williams    5\nChris Brown         5\nBrian Allen         4\nMike Williams       4\nChris Jones         4\nMichael Bennett     3\nJosh Harris         3\nTravis Wilson       3\nSteve Smith         3\nAndre Smith         3\nName: name, dtype: int64"
     },
     "execution_count": 131,
     "metadata": {},
     "output_type": "execute_result"
    }
   ],
   "source": [
    "df_combine['name'].value_counts(sort='descending').head(10)"
   ]
  },
  {
   "cell_type": "markdown",
   "metadata": {},
   "source": [
    "### Answer: Yes\n",
    "\n",
    "So we cannot simply join the 2 datasets on player 'name' columns. Need to also join on\n",
    "college and year.\n"
   ]
  },
  {
   "cell_type": "markdown",
   "metadata": {},
   "source": [
    "## Do college names match in both datasets?"
   ]
  },
  {
   "cell_type": "code",
   "execution_count": 132,
   "metadata": {
    "pycharm": {
     "name": "#%%\n"
    }
   },
   "outputs": [
    {
     "name": "stdout",
     "output_type": "stream",
     "text": [
      "<class 'pandas.core.frame.DataFrame'>\n",
      "               school   source\n",
      "0      Boston College  combine\n",
      "1          Texas Tech  combine\n",
      "2  Jackson State (MS)  combine\n",
      "3      South Carolina  combine\n",
      "4         Wake Forest  combine\n"
     ]
    },
    {
     "data": {
      "text/plain": "                     school source_draft source_combine\n202       Abilene Christian        draft            NaN\n381  Abilene Christian (TX)          NaN        combine\n445        Adams State (CO)          NaN        combine\n345      Alabama-Birmingham          NaN        combine\n200                  Albany        draft            NaN\n388             Albany (NY)          NaN        combine\n412       Alcorn State (MS)          NaN        combine\n133       Appalachian State        draft            NaN\n336  Appalachian State (NC)          NaN        combine\n255                 Ashland        draft            NaN",
      "text/html": "<div>\n<style scoped>\n    .dataframe tbody tr th:only-of-type {\n        vertical-align: middle;\n    }\n\n    .dataframe tbody tr th {\n        vertical-align: top;\n    }\n\n    .dataframe thead th {\n        text-align: right;\n    }\n</style>\n<table border=\"1\" class=\"dataframe\">\n  <thead>\n    <tr style=\"text-align: right;\">\n      <th></th>\n      <th>school</th>\n      <th>source_draft</th>\n      <th>source_combine</th>\n    </tr>\n  </thead>\n  <tbody>\n    <tr>\n      <th>202</th>\n      <td>Abilene Christian</td>\n      <td>draft</td>\n      <td>NaN</td>\n    </tr>\n    <tr>\n      <th>381</th>\n      <td>Abilene Christian (TX)</td>\n      <td>NaN</td>\n      <td>combine</td>\n    </tr>\n    <tr>\n      <th>445</th>\n      <td>Adams State (CO)</td>\n      <td>NaN</td>\n      <td>combine</td>\n    </tr>\n    <tr>\n      <th>345</th>\n      <td>Alabama-Birmingham</td>\n      <td>NaN</td>\n      <td>combine</td>\n    </tr>\n    <tr>\n      <th>200</th>\n      <td>Albany</td>\n      <td>draft</td>\n      <td>NaN</td>\n    </tr>\n    <tr>\n      <th>388</th>\n      <td>Albany (NY)</td>\n      <td>NaN</td>\n      <td>combine</td>\n    </tr>\n    <tr>\n      <th>412</th>\n      <td>Alcorn State (MS)</td>\n      <td>NaN</td>\n      <td>combine</td>\n    </tr>\n    <tr>\n      <th>133</th>\n      <td>Appalachian State</td>\n      <td>draft</td>\n      <td>NaN</td>\n    </tr>\n    <tr>\n      <th>336</th>\n      <td>Appalachian State (NC)</td>\n      <td>NaN</td>\n      <td>combine</td>\n    </tr>\n    <tr>\n      <th>255</th>\n      <td>Ashland</td>\n      <td>draft</td>\n      <td>NaN</td>\n    </tr>\n  </tbody>\n</table>\n</div>"
     },
     "execution_count": 132,
     "metadata": {},
     "output_type": "execute_result"
    }
   ],
   "source": [
    "draft_school = pd.DataFrame(df_draft['school'].unique()).rename(columns={0:'school'})\n",
    "draft_school['source'] = 'draft'\n",
    "combine_school = pd.DataFrame(df_combine['school'].unique()).rename(columns={0:'school'})\n",
    "combine_school['source'] = 'combine'\n",
    "print(type(combine_school))\n",
    "print(combine_school.head())\n",
    "\n",
    "schools = draft_school.merge(combine_school, on='school', how='outer',\n",
    "                             suffixes=['_draft', '_combine']).sort_values(by='school')\n",
    "\n",
    "# List all cases with mismatches\n",
    "na_mask = schools.isna().any(axis=1)\n",
    "schools[na_mask].head(10)"
   ]
  },
  {
   "cell_type": "markdown",
   "metadata": {
    "pycharm": {
     "name": "#%% md\n"
    }
   },
   "source": [
    "### So we see that the 'combine' dataset frequently has the state appended to the school name;\n",
    "Ex: \"Abilene Christian (TX)\". Remove these from school names, with the exception of \"Miami (OH)."
   ]
  },
  {
   "cell_type": "code",
   "execution_count": 133,
   "metadata": {
    "pycharm": {
     "name": "#%%\n"
    }
   },
   "outputs": [
    {
     "name": "stdout",
     "output_type": "stream",
     "text": [
      "0        Boston College\n",
      "1            Texas Tech\n",
      "2    Jackson State (MS)\n",
      "3        South Carolina\n",
      "4           Wake Forest\n",
      "Name: school, dtype: object\n"
     ]
    },
    {
     "name": "stderr",
     "output_type": "stream",
     "text": [
      "C:\\Users\\mitch\\AppData\\Local\\Temp/ipykernel_51136/172860408.py:1: FutureWarning: The default value of regex will change from True to False in a future version.\n",
      "  df_combine['school'] = df_combine['school'].str.replace('Miami (OH)', 'Miami - OH')\n"
     ]
    },
    {
     "data": {
      "text/plain": "0    Boston College\n1        Texas Tech\n2    Jackson State \n3    South Carolina\n4       Wake Forest\nName: school, dtype: object"
     },
     "execution_count": 133,
     "metadata": {},
     "output_type": "execute_result"
    }
   ],
   "source": [
    "df_combine['school'] = df_combine['school'].str.replace('Miami (OH)', 'Miami - OH')\n",
    "\n",
    "print(df_combine['school'].head())\n",
    "regex_replace_parens = r'\\([^)]*[a-zA-Z][^)]*\\)'\n",
    "df_combine['school'] = df_combine['school'].str.replace(regex_replace_parens,\n",
    "                                                        '', regex=True)\n",
    "\n",
    "df_combine['school'].head()"
   ]
  },
  {
   "cell_type": "markdown",
   "metadata": {},
   "source": [
    "## Standardize player names between datasets\n",
    "Player names in the \"Draft\" dataset include suffixes including \"Jr., II, III, IV\", but these are NOT included in the \"combine\" dataset.\n",
    "\n",
    "Standardize player names between datasets by removing these values from the \"Draft\" dataset."
   ]
  },
  {
   "cell_type": "code",
   "execution_count": 134,
   "metadata": {
    "pycharm": {
     "name": "#%%\n"
    }
   },
   "outputs": [],
   "source": [
    "regex_suffixes_to_remove = r'Jr\\.$|III$|IIII$|IV$|, Jr.$'\n",
    "df_draft['name'] = df_draft['name'].str.replace(regex_suffixes_to_remove,\n",
    "                                                '', regex=True)"
   ]
  },
  {
   "cell_type": "markdown",
   "metadata": {},
   "source": [
    "### Merge the Draft and NFL Combine datasets"
   ]
  },
  {
   "cell_type": "code",
   "execution_count": 135,
   "metadata": {
    "pycharm": {
     "name": "#%%\n"
    }
   },
   "outputs": [
    {
     "data": {
      "text/plain": "   year              name          school  pos  height (in)  weight (lbs)  \\\n0  2000    Darnell Alford  Boston College   OT         76.0           334   \n1  2000      Kyle Allamon      Texas Tech   TE         74.5           253   \n2  2000  Rashard Anderson  Jackson State    CB         74.4           206   \n3  2000      Corey Atkins  South Carolina  OLB         72.4           237   \n4  2000     Reggie Austin     Wake Forest   CB         69.4           175   \n\n   hand size (in)  arm length (in)  40 yard  bench press  ...  shuttle  3cone  \\\n0           10.50            34.00     5.58         23.0  ...     4.98   8.48   \n1            9.88            31.00     5.01          NaN  ...     4.49   7.29   \n2           10.00            33.00     4.59          NaN  ...     4.15   7.18   \n3            9.75            31.88     4.76         21.0  ...     4.39   7.96   \n4            8.50            30.00     4.46         17.0  ...     4.14   7.03   \n\n   60yd shuttle  pos_group  offense_defense line_or_skill round  pk(ovr)  \\\n0           NaN         OL                O             L   6.0  22(188)   \n1         12.47         TE                O             S   NaN      NaN   \n2         11.72         CB                D             S   NaN      NaN   \n3         11.87         LB                D             S   NaN      NaN   \n4           NaN         CB                D             S   4.0  31(125)   \n\n     team position  \n0  Chiefs       OT  \n1     NaN      NaN  \n2     NaN      NaN  \n3     NaN      NaN  \n4   Bears       DB  \n\n[5 rows x 22 columns]",
      "text/html": "<div>\n<style scoped>\n    .dataframe tbody tr th:only-of-type {\n        vertical-align: middle;\n    }\n\n    .dataframe tbody tr th {\n        vertical-align: top;\n    }\n\n    .dataframe thead th {\n        text-align: right;\n    }\n</style>\n<table border=\"1\" class=\"dataframe\">\n  <thead>\n    <tr style=\"text-align: right;\">\n      <th></th>\n      <th>year</th>\n      <th>name</th>\n      <th>school</th>\n      <th>pos</th>\n      <th>height (in)</th>\n      <th>weight (lbs)</th>\n      <th>hand size (in)</th>\n      <th>arm length (in)</th>\n      <th>40 yard</th>\n      <th>bench press</th>\n      <th>...</th>\n      <th>shuttle</th>\n      <th>3cone</th>\n      <th>60yd shuttle</th>\n      <th>pos_group</th>\n      <th>offense_defense</th>\n      <th>line_or_skill</th>\n      <th>round</th>\n      <th>pk(ovr)</th>\n      <th>team</th>\n      <th>position</th>\n    </tr>\n  </thead>\n  <tbody>\n    <tr>\n      <th>0</th>\n      <td>2000</td>\n      <td>Darnell Alford</td>\n      <td>Boston College</td>\n      <td>OT</td>\n      <td>76.0</td>\n      <td>334</td>\n      <td>10.50</td>\n      <td>34.00</td>\n      <td>5.58</td>\n      <td>23.0</td>\n      <td>...</td>\n      <td>4.98</td>\n      <td>8.48</td>\n      <td>NaN</td>\n      <td>OL</td>\n      <td>O</td>\n      <td>L</td>\n      <td>6.0</td>\n      <td>22(188)</td>\n      <td>Chiefs</td>\n      <td>OT</td>\n    </tr>\n    <tr>\n      <th>1</th>\n      <td>2000</td>\n      <td>Kyle Allamon</td>\n      <td>Texas Tech</td>\n      <td>TE</td>\n      <td>74.5</td>\n      <td>253</td>\n      <td>9.88</td>\n      <td>31.00</td>\n      <td>5.01</td>\n      <td>NaN</td>\n      <td>...</td>\n      <td>4.49</td>\n      <td>7.29</td>\n      <td>12.47</td>\n      <td>TE</td>\n      <td>O</td>\n      <td>S</td>\n      <td>NaN</td>\n      <td>NaN</td>\n      <td>NaN</td>\n      <td>NaN</td>\n    </tr>\n    <tr>\n      <th>2</th>\n      <td>2000</td>\n      <td>Rashard Anderson</td>\n      <td>Jackson State</td>\n      <td>CB</td>\n      <td>74.4</td>\n      <td>206</td>\n      <td>10.00</td>\n      <td>33.00</td>\n      <td>4.59</td>\n      <td>NaN</td>\n      <td>...</td>\n      <td>4.15</td>\n      <td>7.18</td>\n      <td>11.72</td>\n      <td>CB</td>\n      <td>D</td>\n      <td>S</td>\n      <td>NaN</td>\n      <td>NaN</td>\n      <td>NaN</td>\n      <td>NaN</td>\n    </tr>\n    <tr>\n      <th>3</th>\n      <td>2000</td>\n      <td>Corey Atkins</td>\n      <td>South Carolina</td>\n      <td>OLB</td>\n      <td>72.4</td>\n      <td>237</td>\n      <td>9.75</td>\n      <td>31.88</td>\n      <td>4.76</td>\n      <td>21.0</td>\n      <td>...</td>\n      <td>4.39</td>\n      <td>7.96</td>\n      <td>11.87</td>\n      <td>LB</td>\n      <td>D</td>\n      <td>S</td>\n      <td>NaN</td>\n      <td>NaN</td>\n      <td>NaN</td>\n      <td>NaN</td>\n    </tr>\n    <tr>\n      <th>4</th>\n      <td>2000</td>\n      <td>Reggie Austin</td>\n      <td>Wake Forest</td>\n      <td>CB</td>\n      <td>69.4</td>\n      <td>175</td>\n      <td>8.50</td>\n      <td>30.00</td>\n      <td>4.46</td>\n      <td>17.0</td>\n      <td>...</td>\n      <td>4.14</td>\n      <td>7.03</td>\n      <td>NaN</td>\n      <td>CB</td>\n      <td>D</td>\n      <td>S</td>\n      <td>4.0</td>\n      <td>31(125)</td>\n      <td>Bears</td>\n      <td>DB</td>\n    </tr>\n  </tbody>\n</table>\n<p>5 rows × 22 columns</p>\n</div>"
     },
     "execution_count": 135,
     "metadata": {},
     "output_type": "execute_result"
    }
   ],
   "source": [
    "df_merged = df_combine.merge(df_draft, how='left',\n",
    "                             on=['name', 'school', 'year'])\n",
    "\n",
    "df_merged.head()\n",
    "\n",
    "# df_merged.to_clipboard()"
   ]
  },
  {
   "cell_type": "markdown",
   "metadata": {
    "pycharm": {
     "name": "#%% md\n"
    }
   },
   "source": [
    "## Investigate merged data"
   ]
  },
  {
   "cell_type": "code",
   "execution_count": 136,
   "metadata": {
    "pycharm": {
     "name": "#%%\n"
    }
   },
   "outputs": [
    {
     "name": "stdout",
     "output_type": "stream",
     "text": [
      "<class 'pandas.core.frame.DataFrame'>\n",
      "Int64Index: 8465 entries, 0 to 8464\n",
      "Data columns (total 22 columns):\n",
      " #   Column           Non-Null Count  Dtype  \n",
      "---  ------           --------------  -----  \n",
      " 0   year             8465 non-null   int64  \n",
      " 1   name             8465 non-null   object \n",
      " 2   school           8462 non-null   object \n",
      " 3   pos              8465 non-null   object \n",
      " 4   height (in)      8465 non-null   float64\n",
      " 5   weight (lbs)     8465 non-null   int64  \n",
      " 6   hand size (in)   7639 non-null   float64\n",
      " 7   arm length (in)  7638 non-null   float64\n",
      " 8   40 yard          7922 non-null   float64\n",
      " 9   bench press      6603 non-null   float64\n",
      " 10  vert leap (in)   7503 non-null   float64\n",
      " 11  broad jump (in)  7400 non-null   float64\n",
      " 12  shuttle          6929 non-null   float64\n",
      " 13  3cone            6827 non-null   float64\n",
      " 14  60yd shuttle     1370 non-null   float64\n",
      " 15  pos_group        8465 non-null   object \n",
      " 16  offense_defense  8465 non-null   object \n",
      " 17  line_or_skill    8465 non-null   object \n",
      " 18  round            3612 non-null   float64\n",
      " 19  pk(ovr)          3612 non-null   object \n",
      " 20  team             3599 non-null   object \n",
      " 21  position         3612 non-null   object \n",
      "dtypes: float64(11), int64(2), object(9)\n",
      "memory usage: 1.5+ MB\n"
     ]
    }
   ],
   "source": [
    "df_merged.info()\n"
   ]
  },
  {
   "cell_type": "markdown",
   "metadata": {},
   "source": [
    "## Data Cleaning:\n",
    "* Very few 60-yard shuttle records; drop column\n",
    "* Set the \"round\" value for all undrafted players to '8'\n",
    "* Drop kickers, long snappers, QBs and Fullbacks (too few, draft status not driven by stats)"
   ]
  },
  {
   "cell_type": "code",
   "execution_count": 137,
   "metadata": {
    "pycharm": {
     "name": "#%%\n"
    }
   },
   "outputs": [
    {
     "name": "stdout",
     "output_type": "stream",
     "text": [
      "\n",
      " Remaining Columns\n",
      "Index(['height (in)', 'weight (lbs)', 'hand size (in)', 'arm length (in)',\n",
      "       '40 yard', 'bench press', 'vert leap (in)', 'broad jump (in)',\n",
      "       'shuttle', '3cone', 'pos_group', 'offense_defense', 'line_or_skill',\n",
      "       'round'],\n",
      "      dtype='object')\n"
     ]
    }
   ],
   "source": [
    "# Drop 60yd shuttle (too few data points), duplicative columns related to\n",
    "# player position, and things like year and team name\n",
    "merged_cols_to_drop = ['year', 'name', 'school', 'pos',\n",
    "                       '60yd shuttle',\n",
    "                       'pk(ovr)', 'team', 'position']\n",
    "\n",
    "try:\n",
    "    df_merged.drop(columns=merged_cols_to_drop, inplace=True)\n",
    "except:\n",
    "    print('Issue dropping columns')\n",
    "\n",
    "\n",
    "# overwite blank 'round' values with '8' (will indicate undrafted)\n",
    "df_merged['round'].fillna(8, inplace=True)\n",
    "# df_merged.dropna(inplace=True)\n",
    "\n",
    "### Below: Test to condense draft 'round' into high/low/undrafted\n",
    "# df_merged['round'].loc[(df_merged['round']>=1) & (df_merged['round']<4)] = 1\n",
    "# df_merged['round'].loc[(df_merged['round']>=4) & (df_merged['round']<8)] = 2\n",
    "# df_merged['round'].fillna(3, inplace=True)\n",
    "# print(df_merged['round'].value_counts())\n",
    "\n",
    "print('\\n Remaining Columns')\n",
    "print(df_merged.columns)\n",
    "\n",
    "positions_to_drop = ['SN', 'K', 'QB', 'FB']\n",
    "positions_mask = \\\n",
    "    df_merged[df_merged['pos_group'].isin(positions_to_drop)].index\n",
    "\n",
    "# print(positions_mask)\n",
    "\n",
    "# print(df_merged.shape)\n",
    "df_merged.drop(positions_mask, inplace=True)\n",
    "# print(df_merged.head())"
   ]
  },
  {
   "cell_type": "markdown",
   "metadata": {
    "pycharm": {
     "name": "#%% md\n"
    }
   },
   "source": [
    "### Drop players with sparse combine statistics"
   ]
  },
  {
   "cell_type": "code",
   "execution_count": 138,
   "metadata": {
    "pycharm": {
     "name": "#%%\n"
    }
   },
   "outputs": [
    {
     "name": "stdout",
     "output_type": "stream",
     "text": [
      "\n",
      " Missing metrics per row\n",
      "0    4946\n",
      "1     846\n",
      "2     786\n",
      "3     311\n",
      "4     280\n",
      "5     155\n",
      "6     120\n",
      "8      83\n",
      "7      71\n",
      "dtype: int64\n",
      "\n",
      "Remaining missing metrics by row\n",
      "0    4946\n",
      "1     846\n",
      "2     786\n",
      "3     311\n",
      "dtype: int64\n"
     ]
    },
    {
     "data": {
      "text/plain": "    height (in)  weight (lbs)  hand size (in)  arm length (in)  40 yard  \\\n0          76.0           334           10.50            34.00     5.58   \n1          74.5           253            9.88            31.00     5.01   \n2          74.4           206           10.00            33.00     4.59   \n3          72.4           237            9.75            31.88     4.76   \n4          69.4           175            8.50            30.00     4.46   \n5          77.9           312            9.25            32.75     5.36   \n6          71.6           208            9.50            32.00     4.63   \n7          69.9           199           10.00            31.13     4.48   \n8          73.0           192             NaN              NaN     4.43   \n10         71.0           178             NaN              NaN     4.50   \n\n    bench press  vert leap (in)  broad jump (in)  shuttle  3cone pos_group  \\\n0          23.0            25.0             94.0     4.98   8.48        OL   \n1           NaN            29.0            104.0     4.49   7.29        TE   \n2           NaN            34.0            123.0     4.15   7.18        CB   \n3          21.0            31.0            112.0     4.39   7.96        LB   \n4          17.0            35.0            119.0     4.14   7.03        CB   \n5          20.0            28.0             96.0     4.73   7.72        OL   \n6          10.0            35.0            114.0     4.32   6.92         S   \n7          16.0            37.5            116.0     4.04   6.81        CB   \n8           NaN            38.5            124.0     3.99   6.70        CB   \n10          NaN            34.5            122.0     4.20   6.87        CB   \n\n   offense_defense line_or_skill  round  \n0                O             L    6.0  \n1                O             S    8.0  \n2                D             S    8.0  \n3                D             S    8.0  \n4                D             S    4.0  \n5                O             L    7.0  \n6                D             S    7.0  \n7                D             S    4.0  \n8                D             S    2.0  \n10               D             S    5.0  ",
      "text/html": "<div>\n<style scoped>\n    .dataframe tbody tr th:only-of-type {\n        vertical-align: middle;\n    }\n\n    .dataframe tbody tr th {\n        vertical-align: top;\n    }\n\n    .dataframe thead th {\n        text-align: right;\n    }\n</style>\n<table border=\"1\" class=\"dataframe\">\n  <thead>\n    <tr style=\"text-align: right;\">\n      <th></th>\n      <th>height (in)</th>\n      <th>weight (lbs)</th>\n      <th>hand size (in)</th>\n      <th>arm length (in)</th>\n      <th>40 yard</th>\n      <th>bench press</th>\n      <th>vert leap (in)</th>\n      <th>broad jump (in)</th>\n      <th>shuttle</th>\n      <th>3cone</th>\n      <th>pos_group</th>\n      <th>offense_defense</th>\n      <th>line_or_skill</th>\n      <th>round</th>\n    </tr>\n  </thead>\n  <tbody>\n    <tr>\n      <th>0</th>\n      <td>76.0</td>\n      <td>334</td>\n      <td>10.50</td>\n      <td>34.00</td>\n      <td>5.58</td>\n      <td>23.0</td>\n      <td>25.0</td>\n      <td>94.0</td>\n      <td>4.98</td>\n      <td>8.48</td>\n      <td>OL</td>\n      <td>O</td>\n      <td>L</td>\n      <td>6.0</td>\n    </tr>\n    <tr>\n      <th>1</th>\n      <td>74.5</td>\n      <td>253</td>\n      <td>9.88</td>\n      <td>31.00</td>\n      <td>5.01</td>\n      <td>NaN</td>\n      <td>29.0</td>\n      <td>104.0</td>\n      <td>4.49</td>\n      <td>7.29</td>\n      <td>TE</td>\n      <td>O</td>\n      <td>S</td>\n      <td>8.0</td>\n    </tr>\n    <tr>\n      <th>2</th>\n      <td>74.4</td>\n      <td>206</td>\n      <td>10.00</td>\n      <td>33.00</td>\n      <td>4.59</td>\n      <td>NaN</td>\n      <td>34.0</td>\n      <td>123.0</td>\n      <td>4.15</td>\n      <td>7.18</td>\n      <td>CB</td>\n      <td>D</td>\n      <td>S</td>\n      <td>8.0</td>\n    </tr>\n    <tr>\n      <th>3</th>\n      <td>72.4</td>\n      <td>237</td>\n      <td>9.75</td>\n      <td>31.88</td>\n      <td>4.76</td>\n      <td>21.0</td>\n      <td>31.0</td>\n      <td>112.0</td>\n      <td>4.39</td>\n      <td>7.96</td>\n      <td>LB</td>\n      <td>D</td>\n      <td>S</td>\n      <td>8.0</td>\n    </tr>\n    <tr>\n      <th>4</th>\n      <td>69.4</td>\n      <td>175</td>\n      <td>8.50</td>\n      <td>30.00</td>\n      <td>4.46</td>\n      <td>17.0</td>\n      <td>35.0</td>\n      <td>119.0</td>\n      <td>4.14</td>\n      <td>7.03</td>\n      <td>CB</td>\n      <td>D</td>\n      <td>S</td>\n      <td>4.0</td>\n    </tr>\n    <tr>\n      <th>5</th>\n      <td>77.9</td>\n      <td>312</td>\n      <td>9.25</td>\n      <td>32.75</td>\n      <td>5.36</td>\n      <td>20.0</td>\n      <td>28.0</td>\n      <td>96.0</td>\n      <td>4.73</td>\n      <td>7.72</td>\n      <td>OL</td>\n      <td>O</td>\n      <td>L</td>\n      <td>7.0</td>\n    </tr>\n    <tr>\n      <th>6</th>\n      <td>71.6</td>\n      <td>208</td>\n      <td>9.50</td>\n      <td>32.00</td>\n      <td>4.63</td>\n      <td>10.0</td>\n      <td>35.0</td>\n      <td>114.0</td>\n      <td>4.32</td>\n      <td>6.92</td>\n      <td>S</td>\n      <td>D</td>\n      <td>S</td>\n      <td>7.0</td>\n    </tr>\n    <tr>\n      <th>7</th>\n      <td>69.9</td>\n      <td>199</td>\n      <td>10.00</td>\n      <td>31.13</td>\n      <td>4.48</td>\n      <td>16.0</td>\n      <td>37.5</td>\n      <td>116.0</td>\n      <td>4.04</td>\n      <td>6.81</td>\n      <td>CB</td>\n      <td>D</td>\n      <td>S</td>\n      <td>4.0</td>\n    </tr>\n    <tr>\n      <th>8</th>\n      <td>73.0</td>\n      <td>192</td>\n      <td>NaN</td>\n      <td>NaN</td>\n      <td>4.43</td>\n      <td>NaN</td>\n      <td>38.5</td>\n      <td>124.0</td>\n      <td>3.99</td>\n      <td>6.70</td>\n      <td>CB</td>\n      <td>D</td>\n      <td>S</td>\n      <td>2.0</td>\n    </tr>\n    <tr>\n      <th>10</th>\n      <td>71.0</td>\n      <td>178</td>\n      <td>NaN</td>\n      <td>NaN</td>\n      <td>4.50</td>\n      <td>NaN</td>\n      <td>34.5</td>\n      <td>122.0</td>\n      <td>4.20</td>\n      <td>6.87</td>\n      <td>CB</td>\n      <td>D</td>\n      <td>S</td>\n      <td>5.0</td>\n    </tr>\n  </tbody>\n</table>\n</div>"
     },
     "execution_count": 138,
     "metadata": {},
     "output_type": "execute_result"
    }
   ],
   "source": [
    "metrics_cols = ['height (in)', 'weight (lbs)', 'hand size (in)', 'arm length (in)',\n",
    "       '40 yard', 'bench press', 'vert leap (in)', 'broad jump (in)',\n",
    "       'shuttle', '3cone']\n",
    "\n",
    "# See count of records by number of missing metrics values\n",
    "# 10 total metrics values, drop if they don't have at least 8\n",
    "print('\\n Missing metrics per row')\n",
    "print(df_merged[metrics_cols].isna().sum(axis=1).value_counts())\n",
    "df_merged.dropna(axis=0, thresh=7,\n",
    "                 subset=metrics_cols, inplace=True)\n",
    "print('\\nRemaining missing metrics by row')\n",
    "print(df_merged[metrics_cols].isna().sum(axis=1).value_counts())\n",
    "\n",
    "df_merged.head(10)"
   ]
  },
  {
   "cell_type": "code",
   "execution_count": 139,
   "metadata": {
    "pycharm": {
     "name": "#%%\n"
    }
   },
   "outputs": [
    {
     "data": {
      "text/plain": "Index(['height (in)', 'weight (lbs)', 'hand size (in)', 'arm length (in)',\n       '40 yard', 'bench press', 'vert leap (in)', 'broad jump (in)',\n       'shuttle', '3cone', 'pos_group', 'offense_defense', 'line_or_skill',\n       'round'],\n      dtype='object')"
     },
     "execution_count": 139,
     "metadata": {},
     "output_type": "execute_result"
    }
   ],
   "source": [
    "df_merged.columns\n"
   ]
  },
  {
   "cell_type": "markdown",
   "metadata": {
    "pycharm": {
     "name": "#%% md\n"
    }
   },
   "source": [
    "## Impute missing values based on average of players with same position\n"
   ]
  },
  {
   "cell_type": "code",
   "execution_count": 140,
   "metadata": {
    "pycharm": {
     "name": "#%%\n"
    }
   },
   "outputs": [],
   "source": [
    "# print(df_merged.head(10))\n",
    "\n",
    "df_merged = group_imputer(\n",
    "    df=df_merged,\n",
    "    grouping_col='pos_group',\n",
    "    cols_to_impute=metrics_cols)\n",
    "\n",
    "# print('\\n')\n",
    "# print(df_merged.head(10))"
   ]
  },
  {
   "cell_type": "markdown",
   "metadata": {
    "pycharm": {
     "name": "#%% md\n"
    }
   },
   "source": [
    "## Drop either \"line\" or \"skill\" players from dataset"
   ]
  },
  {
   "cell_type": "code",
   "execution_count": 141,
   "metadata": {
    "pycharm": {
     "name": "#%%\n"
    }
   },
   "outputs": [
    {
     "data": {
      "text/plain": "2458"
     },
     "execution_count": 141,
     "metadata": {},
     "output_type": "execute_result"
    }
   ],
   "source": [
    "drop_skill_or_line = 'S'    # 'S' for skill or 'L' for line\n",
    "drop_index = df_merged[df_merged['line_or_skill']==drop_skill_or_line].index\n",
    "df_for_models = df_merged.drop(drop_index)\n",
    "df_for_models.head(5)\n",
    "df_for_models['round'].count()"
   ]
  },
  {
   "cell_type": "markdown",
   "metadata": {},
   "source": [
    "### Is the dataset imbalanced?"
   ]
  },
  {
   "cell_type": "code",
   "execution_count": 142,
   "metadata": {
    "pycharm": {
     "name": "#%%\n"
    }
   },
   "outputs": [
    {
     "name": "stdout",
     "output_type": "stream",
     "text": [
      "8.0    1338\n",
      "1.0     186\n",
      "7.0     169\n",
      "4.0     162\n",
      "3.0     160\n",
      "5.0     153\n",
      "6.0     150\n",
      "2.0     140\n",
      "Name: round, dtype: int64\n"
     ]
    },
    {
     "data": {
      "text/plain": "<AxesSubplot:>"
     },
     "execution_count": 142,
     "metadata": {},
     "output_type": "execute_result"
    },
    {
     "data": {
      "text/plain": "<Figure size 432x288 with 1 Axes>",
      "image/png": "[encoded data removed]"
     },
     "metadata": {
      "needs_background": "light"
     },
     "output_type": "display_data"
    }
   ],
   "source": [
    "print(df_for_models['round'].value_counts())\n",
    "df_for_models['round'].value_counts().plot.bar()"
   ]
  },
  {
   "cell_type": "markdown",
   "metadata": {},
   "source": [
    "### Yep\n",
    "Undersample values of the 'undrafted' (round=8) players."
   ]
  },
  {
   "cell_type": "code",
   "execution_count": 143,
   "metadata": {
    "pycharm": {
     "name": "#%%\n"
    }
   },
   "outputs": [
    {
     "name": "stdout",
     "output_type": "stream",
     "text": [
      "1338\n",
      "Undrafted to drop:  Int64Index([5467, 6184, 6195, 8056, 1942, 8220, 6253, 5410, 8031, 5156,\n",
      "            ...\n",
      "            6140, 7914, 4572, 2649, 7848, 1975, 1072, 3526, 4754, 8345],\n",
      "           dtype='int64', length=1138)\n",
      "1138\n"
     ]
    },
    {
     "data": {
      "text/plain": "8.0    200\n1.0    186\n7.0    169\n4.0    162\n3.0    160\n5.0    153\n6.0    150\n2.0    140\nName: round, dtype: int64"
     },
     "execution_count": 143,
     "metadata": {},
     "output_type": "execute_result"
    }
   ],
   "source": [
    "# Number of undrafted/round=8\n",
    "undrafted_count = df_for_models['round'][df_for_models['round']==8].count()\n",
    "print(undrafted_count)\n",
    "extra_undrafted_to_drop = \\\n",
    "    df_for_models[df_for_models['round']==8].sample(n=undrafted_count-200,\n",
    "                                        replace=False,\n",
    "                                        random_state=42).index\n",
    "\n",
    "print('Undrafted to drop: ', extra_undrafted_to_drop)\n",
    "print(extra_undrafted_to_drop.size)\n",
    "df_for_models.drop(index=extra_undrafted_to_drop, inplace=True)\n",
    "df_for_models['round'].value_counts()"
   ]
  },
  {
   "cell_type": "markdown",
   "metadata": {},
   "source": [
    "## Begin Modeling"
   ]
  },
  {
   "cell_type": "markdown",
   "metadata": {
    "pycharm": {
     "name": "#%% md\n"
    }
   },
   "source": [
    "Setup sklearn tools to visualize pipelines"
   ]
  },
  {
   "cell_type": "code",
   "execution_count": 144,
   "metadata": {
    "pycharm": {
     "name": "#%%\n"
    }
   },
   "outputs": [],
   "source": [
    "set_config(display='diagram')"
   ]
  },
  {
   "cell_type": "markdown",
   "metadata": {},
   "source": [
    "### Split data"
   ]
  },
  {
   "cell_type": "code",
   "execution_count": 145,
   "metadata": {
    "pycharm": {
     "name": "#%%\n"
    }
   },
   "outputs": [
    {
     "name": "stdout",
     "output_type": "stream",
     "text": [
      "X_train shape: (1056, 13) X_test shape: (264, 13)\n"
     ]
    }
   ],
   "source": [
    "target = 'round'\n",
    "X = df_for_models.drop(columns=target)\n",
    "y = df_for_models[target]\n",
    "\n",
    "X_train, X_test, y_train, y_test = train_test_split(X, y,\n",
    "                                                    test_size=.2,\n",
    "                                                    random_state=21)\n",
    "\n",
    "print(f'X_train shape: {X_train.shape} X_test shape: {X_test.shape}')"
   ]
  },
  {
   "cell_type": "markdown",
   "metadata": {
    "pycharm": {
     "name": "#%% md\n"
    }
   },
   "source": [
    "## Baseline Accuracy"
   ]
  },
  {
   "cell_type": "code",
   "execution_count": 146,
   "metadata": {
    "pycharm": {
     "name": "#%%\n"
    }
   },
   "outputs": [
    {
     "data": {
      "text/plain": "0.15151515151515152"
     },
     "execution_count": 146,
     "metadata": {},
     "output_type": "execute_result"
    }
   ],
   "source": [
    "baseline = y.value_counts(normalize=True).max()\n",
    "baseline\n"
   ]
  },
  {
   "cell_type": "markdown",
   "metadata": {},
   "source": [
    "## Build Decision Tree Classifier Model/Pipeline"
   ]
  },
  {
   "cell_type": "code",
   "execution_count": 147,
   "metadata": {
    "pycharm": {
     "name": "#%%\n"
    }
   },
   "outputs": [
    {
     "name": "stdout",
     "output_type": "stream",
     "text": [
      "Decision Tree Training Accuracy 1.0\n",
      "Decision Tree Validation Accuracy 0.14772727272727273\n"
     ]
    },
    {
     "data": {
      "text/plain": "Pipeline(steps=[('ordinalencoder',\n                 OrdinalEncoder(cols=['pos_group', 'offense_defense',\n                                      'line_or_skill'],\n                                mapping=[{'col': 'pos_group',\n                                          'data_type': dtype('O'),\n                                          'mapping': DL     1\nOL     2\nNaN   -2\ndtype: int64},\n                                         {'col': 'offense_defense',\n                                          'data_type': dtype('O'),\n                                          'mapping': D      1\nO      2\nNaN   -2\ndtype: int64},\n                                         {'col': 'line_or_skill',\n                                          'data_type': dtype('O'),\n                                          'mapping': L      1\nNaN   -2\ndtype: int64}])),\n                ('decisiontreeclassifier',\n                 DecisionTreeClassifier(random_state=42))])",
      "text/html": "<style>#sk-96b10907-438a-4fea-8479-cb95d34bf504 {color: black;background-color: white;}#sk-96b10907-438a-4fea-8479-cb95d34bf504 pre{padding: 0;}#sk-96b10907-438a-4fea-8479-cb95d34bf504 div.sk-toggleable {background-color: white;}#sk-96b10907-438a-4fea-8479-cb95d34bf504 label.sk-toggleable__label {cursor: pointer;display: block;width: 100%;margin-bottom: 0;padding: 0.3em;box-sizing: border-box;text-align: center;}#sk-96b10907-438a-4fea-8479-cb95d34bf504 div.sk-toggleable__content {max-height: 0;max-width: 0;overflow: hidden;text-align: left;background-color: #f0f8ff;}#sk-96b10907-438a-4fea-8479-cb95d34bf504 div.sk-toggleable__content pre {margin: 0.2em;color: black;border-radius: 0.25em;background-color: #f0f8ff;}#sk-96b10907-438a-4fea-8479-cb95d34bf504 input.sk-toggleable__control:checked~div.sk-toggleable__content {max-height: 200px;max-width: 100%;overflow: auto;}#sk-96b10907-438a-4fea-8479-cb95d34bf504 div.sk-estimator input.sk-toggleable__control:checked~label.sk-toggleable__label {background-color: #d4ebff;}#sk-96b10907-438a-4fea-8479-cb95d34bf504 div.sk-label input.sk-toggleable__control:checked~label.sk-toggleable__label {background-color: #d4ebff;}#sk-96b10907-438a-4fea-8479-cb95d34bf504 input.sk-hidden--visually {border: 0;clip: rect(1px 1px 1px 1px);clip: rect(1px, 1px, 1px, 1px);height: 1px;margin: -1px;overflow: hidden;padding: 0;position: absolute;width: 1px;}#sk-96b10907-438a-4fea-8479-cb95d34bf504 div.sk-estimator {font-family: monospace;background-color: #f0f8ff;border: 1px dotted black;border-radius: 0.25em;box-sizing: border-box;margin-bottom: 0.5em;}#sk-96b10907-438a-4fea-8479-cb95d34bf504 div.sk-estimator:hover {background-color: #d4ebff;}#sk-96b10907-438a-4fea-8479-cb95d34bf504 div.sk-parallel-item::after {content: \"\";width: 100%;border-bottom: 1px solid gray;flex-grow: 1;}#sk-96b10907-438a-4fea-8479-cb95d34bf504 div.sk-label:hover label.sk-toggleable__label {background-color: #d4ebff;}#sk-96b10907-438a-4fea-8479-cb95d34bf504 div.sk-serial::before {content: \"\";position: absolute;border-left: 1px solid gray;box-sizing: border-box;top: 2em;bottom: 0;left: 50%;}#sk-96b10907-438a-4fea-8479-cb95d34bf504 div.sk-serial {display: flex;flex-direction: column;align-items: center;background-color: white;padding-right: 0.2em;padding-left: 0.2em;}#sk-96b10907-438a-4fea-8479-cb95d34bf504 div.sk-item {z-index: 1;}#sk-96b10907-438a-4fea-8479-cb95d34bf504 div.sk-parallel {display: flex;align-items: stretch;justify-content: center;background-color: white;}#sk-96b10907-438a-4fea-8479-cb95d34bf504 div.sk-parallel::before {content: \"\";position: absolute;border-left: 1px solid gray;box-sizing: border-box;top: 2em;bottom: 0;left: 50%;}#sk-96b10907-438a-4fea-8479-cb95d34bf504 div.sk-parallel-item {display: flex;flex-direction: column;position: relative;background-color: white;}#sk-96b10907-438a-4fea-8479-cb95d34bf504 div.sk-parallel-item:first-child::after {align-self: flex-end;width: 50%;}#sk-96b10907-438a-4fea-8479-cb95d34bf504 div.sk-parallel-item:last-child::after {align-self: flex-start;width: 50%;}#sk-96b10907-438a-4fea-8479-cb95d34bf504 div.sk-parallel-item:only-child::after {width: 0;}#sk-96b10907-438a-4fea-8479-cb95d34bf504 div.sk-dashed-wrapped {border: 1px dashed gray;margin: 0 0.4em 0.5em 0.4em;box-sizing: border-box;padding-bottom: 0.4em;background-color: white;position: relative;}#sk-96b10907-438a-4fea-8479-cb95d34bf504 div.sk-label label {font-family: monospace;font-weight: bold;background-color: white;display: inline-block;line-height: 1.2em;}#sk-96b10907-438a-4fea-8479-cb95d34bf504 div.sk-label-container {position: relative;z-index: 2;text-align: center;}#sk-96b10907-438a-4fea-8479-cb95d34bf504 div.sk-container {display: inline-block;position: relative;}</style><div id=\"sk-96b10907-438a-4fea-8479-cb95d34bf504\" class\"sk-top-container\"><div class=\"sk-container\"><div class=\"sk-item sk-dashed-wrapped\"><div class=\"sk-label-container\"><div class=\"sk-label sk-toggleable\"><input class=\"sk-toggleable__control sk-hidden--visually\" id=\"9c674740-c746-4201-ac5b-b1ae87124c55\" type=\"checkbox\" ><label class=\"sk-toggleable__label\" for=\"9c674740-c746-4201-ac5b-b1ae87124c55\">Pipeline</label><div class=\"sk-toggleable__content\"><pre>Pipeline(steps=[('ordinalencoder',\n                 OrdinalEncoder(cols=['pos_group', 'offense_defense',\n                                      'line_or_skill'],\n                                mapping=[{'col': 'pos_group',\n                                          'data_type': dtype('O'),\n                                          'mapping': DL     1\nOL     2\nNaN   -2\ndtype: int64},\n                                         {'col': 'offense_defense',\n                                          'data_type': dtype('O'),\n                                          'mapping': D      1\nO      2\nNaN   -2\ndtype: int64},\n                                         {'col': 'line_or_skill',\n                                          'data_type': dtype('O'),\n                                          'mapping': L      1\nNaN   -2\ndtype: int64}])),\n                ('decisiontreeclassifier',\n                 DecisionTreeClassifier(random_state=42))])</pre></div></div></div><div class=\"sk-serial\"><div class=\"sk-item\"><div class=\"sk-estimator sk-toggleable\"><input class=\"sk-toggleable__control sk-hidden--visually\" id=\"bd4c227a-a16d-4eac-a30c-4cc52d3c2edb\" type=\"checkbox\" ><label class=\"sk-toggleable__label\" for=\"bd4c227a-a16d-4eac-a30c-4cc52d3c2edb\">OrdinalEncoder</label><div class=\"sk-toggleable__content\"><pre>OrdinalEncoder(cols=['pos_group', 'offense_defense', 'line_or_skill'],\n               mapping=[{'col': 'pos_group', 'data_type': dtype('O'),\n                         'mapping': DL     1\nOL     2\nNaN   -2\ndtype: int64},\n                        {'col': 'offense_defense', 'data_type': dtype('O'),\n                         'mapping': D      1\nO      2\nNaN   -2\ndtype: int64},\n                        {'col': 'line_or_skill', 'data_type': dtype('O'),\n                         'mapping': L      1\nNaN   -2\ndtype: int64}])</pre></div></div></div><div class=\"sk-item\"><div class=\"sk-estimator sk-toggleable\"><input class=\"sk-toggleable__control sk-hidden--visually\" id=\"8e8340a8-922d-4d45-9e0f-be1956da51f2\" type=\"checkbox\" ><label class=\"sk-toggleable__label\" for=\"8e8340a8-922d-4d45-9e0f-be1956da51f2\">DecisionTreeClassifier</label><div class=\"sk-toggleable__content\"><pre>DecisionTreeClassifier(random_state=42)</pre></div></div></div></div></div></div></div>"
     },
     "execution_count": 147,
     "metadata": {},
     "output_type": "execute_result"
    },
    {
     "data": {
      "text/plain": "<Figure size 432x288 with 2 Axes>",
      "image/png": "[encoded data removed]"
     },
     "metadata": {
      "needs_background": "light"
     },
     "output_type": "display_data"
    }
   ],
   "source": [
    "# Base Model\n",
    "model_dt = make_pipeline(\n",
    "    OrdinalEncoder(),\n",
    "    DecisionTreeClassifier(random_state=42)\n",
    ")\n",
    "\n",
    "model_dt.fit(X_train, y_train)\n",
    "\n",
    "print('Decision Tree Training Accuracy', model_dt.score(X_train, y_train))\n",
    "print('Decision Tree Validation Accuracy', model_dt.score(X_test, y_test))\n",
    "\n",
    "conf_matrix = confusion_matrix(y_true=y_test, y_pred=model_dt.predict(X_test))\n",
    "display = ConfusionMatrixDisplay(confusion_matrix=conf_matrix,\n",
    "                                 display_labels=model_dt.classes_)\n",
    "display.plot()\n",
    "\n",
    "# Export HTML of pipeline model\n",
    "with open('pipe_html/model_dt.html', 'w') as f:\n",
    "    f.write(estimator_html_repr(model_dt))\n",
    "\n",
    "model_dt\n"
   ]
  },
  {
   "cell_type": "markdown",
   "metadata": {
    "pycharm": {
     "name": "#%% md\n"
    }
   },
   "source": [
    "## Build Tuned Random Forest Model/Pipeline"
   ]
  },
  {
   "cell_type": "code",
   "execution_count": 148,
   "metadata": {
    "pycharm": {
     "name": "#%%\n"
    }
   },
   "outputs": [
    {
     "name": "stdout",
     "output_type": "stream",
     "text": [
      "Fitting 5 folds for each of 25 candidates, totalling 125 fits\n"
     ]
    }
   ],
   "source": [
    "# Base Model\n",
    "model_rf = make_pipeline(\n",
    "    OrdinalEncoder(),\n",
    "    RandomForestClassifier(random_state=42)\n",
    ")\n",
    "\n",
    "# Parameter distributions for hyperparameter tuning\n",
    "# Note double underscores __ in keys below\n",
    "param_distributions = {\n",
    "    'randomforestclassifier__max_depth': range(3,50,5),\n",
    "    'randomforestclassifier__n_estimators': range(10,2000, 10),\n",
    "    'randomforestclassifier__bootstrap': [True, False],\n",
    "    'randomforestclassifier__warm_start': [True, False]\n",
    "}\n",
    "\n",
    "tuned_rf = RandomizedSearchCV(\n",
    "    model_rf,\n",
    "    param_distributions=param_distributions,\n",
    "    n_iter=25,\n",
    "    cv=5,\n",
    "    verbose=1,\n",
    "    n_jobs=6\n",
    ")\n",
    "\n",
    "model_rf.fit(X_train, y_train)\n",
    "tuned_rf.fit(X_train, y_train)\n",
    "\n",
    "# Export HTML of pipeline model\n",
    "with open('pipe_html/tuned_rf.html', 'w') as f:\n",
    "    f.write(estimator_html_repr(tuned_rf))\n",
    "\n",
    "conf_matrix = confusion_matrix(y_true=y_test, y_pred=tuned_rf.predict(X_test))\n",
    "display = ConfusionMatrixDisplay(confusion_matrix=conf_matrix,\n",
    "                                 display_labels=tuned_rf.classes_)"
   ]
  },
  {
   "cell_type": "code",
   "execution_count": 149,
   "outputs": [
    {
     "data": {
      "text/plain": "<sklearn.metrics._plot.confusion_matrix.ConfusionMatrixDisplay at 0x2ec36eed6d0>"
     },
     "execution_count": 149,
     "metadata": {},
     "output_type": "execute_result"
    },
    {
     "data": {
      "text/plain": "<Figure size 432x288 with 2 Axes>",
      "image/png": "[encoded data removed]"
     },
     "metadata": {
      "needs_background": "light"
     },
     "output_type": "display_data"
    }
   ],
   "source": [
    "# Save image for blog\n",
    "# display.figure_.savefig(r'images/tuned_rf_conf_matrix.png')\n",
    "display.plot()"
   ],
   "metadata": {
    "collapsed": false,
    "pycharm": {
     "name": "#%%\n"
    }
   }
  },
  {
   "cell_type": "markdown",
   "metadata": {},
   "source": [
    "### Evaluate Tuned Random Forest Model/Pipeline"
   ]
  },
  {
   "cell_type": "code",
   "execution_count": 150,
   "metadata": {
    "pycharm": {
     "name": "#%%\n"
    }
   },
   "outputs": [
    {
     "name": "stdout",
     "output_type": "stream",
     "text": [
      "Default RF training score:  0.17424242424242425\n",
      "Tuned RF training best score:  0.20639810426540284\n",
      "Tuned RF best parameters:  {'randomforestclassifier__warm_start': False, 'randomforestclassifier__n_estimators': 140, 'randomforestclassifier__max_depth': 8, 'randomforestclassifier__bootstrap': True}\n",
      "Tuned RF test score:  0.21212121212121213\n"
     ]
    }
   ],
   "source": [
    "print('Default RF training score: ', model_rf.score(X_test, y_test))\n",
    "print('Tuned RF training best score: ', tuned_rf.best_score_)\n",
    "print('Tuned RF best parameters: ', tuned_rf.best_params_)\n",
    "print('Tuned RF test score: ', tuned_rf.score(X_test, y_test))"
   ]
  },
  {
   "cell_type": "markdown",
   "metadata": {
    "pycharm": {
     "name": "#%% md\n"
    }
   },
   "source": [
    "### Get Permutation importances for model"
   ]
  },
  {
   "cell_type": "code",
   "execution_count": 151,
   "metadata": {
    "pycharm": {
     "name": "#%%\n"
    }
   },
   "outputs": [
    {
     "data": {
      "text/plain": "<Figure size 432x288 with 1 Axes>",
      "image/png": "[encoded data removed]"
     },
     "metadata": {
      "needs_background": "light"
     },
     "output_type": "display_data"
    }
   ],
   "source": [
    "importances = model_rf.named_steps['randomforestclassifier'].feature_importances_\n",
    "\n",
    "gini_imp = pd.DataFrame(data=importances, index=X_test.columns, columns=['gini_impurity']).sort_values(by='gini_impurity')\n",
    "\n",
    "gini_imp.tail(10).plot(kind='barh');\n",
    "\n"
   ]
  },
  {
   "cell_type": "markdown",
   "metadata": {},
   "source": [
    "## Build XGBoost Model/Pipeline"
   ]
  },
  {
   "cell_type": "code",
   "execution_count": 152,
   "metadata": {
    "pycharm": {
     "name": "#%%\n"
    }
   },
   "outputs": [
    {
     "name": "stdout",
     "output_type": "stream",
     "text": [
      "[19:27:08] WARNING: C:/Users/Administrator/workspace/xgboost-win64_release_1.4.0/src/learner.cc:573: \n",
      "Parameters: { \"loss\" } might not be used.\n",
      "\n",
      "  This may not be accurate due to some parameters are only used in language bindings but\n",
      "  passed down to XGBoost core.  Or some parameters are not used but slip through this\n",
      "  verification. Please open an issue if you find above cases.\n",
      "\n",
      "\n"
     ]
    },
    {
     "name": "stderr",
     "output_type": "stream",
     "text": [
      "C:\\Py\\nfl_combine_draft\\venv\\lib\\site-packages\\xgboost\\sklearn.py:1146: UserWarning: The use of label encoder in XGBClassifier is deprecated and will be removed in a future release. To remove this warning, do the following: 1) Pass option use_label_encoder=False when constructing XGBClassifier object; and 2) Encode your labels (y) as integers starting with 0, i.e. 0, 1, 2, ..., [num_class - 1].\n",
      "  warnings.warn(label_encoder_deprecation_msg, UserWarning)\n"
     ]
    },
    {
     "name": "stdout",
     "output_type": "stream",
     "text": [
      "[19:27:08] WARNING: C:/Users/Administrator/workspace/xgboost-win64_release_1.4.0/src/learner.cc:1095: Starting in XGBoost 1.3.0, the default evaluation metric used with the objective 'multi:softprob' was changed from 'merror' to 'mlogloss'. Explicitly set eval_metric if you'd like to restore the old behavior.\n"
     ]
    },
    {
     "data": {
      "text/plain": "<sklearn.metrics._plot.confusion_matrix.ConfusionMatrixDisplay at 0x2ec44ec7910>"
     },
     "execution_count": 152,
     "metadata": {},
     "output_type": "execute_result"
    },
    {
     "data": {
      "text/plain": "<Figure size 432x288 with 2 Axes>",
      "image/png": "[encoded data removed]"
     },
     "metadata": {
      "needs_background": "light"
     },
     "output_type": "display_data"
    }
   ],
   "source": [
    "model_xgb = make_pipeline(\n",
    "    OrdinalEncoder(),\n",
    "    XGBClassifier(\n",
    "        loss='deviance',\n",
    "        # learning_rate=0.1,\n",
    "        n_estimators=500,\n",
    "        subsample=1,\n",
    "        max_depth=4,\n",
    "        random_state=42\n",
    "    )\n",
    ")\n",
    "\n",
    "model_xgb.fit(X_train, y_train)\n",
    "\n",
    "# Export HTML of pipeline model\n",
    "with open('pipe_html/model_xgb.html', 'w') as f:\n",
    "    f.write(estimator_html_repr(model_xgb))\n",
    "\n",
    "model_xgb\n",
    "\n",
    "conf_matrix = confusion_matrix(y_true=y_test, y_pred=model_xgb.predict(X_test))\n",
    "display = ConfusionMatrixDisplay(confusion_matrix=conf_matrix,\n",
    "                                 display_labels=model_xgb.classes_)\n",
    "display.plot()"
   ]
  },
  {
   "cell_type": "markdown",
   "metadata": {},
   "source": [
    "### Evaluate XGBoost Model/Pipeline"
   ]
  },
  {
   "cell_type": "code",
   "execution_count": 153,
   "metadata": {
    "pycharm": {
     "name": "#%%\n"
    }
   },
   "outputs": [
    {
     "name": "stdout",
     "output_type": "stream",
     "text": [
      "XGBoost Forest Training Accuracy 1.0\n",
      "XGBoost Forest Validation Accuracy 0.16287878787878787\n"
     ]
    }
   ],
   "source": [
    "print('XGBoost Forest Training Accuracy', model_xgb.score(X_train, y_train))\n",
    "print('XGBoost Forest Validation Accuracy', model_xgb.score(X_test, y_test))\n"
   ]
  },
  {
   "cell_type": "markdown",
   "metadata": {},
   "source": [
    "## Build Ridge Classifier Model/Pipeline"
   ]
  },
  {
   "cell_type": "code",
   "execution_count": 154,
   "metadata": {
    "pycharm": {
     "name": "#%%\n"
    }
   },
   "outputs": [
    {
     "data": {
      "text/plain": "<sklearn.metrics._plot.confusion_matrix.ConfusionMatrixDisplay at 0x2ec3990cb50>"
     },
     "execution_count": 154,
     "metadata": {},
     "output_type": "execute_result"
    },
    {
     "data": {
      "text/plain": "<Figure size 432x288 with 2 Axes>",
      "image/png": "[encoded data removed]"
     },
     "metadata": {
      "needs_background": "light"
     },
     "output_type": "display_data"
    }
   ],
   "source": [
    "model_ridge = make_pipeline(\n",
    "    OneHotEncoder(),\n",
    "    RidgeClassifierCV(cv=5,\n",
    "                      alphas=[.1,1.0,10.0])\n",
    ")\n",
    "\n",
    "model_ridge.fit(X_train, y_train)\n",
    "\n",
    "conf_matrix = confusion_matrix(y_true=y_test, y_pred=model_ridge.predict(X_test))\n",
    "display = ConfusionMatrixDisplay(confusion_matrix=conf_matrix,\n",
    "                                 display_labels=model_ridge.classes_)\n",
    "display.plot()"
   ]
  },
  {
   "cell_type": "markdown",
   "metadata": {},
   "source": [
    "### Evaluate Ridge Classifier Model/Pipeline"
   ]
  },
  {
   "cell_type": "code",
   "execution_count": 155,
   "metadata": {
    "pycharm": {
     "name": "#%%\n"
    }
   },
   "outputs": [
    {
     "name": "stdout",
     "output_type": "stream",
     "text": [
      "Ridge Classifier Training Accuracy 0.23863636363636365\n",
      "Ridge Classifier Validation Accuracy 0.2159090909090909\n"
     ]
    }
   ],
   "source": [
    "print('Ridge Classifier Training Accuracy', model_ridge.score(X_train, y_train))\n",
    "print('Ridge Classifier Validation Accuracy', model_ridge.score(X_test, y_test))\n"
   ]
  },
  {
   "cell_type": "markdown",
   "metadata": {},
   "source": [
    "### Build Tuned Ridge Classifier Model/Pipeline"
   ]
  },
  {
   "cell_type": "code",
   "execution_count": 156,
   "metadata": {
    "pycharm": {
     "name": "#%%\n"
    }
   },
   "outputs": [
    {
     "name": "stdout",
     "output_type": "stream",
     "text": [
      "Fitting 5 folds for each of 25 candidates, totalling 125 fits\n",
      "Tuned Ridge Classifier Training Accuracy 0.24526515151515152\n",
      "Tuned Ridge Classifier Validation Accuracy 0.2196969696969697\n",
      "Tuned Ridge Classifer best parameters:  {'ridgeclassifiercv__fit_intercept': False, 'ridgeclassifiercv__cv': 7, 'ridgeclassifiercv__class_weight': None}\n"
     ]
    },
    {
     "data": {
      "text/plain": "RandomizedSearchCV(cv=5,\n                   estimator=Pipeline(steps=[('onehotencoder',\n                                              OneHotEncoder(cols=['pos_group',\n                                                                  'offense_defense',\n                                                                  'line_or_skill'])),\n                                             ('ridgeclassifiercv',\n                                              RidgeClassifierCV(alphas=array([1.e-02, 1.e-01, 1.e+00, 1.e+01, 5.e+01])))]),\n                   n_iter=25, n_jobs=6,\n                   param_distributions={'ridgeclassifiercv__class_weight': ['balanced',\n                                                                            None],\n                                        'ridgeclassifiercv__cv': range(2, 10),\n                                        'ridgeclassifiercv__fit_intercept': [True,\n                                                                             False]},\n                   verbose=1)",
      "text/html": "<style>#sk-8f20f701-cd13-4f0e-aca1-01be7c95ac0c {color: black;background-color: white;}#sk-8f20f701-cd13-4f0e-aca1-01be7c95ac0c pre{padding: 0;}#sk-8f20f701-cd13-4f0e-aca1-01be7c95ac0c div.sk-toggleable {background-color: white;}#sk-8f20f701-cd13-4f0e-aca1-01be7c95ac0c label.sk-toggleable__label {cursor: pointer;display: block;width: 100%;margin-bottom: 0;padding: 0.3em;box-sizing: border-box;text-align: center;}#sk-8f20f701-cd13-4f0e-aca1-01be7c95ac0c div.sk-toggleable__content {max-height: 0;max-width: 0;overflow: hidden;text-align: left;background-color: #f0f8ff;}#sk-8f20f701-cd13-4f0e-aca1-01be7c95ac0c div.sk-toggleable__content pre {margin: 0.2em;color: black;border-radius: 0.25em;background-color: #f0f8ff;}#sk-8f20f701-cd13-4f0e-aca1-01be7c95ac0c input.sk-toggleable__control:checked~div.sk-toggleable__content {max-height: 200px;max-width: 100%;overflow: auto;}#sk-8f20f701-cd13-4f0e-aca1-01be7c95ac0c div.sk-estimator input.sk-toggleable__control:checked~label.sk-toggleable__label {background-color: #d4ebff;}#sk-8f20f701-cd13-4f0e-aca1-01be7c95ac0c div.sk-label input.sk-toggleable__control:checked~label.sk-toggleable__label {background-color: #d4ebff;}#sk-8f20f701-cd13-4f0e-aca1-01be7c95ac0c input.sk-hidden--visually {border: 0;clip: rect(1px 1px 1px 1px);clip: rect(1px, 1px, 1px, 1px);height: 1px;margin: -1px;overflow: hidden;padding: 0;position: absolute;width: 1px;}#sk-8f20f701-cd13-4f0e-aca1-01be7c95ac0c div.sk-estimator {font-family: monospace;background-color: #f0f8ff;border: 1px dotted black;border-radius: 0.25em;box-sizing: border-box;margin-bottom: 0.5em;}#sk-8f20f701-cd13-4f0e-aca1-01be7c95ac0c div.sk-estimator:hover {background-color: #d4ebff;}#sk-8f20f701-cd13-4f0e-aca1-01be7c95ac0c div.sk-parallel-item::after {content: \"\";width: 100%;border-bottom: 1px solid gray;flex-grow: 1;}#sk-8f20f701-cd13-4f0e-aca1-01be7c95ac0c div.sk-label:hover label.sk-toggleable__label {background-color: #d4ebff;}#sk-8f20f701-cd13-4f0e-aca1-01be7c95ac0c div.sk-serial::before {content: \"\";position: absolute;border-left: 1px solid gray;box-sizing: border-box;top: 2em;bottom: 0;left: 50%;}#sk-8f20f701-cd13-4f0e-aca1-01be7c95ac0c div.sk-serial {display: flex;flex-direction: column;align-items: center;background-color: white;padding-right: 0.2em;padding-left: 0.2em;}#sk-8f20f701-cd13-4f0e-aca1-01be7c95ac0c div.sk-item {z-index: 1;}#sk-8f20f701-cd13-4f0e-aca1-01be7c95ac0c div.sk-parallel {display: flex;align-items: stretch;justify-content: center;background-color: white;}#sk-8f20f701-cd13-4f0e-aca1-01be7c95ac0c div.sk-parallel::before {content: \"\";position: absolute;border-left: 1px solid gray;box-sizing: border-box;top: 2em;bottom: 0;left: 50%;}#sk-8f20f701-cd13-4f0e-aca1-01be7c95ac0c div.sk-parallel-item {display: flex;flex-direction: column;position: relative;background-color: white;}#sk-8f20f701-cd13-4f0e-aca1-01be7c95ac0c div.sk-parallel-item:first-child::after {align-self: flex-end;width: 50%;}#sk-8f20f701-cd13-4f0e-aca1-01be7c95ac0c div.sk-parallel-item:last-child::after {align-self: flex-start;width: 50%;}#sk-8f20f701-cd13-4f0e-aca1-01be7c95ac0c div.sk-parallel-item:only-child::after {width: 0;}#sk-8f20f701-cd13-4f0e-aca1-01be7c95ac0c div.sk-dashed-wrapped {border: 1px dashed gray;margin: 0 0.4em 0.5em 0.4em;box-sizing: border-box;padding-bottom: 0.4em;background-color: white;position: relative;}#sk-8f20f701-cd13-4f0e-aca1-01be7c95ac0c div.sk-label label {font-family: monospace;font-weight: bold;background-color: white;display: inline-block;line-height: 1.2em;}#sk-8f20f701-cd13-4f0e-aca1-01be7c95ac0c div.sk-label-container {position: relative;z-index: 2;text-align: center;}#sk-8f20f701-cd13-4f0e-aca1-01be7c95ac0c div.sk-container {display: inline-block;position: relative;}</style><div id=\"sk-8f20f701-cd13-4f0e-aca1-01be7c95ac0c\" class\"sk-top-container\"><div class=\"sk-container\"><div class=\"sk-item sk-dashed-wrapped\"><div class=\"sk-label-container\"><div class=\"sk-label sk-toggleable\"><input class=\"sk-toggleable__control sk-hidden--visually\" id=\"66556544-64e2-43d7-b236-a5df9efa7d2d\" type=\"checkbox\" ><label class=\"sk-toggleable__label\" for=\"66556544-64e2-43d7-b236-a5df9efa7d2d\">RandomizedSearchCV</label><div class=\"sk-toggleable__content\"><pre>RandomizedSearchCV(cv=5,\n                   estimator=Pipeline(steps=[('onehotencoder',\n                                              OneHotEncoder(cols=['pos_group',\n                                                                  'offense_defense',\n                                                                  'line_or_skill'])),\n                                             ('ridgeclassifiercv',\n                                              RidgeClassifierCV(alphas=array([1.e-02, 1.e-01, 1.e+00, 1.e+01, 5.e+01])))]),\n                   n_iter=25, n_jobs=6,\n                   param_distributions={'ridgeclassifiercv__class_weight': ['balanced',\n                                                                            None],\n                                        'ridgeclassifiercv__cv': range(2, 10),\n                                        'ridgeclassifiercv__fit_intercept': [True,\n                                                                             False]},\n                   verbose=1)</pre></div></div></div><div class=\"sk-parallel\"><div class=\"sk-parallel-item\"><div class=\"sk-item\"><div class=\"sk-serial\"><div class=\"sk-item\"><div class=\"sk-serial\"><div class=\"sk-item\"><div class=\"sk-estimator sk-toggleable\"><input class=\"sk-toggleable__control sk-hidden--visually\" id=\"14f94b01-7082-4126-a325-0f220a2168f5\" type=\"checkbox\" ><label class=\"sk-toggleable__label\" for=\"14f94b01-7082-4126-a325-0f220a2168f5\">OneHotEncoder</label><div class=\"sk-toggleable__content\"><pre>OneHotEncoder(cols=['pos_group', 'offense_defense', 'line_or_skill'])</pre></div></div></div><div class=\"sk-item\"><div class=\"sk-estimator sk-toggleable\"><input class=\"sk-toggleable__control sk-hidden--visually\" id=\"242ab23f-fc0d-44f8-9b67-a57f752a9407\" type=\"checkbox\" ><label class=\"sk-toggleable__label\" for=\"242ab23f-fc0d-44f8-9b67-a57f752a9407\">RidgeClassifierCV</label><div class=\"sk-toggleable__content\"><pre>RidgeClassifierCV(alphas=array([1.e-02, 1.e-01, 1.e+00, 1.e+01, 5.e+01]))</pre></div></div></div></div></div></div></div></div></div></div></div></div>"
     },
     "execution_count": 156,
     "metadata": {},
     "output_type": "execute_result"
    }
   ],
   "source": [
    "# Base Model\n",
    "model_ridgecv = make_pipeline(\n",
    "    OneHotEncoder(),\n",
    "    RidgeClassifierCV(alphas=(.01, .1, 1.0, 10.0, 50.0))\n",
    ")\n",
    "\n",
    "# Parameter distributions for hyperparameter tuning\n",
    "# Note double underscores __ in keys below\n",
    "param_distributions = {\n",
    "    'ridgeclassifiercv__cv': range(2, 10),\n",
    "    'ridgeclassifiercv__fit_intercept': [True, False],\n",
    "    'ridgeclassifiercv__class_weight': ['balanced', None]\n",
    "}\n",
    "\n",
    "tuned_ridge = RandomizedSearchCV(\n",
    "    model_ridgecv,\n",
    "    param_distributions=param_distributions,\n",
    "    n_iter=25,\n",
    "    cv=5,\n",
    "    verbose=1,\n",
    "    n_jobs=6\n",
    ")\n",
    "\n",
    "model_ridgecv.fit(X_train, y_train)\n",
    "tuned_ridge.fit(X_train, y_train)\n",
    "\n",
    "print('Tuned Ridge Classifier Training Accuracy', tuned_ridge.score(X_train, y_train))\n",
    "print('Tuned Ridge Classifier Validation Accuracy', tuned_ridge.score(X_test, y_test))\n",
    "print('Tuned Ridge Classifer best parameters: ', tuned_ridge.best_params_)\n",
    "tuned_ridge"
   ]
  },
  {
   "cell_type": "code",
   "execution_count": 156,
   "metadata": {
    "pycharm": {
     "name": "#%%\n"
    }
   },
   "outputs": [],
   "source": []
  }
 ],
 "metadata": {
  "kernelspec": {
   "display_name": "PyCharm (nfl_combine_draft)",
   "language": "python",
   "name": "pycharm-437d00df"
  },
  "language_info": {
   "codemirror_mode": {
    "name": "ipython",
    "version": 3
   },
   "file_extension": ".py",
   "mimetype": "text/x-python",
   "name": "python",
   "nbconvert_exporter": "python",
   "pygments_lexer": "ipython3",
   "version": "3.9.6"
  }
 },
 "nbformat": 4,
 "nbformat_minor": 1
}