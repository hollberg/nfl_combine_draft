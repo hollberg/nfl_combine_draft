{
 "cells": [
  {
   "cell_type": "markdown",
   "source": [
    "# Clean Data"
   ],
   "metadata": {
    "collapsed": false
   }
  },
  {
   "cell_type": "markdown",
   "source": [
    "### Imports"
   ],
   "metadata": {
    "collapsed": false,
    "pycharm": {
     "name": "#%% md\n"
    }
   }
  },
  {
   "cell_type": "code",
   "execution_count": 30,
   "outputs": [],
   "source": [
    "import numpy as np\n",
    "import pandas as pd\n"
   ],
   "metadata": {
    "collapsed": false,
    "pycharm": {
     "name": "#%%\n"
    }
   }
  },
  {
   "cell_type": "markdown",
   "source": [
    "## Clean NFL Combine Data"
   ],
   "metadata": {
    "collapsed": false
   }
  },
  {
   "cell_type": "code",
   "execution_count": 31,
   "outputs": [
    {
     "data": {
      "text/plain": "Index(['year', 'round', 'pk(ovr)', 'team', 'name', 'position', 'school'], dtype='object')"
     },
     "execution_count": 31,
     "metadata": {},
     "output_type": "execute_result"
    }
   ],
   "source": [
    "combine_file = r'data\\nfl_combine_1987_2020.csv'\n",
    "\n",
    "df_raw_combine = pd.read_csv(combine_file)\n",
    "\n",
    "df_raw_combine.head()\n",
    "\n",
    "draft_file = r'data\\espn_draft_history_2000_2021_cleaned.csv'\n",
    "df_raw_draft = pd.read_csv(draft_file)\n",
    "\n",
    "df_draft = df_raw_draft\n",
    "\n",
    "df_draft.columns = df_draft.columns.str.lower()\n",
    "df_draft.columns"
   ],
   "metadata": {
    "collapsed": false,
    "pycharm": {
     "name": "#%%\n"
    }
   }
  },
  {
   "cell_type": "code",
   "execution_count": 32,
   "outputs": [
    {
     "data": {
      "text/plain": "   year             name                school pos  height (in)  weight (lbs)  \\\n0  1987       Mike Adams         Arizona State  CB         69.8           198   \n1  1987     John Adickes                Baylor   C         74.8           266   \n2  1987       Tommy Agee                Auburn  FB         71.8           217   \n3  1987  David Alexander            Tulsa (OK)   C         75.0           279   \n4  1987    Lyneal Alston  Southern Mississippi  WR         72.1           202   \n\n   hand size (in)  arm length (in)  40 yard  bench press  vert leap (in)  \\\n0            8.50            30.50     4.42         13.0            32.0   \n1           10.25            30.00     4.97         25.0            26.5   \n2            9.00            30.75      NaN         15.0             NaN   \n3           10.50            32.75     5.13         22.0            27.5   \n4           10.00            33.00     4.64          7.0            32.0   \n\n   broad jump (in)  shuttle  3cone  60yd shuttle  \n0            118.0     4.60    NaN         11.91  \n1            103.0     4.60    NaN           NaN  \n2              NaN      NaN    NaN           NaN  \n3            105.0     4.33    NaN           NaN  \n4            114.0     4.52    NaN         11.85  ",
      "text/html": "<div>\n<style scoped>\n    .dataframe tbody tr th:only-of-type {\n        vertical-align: middle;\n    }\n\n    .dataframe tbody tr th {\n        vertical-align: top;\n    }\n\n    .dataframe thead th {\n        text-align: right;\n    }\n</style>\n<table border=\"1\" class=\"dataframe\">\n  <thead>\n    <tr style=\"text-align: right;\">\n      <th></th>\n      <th>year</th>\n      <th>name</th>\n      <th>school</th>\n      <th>pos</th>\n      <th>height (in)</th>\n      <th>weight (lbs)</th>\n      <th>hand size (in)</th>\n      <th>arm length (in)</th>\n      <th>40 yard</th>\n      <th>bench press</th>\n      <th>vert leap (in)</th>\n      <th>broad jump (in)</th>\n      <th>shuttle</th>\n      <th>3cone</th>\n      <th>60yd shuttle</th>\n    </tr>\n  </thead>\n  <tbody>\n    <tr>\n      <th>0</th>\n      <td>1987</td>\n      <td>Mike Adams</td>\n      <td>Arizona State</td>\n      <td>CB</td>\n      <td>69.8</td>\n      <td>198</td>\n      <td>8.50</td>\n      <td>30.50</td>\n      <td>4.42</td>\n      <td>13.0</td>\n      <td>32.0</td>\n      <td>118.0</td>\n      <td>4.60</td>\n      <td>NaN</td>\n      <td>11.91</td>\n    </tr>\n    <tr>\n      <th>1</th>\n      <td>1987</td>\n      <td>John Adickes</td>\n      <td>Baylor</td>\n      <td>C</td>\n      <td>74.8</td>\n      <td>266</td>\n      <td>10.25</td>\n      <td>30.00</td>\n      <td>4.97</td>\n      <td>25.0</td>\n      <td>26.5</td>\n      <td>103.0</td>\n      <td>4.60</td>\n      <td>NaN</td>\n      <td>NaN</td>\n    </tr>\n    <tr>\n      <th>2</th>\n      <td>1987</td>\n      <td>Tommy Agee</td>\n      <td>Auburn</td>\n      <td>FB</td>\n      <td>71.8</td>\n      <td>217</td>\n      <td>9.00</td>\n      <td>30.75</td>\n      <td>NaN</td>\n      <td>15.0</td>\n      <td>NaN</td>\n      <td>NaN</td>\n      <td>NaN</td>\n      <td>NaN</td>\n      <td>NaN</td>\n    </tr>\n    <tr>\n      <th>3</th>\n      <td>1987</td>\n      <td>David Alexander</td>\n      <td>Tulsa (OK)</td>\n      <td>C</td>\n      <td>75.0</td>\n      <td>279</td>\n      <td>10.50</td>\n      <td>32.75</td>\n      <td>5.13</td>\n      <td>22.0</td>\n      <td>27.5</td>\n      <td>105.0</td>\n      <td>4.33</td>\n      <td>NaN</td>\n      <td>NaN</td>\n    </tr>\n    <tr>\n      <th>4</th>\n      <td>1987</td>\n      <td>Lyneal Alston</td>\n      <td>Southern Mississippi</td>\n      <td>WR</td>\n      <td>72.1</td>\n      <td>202</td>\n      <td>10.00</td>\n      <td>33.00</td>\n      <td>4.64</td>\n      <td>7.0</td>\n      <td>32.0</td>\n      <td>114.0</td>\n      <td>4.52</td>\n      <td>NaN</td>\n      <td>11.85</td>\n    </tr>\n  </tbody>\n</table>\n</div>"
     },
     "execution_count": 32,
     "metadata": {},
     "output_type": "execute_result"
    }
   ],
   "source": [
    "combine_cols_to_drop = ['Unnamed: 0', 'Wonderlic']\n",
    "df_combine = df_raw_combine\n",
    "df_combine.drop(columns=combine_cols_to_drop, inplace=True)\n",
    "df_combine.columns = df_combine.columns.str.lower()\n",
    "df_combine.rename(columns={'college':'school'}, inplace=True)\n",
    "df_combine.head()"
   ],
   "metadata": {
    "collapsed": false,
    "pycharm": {
     "name": "#%%\n"
    }
   }
  },
  {
   "cell_type": "code",
   "execution_count": 33,
   "outputs": [
    {
     "data": {
      "text/plain": "WR     1684\nCB     1286\nRB     1123\nDE      974\nOT      970\nOLB     959\nDT      951\nOG      774\nTE      729\nQB      711\nILB     506\nFS      495\nSS      439\nC       402\nFB      303\nP       157\nK       139\nLB       91\nS        53\nLS       22\nEDG      22\nOL       10\nDL        4\nDB        3\nNT        1\nName: pos, dtype: int64"
     },
     "execution_count": 33,
     "metadata": {},
     "output_type": "execute_result"
    }
   ],
   "source": [
    "# combine results by position\n",
    "df_combine['pos'].value_counts()"
   ],
   "metadata": {
    "collapsed": false,
    "pycharm": {
     "name": "#%%\n"
    }
   }
  },
  {
   "cell_type": "code",
   "execution_count": 34,
   "outputs": [
    {
     "data": {
      "text/plain": "Steve Smith         6\nChris Jones         6\nBrandon Williams    5\nTony Jones          5\nChris Brown         5\nMike Davis          4\nBrian Williams      4\nSteve Williams      4\nKevin Williams      4\nAnthony Johnson     4\nName: name, dtype: int64"
     },
     "execution_count": 34,
     "metadata": {},
     "output_type": "execute_result"
    }
   ],
   "source": [
    "# Are there duplicated names?\n",
    "df_combine['name'].value_counts(sort='descending').head(10)\n"
   ],
   "metadata": {
    "collapsed": false,
    "pycharm": {
     "name": "#%%\n"
    }
   }
  },
  {
   "cell_type": "code",
   "execution_count": 50,
   "outputs": [
    {
     "name": "stdout",
     "output_type": "stream",
     "text": [
      "<class 'pandas.core.frame.DataFrame'>\n",
      "                 school   source\n",
      "0         Arizona State  combine\n",
      "1                Baylor  combine\n",
      "2                Auburn  combine\n",
      "3            Tulsa (OK)  combine\n",
      "4  Southern Mississippi  combine\n"
     ]
    },
    {
     "data": {
      "text/plain": "                          school source_x source_y\n202            Abilene Christian    draft      NaN\n493       Abilene Christian (TX)      NaN  combine\n533             Adams State (CO)      NaN  combine\n297                    Air Force    draft  combine\n113                        Akron    draft  combine\n1                        Alabama    draft  combine\n166                  Alabama A&M    draft  combine\n203                Alabama State    draft  combine\n454           Alabama-Birmingham      NaN  combine\n200                       Albany    draft      NaN\n497                  Albany (NY)      NaN  combine\n151            Albany State (GA)    draft  combine\n251                       Albion    draft  combine\n326            Alcorn State (MS)      NaN  combine\n370  American International (MA)      NaN  combine\n418                Anderson (IN)      NaN  combine\n356            Angelo State (TX)      NaN  combine\n133            Appalachian State    draft      NaN\n336       Appalachian State (NC)      NaN  combine\n22                       Arizona    draft  combine",
      "text/html": "<div>\n<style scoped>\n    .dataframe tbody tr th:only-of-type {\n        vertical-align: middle;\n    }\n\n    .dataframe tbody tr th {\n        vertical-align: top;\n    }\n\n    .dataframe thead th {\n        text-align: right;\n    }\n</style>\n<table border=\"1\" class=\"dataframe\">\n  <thead>\n    <tr style=\"text-align: right;\">\n      <th></th>\n      <th>school</th>\n      <th>source_x</th>\n      <th>source_y</th>\n    </tr>\n  </thead>\n  <tbody>\n    <tr>\n      <th>202</th>\n      <td>Abilene Christian</td>\n      <td>draft</td>\n      <td>NaN</td>\n    </tr>\n    <tr>\n      <th>493</th>\n      <td>Abilene Christian (TX)</td>\n      <td>NaN</td>\n      <td>combine</td>\n    </tr>\n    <tr>\n      <th>533</th>\n      <td>Adams State (CO)</td>\n      <td>NaN</td>\n      <td>combine</td>\n    </tr>\n    <tr>\n      <th>297</th>\n      <td>Air Force</td>\n      <td>draft</td>\n      <td>combine</td>\n    </tr>\n    <tr>\n      <th>113</th>\n      <td>Akron</td>\n      <td>draft</td>\n      <td>combine</td>\n    </tr>\n    <tr>\n      <th>1</th>\n      <td>Alabama</td>\n      <td>draft</td>\n      <td>combine</td>\n    </tr>\n    <tr>\n      <th>166</th>\n      <td>Alabama A&amp;M</td>\n      <td>draft</td>\n      <td>combine</td>\n    </tr>\n    <tr>\n      <th>203</th>\n      <td>Alabama State</td>\n      <td>draft</td>\n      <td>combine</td>\n    </tr>\n    <tr>\n      <th>454</th>\n      <td>Alabama-Birmingham</td>\n      <td>NaN</td>\n      <td>combine</td>\n    </tr>\n    <tr>\n      <th>200</th>\n      <td>Albany</td>\n      <td>draft</td>\n      <td>NaN</td>\n    </tr>\n    <tr>\n      <th>497</th>\n      <td>Albany (NY)</td>\n      <td>NaN</td>\n      <td>combine</td>\n    </tr>\n    <tr>\n      <th>151</th>\n      <td>Albany State (GA)</td>\n      <td>draft</td>\n      <td>combine</td>\n    </tr>\n    <tr>\n      <th>251</th>\n      <td>Albion</td>\n      <td>draft</td>\n      <td>combine</td>\n    </tr>\n    <tr>\n      <th>326</th>\n      <td>Alcorn State (MS)</td>\n      <td>NaN</td>\n      <td>combine</td>\n    </tr>\n    <tr>\n      <th>370</th>\n      <td>American International (MA)</td>\n      <td>NaN</td>\n      <td>combine</td>\n    </tr>\n    <tr>\n      <th>418</th>\n      <td>Anderson (IN)</td>\n      <td>NaN</td>\n      <td>combine</td>\n    </tr>\n    <tr>\n      <th>356</th>\n      <td>Angelo State (TX)</td>\n      <td>NaN</td>\n      <td>combine</td>\n    </tr>\n    <tr>\n      <th>133</th>\n      <td>Appalachian State</td>\n      <td>draft</td>\n      <td>NaN</td>\n    </tr>\n    <tr>\n      <th>336</th>\n      <td>Appalachian State (NC)</td>\n      <td>NaN</td>\n      <td>combine</td>\n    </tr>\n    <tr>\n      <th>22</th>\n      <td>Arizona</td>\n      <td>draft</td>\n      <td>combine</td>\n    </tr>\n  </tbody>\n</table>\n</div>"
     },
     "execution_count": 50,
     "metadata": {},
     "output_type": "execute_result"
    }
   ],
   "source": [
    "# Do college names match in both datasets?\n",
    "draft_school = pd.DataFrame(df_draft['school'].unique()).rename(columns={0:'school'})\n",
    "draft_school['source'] = 'draft'\n",
    "combine_school = pd.DataFrame(df_combine['school'].unique()).rename(columns={0:'school'})\n",
    "combine_school['source'] = 'combine'\n",
    "print(type(combine_school))\n",
    "print(combine_school.head())\n",
    "schools = draft_school.merge(combine_school, on='school', how='outer').sort_values(by='school')\n",
    "\n",
    "schools.head(20)\n",
    "\n",
    "# pd.concat([df_combine['school'], df_draft['school']], join='outer')\n",
    "\n",
    "#df_combine.merge(df_draft, how='left', on='school')\n",
    "\n",
    "\n"
   ],
   "metadata": {
    "collapsed": false,
    "pycharm": {
     "name": "#%%\n"
    }
   }
  },
  {
   "cell_type": "code",
   "execution_count": 36,
   "outputs": [],
   "source": [
    "#df_combine.merge(df_draft, how='inner', on='school')"
   ],
   "metadata": {
    "collapsed": false,
    "pycharm": {
     "name": "#%%\n"
    }
   }
  },
  {
   "cell_type": "code",
   "execution_count": 36,
   "outputs": [],
   "source": [],
   "metadata": {
    "collapsed": false,
    "pycharm": {
     "name": "#%%\n"
    }
   }
  }
 ],
 "metadata": {
  "kernelspec": {
   "display_name": "Python 3",
   "language": "python",
   "name": "python3"
  },
  "language_info": {
   "codemirror_mode": {
    "name": "ipython",
    "version": 2
   },
   "file_extension": ".py",
   "mimetype": "text/x-python",
   "name": "python",
   "nbconvert_exporter": "python",
   "pygments_lexer": "ipython2",
   "version": "2.7.6"
  }
 },
 "nbformat": 4,
 "nbformat_minor": 0
}