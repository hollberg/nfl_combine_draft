{
 "cells": [
  {
   "cell_type": "markdown",
   "source": [
    "# Clean Data"
   ],
   "metadata": {
    "collapsed": false
   }
  },
  {
   "cell_type": "markdown",
   "source": [
    "### Imports"
   ],
   "metadata": {
    "collapsed": false,
    "pycharm": {
     "name": "#%% md\n"
    }
   }
  },
  {
   "cell_type": "code",
   "execution_count": 1,
   "outputs": [],
   "source": [
    "import numpy as np\n",
    "import pandas as pd\n"
   ],
   "metadata": {
    "collapsed": false,
    "pycharm": {
     "name": "#%%\n"
    }
   }
  },
  {
   "cell_type": "markdown",
   "source": [
    "## Clean NFL Combine Data"
   ],
   "metadata": {
    "collapsed": false
   }
  },
  {
   "cell_type": "code",
   "execution_count": 15,
   "outputs": [
    {
     "data": {
      "text/plain": "   Unnamed: 0  Year             Name               College POS  Height (in)  \\\n0           0  1987       Mike Adams         Arizona State  CB         69.8   \n1           1  1987     John Adickes                Baylor   C         74.8   \n2           2  1987       Tommy Agee                Auburn  FB         71.8   \n3           3  1987  David Alexander            Tulsa (OK)   C         75.0   \n4           4  1987    Lyneal Alston  Southern Mississippi  WR         72.1   \n\n   Weight (lbs)  Hand Size (in)  Arm Length (in)  Wonderlic  40 Yard  \\\n0           198            8.50            30.50        NaN     4.42   \n1           266           10.25            30.00        NaN     4.97   \n2           217            9.00            30.75        NaN      NaN   \n3           279           10.50            32.75        NaN     5.13   \n4           202           10.00            33.00        NaN     4.64   \n\n   Bench Press  Vert Leap (in)  Broad Jump (in)  Shuttle  3Cone  60Yd Shuttle  \n0         13.0            32.0            118.0     4.60    NaN         11.91  \n1         25.0            26.5            103.0     4.60    NaN           NaN  \n2         15.0             NaN              NaN      NaN    NaN           NaN  \n3         22.0            27.5            105.0     4.33    NaN           NaN  \n4          7.0            32.0            114.0     4.52    NaN         11.85  ",
      "text/html": "<div>\n<style scoped>\n    .dataframe tbody tr th:only-of-type {\n        vertical-align: middle;\n    }\n\n    .dataframe tbody tr th {\n        vertical-align: top;\n    }\n\n    .dataframe thead th {\n        text-align: right;\n    }\n</style>\n<table border=\"1\" class=\"dataframe\">\n  <thead>\n    <tr style=\"text-align: right;\">\n      <th></th>\n      <th>Unnamed: 0</th>\n      <th>Year</th>\n      <th>Name</th>\n      <th>College</th>\n      <th>POS</th>\n      <th>Height (in)</th>\n      <th>Weight (lbs)</th>\n      <th>Hand Size (in)</th>\n      <th>Arm Length (in)</th>\n      <th>Wonderlic</th>\n      <th>40 Yard</th>\n      <th>Bench Press</th>\n      <th>Vert Leap (in)</th>\n      <th>Broad Jump (in)</th>\n      <th>Shuttle</th>\n      <th>3Cone</th>\n      <th>60Yd Shuttle</th>\n    </tr>\n  </thead>\n  <tbody>\n    <tr>\n      <th>0</th>\n      <td>0</td>\n      <td>1987</td>\n      <td>Mike Adams</td>\n      <td>Arizona State</td>\n      <td>CB</td>\n      <td>69.8</td>\n      <td>198</td>\n      <td>8.50</td>\n      <td>30.50</td>\n      <td>NaN</td>\n      <td>4.42</td>\n      <td>13.0</td>\n      <td>32.0</td>\n      <td>118.0</td>\n      <td>4.60</td>\n      <td>NaN</td>\n      <td>11.91</td>\n    </tr>\n    <tr>\n      <th>1</th>\n      <td>1</td>\n      <td>1987</td>\n      <td>John Adickes</td>\n      <td>Baylor</td>\n      <td>C</td>\n      <td>74.8</td>\n      <td>266</td>\n      <td>10.25</td>\n      <td>30.00</td>\n      <td>NaN</td>\n      <td>4.97</td>\n      <td>25.0</td>\n      <td>26.5</td>\n      <td>103.0</td>\n      <td>4.60</td>\n      <td>NaN</td>\n      <td>NaN</td>\n    </tr>\n    <tr>\n      <th>2</th>\n      <td>2</td>\n      <td>1987</td>\n      <td>Tommy Agee</td>\n      <td>Auburn</td>\n      <td>FB</td>\n      <td>71.8</td>\n      <td>217</td>\n      <td>9.00</td>\n      <td>30.75</td>\n      <td>NaN</td>\n      <td>NaN</td>\n      <td>15.0</td>\n      <td>NaN</td>\n      <td>NaN</td>\n      <td>NaN</td>\n      <td>NaN</td>\n      <td>NaN</td>\n    </tr>\n    <tr>\n      <th>3</th>\n      <td>3</td>\n      <td>1987</td>\n      <td>David Alexander</td>\n      <td>Tulsa (OK)</td>\n      <td>C</td>\n      <td>75.0</td>\n      <td>279</td>\n      <td>10.50</td>\n      <td>32.75</td>\n      <td>NaN</td>\n      <td>5.13</td>\n      <td>22.0</td>\n      <td>27.5</td>\n      <td>105.0</td>\n      <td>4.33</td>\n      <td>NaN</td>\n      <td>NaN</td>\n    </tr>\n    <tr>\n      <th>4</th>\n      <td>4</td>\n      <td>1987</td>\n      <td>Lyneal Alston</td>\n      <td>Southern Mississippi</td>\n      <td>WR</td>\n      <td>72.1</td>\n      <td>202</td>\n      <td>10.00</td>\n      <td>33.00</td>\n      <td>NaN</td>\n      <td>4.64</td>\n      <td>7.0</td>\n      <td>32.0</td>\n      <td>114.0</td>\n      <td>4.52</td>\n      <td>NaN</td>\n      <td>11.85</td>\n    </tr>\n  </tbody>\n</table>\n</div>"
     },
     "execution_count": 15,
     "metadata": {},
     "output_type": "execute_result"
    }
   ],
   "source": [
    "combine_file = r'data\\nfl_combine_1987_2020.csv'\n",
    "\n",
    "df_raw_combine = pd.read_csv(combine_file)\n",
    "\n",
    "df_raw_combine.head()"
   ],
   "metadata": {
    "collapsed": false,
    "pycharm": {
     "name": "#%%\n"
    }
   }
  },
  {
   "cell_type": "code",
   "execution_count": 16,
   "outputs": [
    {
     "data": {
      "text/plain": "   Year             Name               College POS  Height (in)  Weight (lbs)  \\\n0  1987       Mike Adams         Arizona State  CB         69.8           198   \n1  1987     John Adickes                Baylor   C         74.8           266   \n2  1987       Tommy Agee                Auburn  FB         71.8           217   \n3  1987  David Alexander            Tulsa (OK)   C         75.0           279   \n4  1987    Lyneal Alston  Southern Mississippi  WR         72.1           202   \n\n   Hand Size (in)  Arm Length (in)  40 Yard  Bench Press  Vert Leap (in)  \\\n0            8.50            30.50     4.42         13.0            32.0   \n1           10.25            30.00     4.97         25.0            26.5   \n2            9.00            30.75      NaN         15.0             NaN   \n3           10.50            32.75     5.13         22.0            27.5   \n4           10.00            33.00     4.64          7.0            32.0   \n\n   Broad Jump (in)  Shuttle  3Cone  60Yd Shuttle  \n0            118.0     4.60    NaN         11.91  \n1            103.0     4.60    NaN           NaN  \n2              NaN      NaN    NaN           NaN  \n3            105.0     4.33    NaN           NaN  \n4            114.0     4.52    NaN         11.85  ",
      "text/html": "<div>\n<style scoped>\n    .dataframe tbody tr th:only-of-type {\n        vertical-align: middle;\n    }\n\n    .dataframe tbody tr th {\n        vertical-align: top;\n    }\n\n    .dataframe thead th {\n        text-align: right;\n    }\n</style>\n<table border=\"1\" class=\"dataframe\">\n  <thead>\n    <tr style=\"text-align: right;\">\n      <th></th>\n      <th>Year</th>\n      <th>Name</th>\n      <th>College</th>\n      <th>POS</th>\n      <th>Height (in)</th>\n      <th>Weight (lbs)</th>\n      <th>Hand Size (in)</th>\n      <th>Arm Length (in)</th>\n      <th>40 Yard</th>\n      <th>Bench Press</th>\n      <th>Vert Leap (in)</th>\n      <th>Broad Jump (in)</th>\n      <th>Shuttle</th>\n      <th>3Cone</th>\n      <th>60Yd Shuttle</th>\n    </tr>\n  </thead>\n  <tbody>\n    <tr>\n      <th>0</th>\n      <td>1987</td>\n      <td>Mike Adams</td>\n      <td>Arizona State</td>\n      <td>CB</td>\n      <td>69.8</td>\n      <td>198</td>\n      <td>8.50</td>\n      <td>30.50</td>\n      <td>4.42</td>\n      <td>13.0</td>\n      <td>32.0</td>\n      <td>118.0</td>\n      <td>4.60</td>\n      <td>NaN</td>\n      <td>11.91</td>\n    </tr>\n    <tr>\n      <th>1</th>\n      <td>1987</td>\n      <td>John Adickes</td>\n      <td>Baylor</td>\n      <td>C</td>\n      <td>74.8</td>\n      <td>266</td>\n      <td>10.25</td>\n      <td>30.00</td>\n      <td>4.97</td>\n      <td>25.0</td>\n      <td>26.5</td>\n      <td>103.0</td>\n      <td>4.60</td>\n      <td>NaN</td>\n      <td>NaN</td>\n    </tr>\n    <tr>\n      <th>2</th>\n      <td>1987</td>\n      <td>Tommy Agee</td>\n      <td>Auburn</td>\n      <td>FB</td>\n      <td>71.8</td>\n      <td>217</td>\n      <td>9.00</td>\n      <td>30.75</td>\n      <td>NaN</td>\n      <td>15.0</td>\n      <td>NaN</td>\n      <td>NaN</td>\n      <td>NaN</td>\n      <td>NaN</td>\n      <td>NaN</td>\n    </tr>\n    <tr>\n      <th>3</th>\n      <td>1987</td>\n      <td>David Alexander</td>\n      <td>Tulsa (OK)</td>\n      <td>C</td>\n      <td>75.0</td>\n      <td>279</td>\n      <td>10.50</td>\n      <td>32.75</td>\n      <td>5.13</td>\n      <td>22.0</td>\n      <td>27.5</td>\n      <td>105.0</td>\n      <td>4.33</td>\n      <td>NaN</td>\n      <td>NaN</td>\n    </tr>\n    <tr>\n      <th>4</th>\n      <td>1987</td>\n      <td>Lyneal Alston</td>\n      <td>Southern Mississippi</td>\n      <td>WR</td>\n      <td>72.1</td>\n      <td>202</td>\n      <td>10.00</td>\n      <td>33.00</td>\n      <td>4.64</td>\n      <td>7.0</td>\n      <td>32.0</td>\n      <td>114.0</td>\n      <td>4.52</td>\n      <td>NaN</td>\n      <td>11.85</td>\n    </tr>\n  </tbody>\n</table>\n</div>"
     },
     "execution_count": 16,
     "metadata": {},
     "output_type": "execute_result"
    }
   ],
   "source": [
    "combine_cols_to_drop = ['Unnamed: 0', 'Wonderlic']\n",
    "df_combine = df_raw_combine\n",
    "df_combine.drop(columns=combine_cols_to_drop, inplace=True)\n",
    "df_combine.head()"
   ],
   "metadata": {
    "collapsed": false,
    "pycharm": {
     "name": "#%%\n"
    }
   }
  },
  {
   "cell_type": "code",
   "execution_count": 18,
   "outputs": [],
   "source": [
    "df_combine['POS'].value_counts().to_clipboard()"
   ],
   "metadata": {
    "collapsed": false,
    "pycharm": {
     "name": "#%%\n"
    }
   }
  },
  {
   "cell_type": "code",
   "execution_count": null,
   "outputs": [],
   "source": [],
   "metadata": {
    "collapsed": false,
    "pycharm": {
     "name": "#%%\n"
    }
   }
  }
 ],
 "metadata": {
  "kernelspec": {
   "display_name": "Python 3",
   "language": "python",
   "name": "python3"
  },
  "language_info": {
   "codemirror_mode": {
    "name": "ipython",
    "version": 2
   },
   "file_extension": ".py",
   "mimetype": "text/x-python",
   "name": "python",
   "nbconvert_exporter": "python",
   "pygments_lexer": "ipython2",
   "version": "2.7.6"
  }
 },
 "nbformat": 4,
 "nbformat_minor": 0
}