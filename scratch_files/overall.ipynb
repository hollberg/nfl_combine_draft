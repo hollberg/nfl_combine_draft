{
 "cells": [
  {
   "cell_type": "markdown",
   "metadata": {},
   "source": [
    "# Clean Data"
   ]
  },
  {
   "cell_type": "markdown",
   "metadata": {
    "pycharm": {
     "name": "#%% md\n"
    }
   },
   "source": [
    "### Imports"
   ]
  },
  {
   "cell_type": "code",
   "execution_count": 91,
   "metadata": {
    "pycharm": {
     "name": "#%%\n"
    }
   },
   "outputs": [],
   "source": [
    "import numpy as np\n",
    "import pandas as pd\n",
    "\n",
    "# visualization\n",
    "import matplotlib.pyplot as plt\n",
    "%matplotlib inline\n",
    "import seaborn as sns\n",
    "\n",
    "# personal module scripts\n",
    "import clean_data\n"
   ]
  },
  {
   "cell_type": "markdown",
   "metadata": {},
   "source": [
    "## Clean NFL Combine Data"
   ]
  },
  {
   "cell_type": "code",
   "execution_count": 92,
   "metadata": {
    "pycharm": {
     "name": "#%%\n"
    }
   },
   "outputs": [
    {
     "name": "stdout",
     "output_type": "stream",
     "text": [
      "(12808, 15)\n",
      "Cleaned combine size:  (8465, 15)\n"
     ]
    },
    {
     "data": {
      "text/html": [
       "<div>\n",
       "<style scoped>\n",
       "    .dataframe tbody tr th:only-of-type {\n",
       "        vertical-align: middle;\n",
       "    }\n",
       "\n",
       "    .dataframe tbody tr th {\n",
       "        vertical-align: top;\n",
       "    }\n",
       "\n",
       "    .dataframe thead th {\n",
       "        text-align: right;\n",
       "    }\n",
       "</style>\n",
       "<table border=\"1\" class=\"dataframe\">\n",
       "  <thead>\n",
       "    <tr style=\"text-align: right;\">\n",
       "      <th></th>\n",
       "      <th>year</th>\n",
       "      <th>name</th>\n",
       "      <th>school</th>\n",
       "      <th>pos</th>\n",
       "      <th>height (in)</th>\n",
       "      <th>weight (lbs)</th>\n",
       "      <th>hand size (in)</th>\n",
       "      <th>arm length (in)</th>\n",
       "      <th>40 yard</th>\n",
       "      <th>bench press</th>\n",
       "      <th>vert leap (in)</th>\n",
       "      <th>broad jump (in)</th>\n",
       "      <th>shuttle</th>\n",
       "      <th>3cone</th>\n",
       "      <th>60yd shuttle</th>\n",
       "    </tr>\n",
       "  </thead>\n",
       "  <tbody>\n",
       "    <tr>\n",
       "      <th>4343</th>\n",
       "      <td>2000</td>\n",
       "      <td>Darnell Alford</td>\n",
       "      <td>Boston College</td>\n",
       "      <td>OT</td>\n",
       "      <td>76.0</td>\n",
       "      <td>334</td>\n",
       "      <td>10.50</td>\n",
       "      <td>34.00</td>\n",
       "      <td>5.58</td>\n",
       "      <td>23.0</td>\n",
       "      <td>25.0</td>\n",
       "      <td>94.0</td>\n",
       "      <td>4.98</td>\n",
       "      <td>8.48</td>\n",
       "      <td>NaN</td>\n",
       "    </tr>\n",
       "    <tr>\n",
       "      <th>4344</th>\n",
       "      <td>2000</td>\n",
       "      <td>Kyle Allamon</td>\n",
       "      <td>Texas Tech</td>\n",
       "      <td>TE</td>\n",
       "      <td>74.5</td>\n",
       "      <td>253</td>\n",
       "      <td>9.88</td>\n",
       "      <td>31.00</td>\n",
       "      <td>5.01</td>\n",
       "      <td>NaN</td>\n",
       "      <td>29.0</td>\n",
       "      <td>104.0</td>\n",
       "      <td>4.49</td>\n",
       "      <td>7.29</td>\n",
       "      <td>12.47</td>\n",
       "    </tr>\n",
       "    <tr>\n",
       "      <th>4345</th>\n",
       "      <td>2000</td>\n",
       "      <td>Rashard Anderson</td>\n",
       "      <td>Jackson State (MS)</td>\n",
       "      <td>CB</td>\n",
       "      <td>74.4</td>\n",
       "      <td>206</td>\n",
       "      <td>10.00</td>\n",
       "      <td>33.00</td>\n",
       "      <td>4.59</td>\n",
       "      <td>NaN</td>\n",
       "      <td>34.0</td>\n",
       "      <td>123.0</td>\n",
       "      <td>4.15</td>\n",
       "      <td>7.18</td>\n",
       "      <td>11.72</td>\n",
       "    </tr>\n",
       "    <tr>\n",
       "      <th>4346</th>\n",
       "      <td>2000</td>\n",
       "      <td>Corey Atkins</td>\n",
       "      <td>South Carolina</td>\n",
       "      <td>OLB</td>\n",
       "      <td>72.4</td>\n",
       "      <td>237</td>\n",
       "      <td>9.75</td>\n",
       "      <td>31.88</td>\n",
       "      <td>4.76</td>\n",
       "      <td>21.0</td>\n",
       "      <td>31.0</td>\n",
       "      <td>112.0</td>\n",
       "      <td>4.39</td>\n",
       "      <td>7.96</td>\n",
       "      <td>11.87</td>\n",
       "    </tr>\n",
       "    <tr>\n",
       "      <th>4347</th>\n",
       "      <td>2000</td>\n",
       "      <td>Reggie Austin</td>\n",
       "      <td>Wake Forest</td>\n",
       "      <td>CB</td>\n",
       "      <td>69.4</td>\n",
       "      <td>175</td>\n",
       "      <td>8.50</td>\n",
       "      <td>30.00</td>\n",
       "      <td>4.46</td>\n",
       "      <td>17.0</td>\n",
       "      <td>35.0</td>\n",
       "      <td>119.0</td>\n",
       "      <td>4.14</td>\n",
       "      <td>7.03</td>\n",
       "      <td>NaN</td>\n",
       "    </tr>\n",
       "  </tbody>\n",
       "</table>\n",
       "</div>"
      ],
      "text/plain": [
       "      year              name              school  pos  height (in)  \\\n",
       "4343  2000    Darnell Alford      Boston College   OT         76.0   \n",
       "4344  2000      Kyle Allamon          Texas Tech   TE         74.5   \n",
       "4345  2000  Rashard Anderson  Jackson State (MS)   CB         74.4   \n",
       "4346  2000      Corey Atkins      South Carolina  OLB         72.4   \n",
       "4347  2000     Reggie Austin         Wake Forest   CB         69.4   \n",
       "\n",
       "      weight (lbs)  hand size (in)  arm length (in)  40 yard  bench press  \\\n",
       "4343           334           10.50            34.00     5.58         23.0   \n",
       "4344           253            9.88            31.00     5.01          NaN   \n",
       "4345           206           10.00            33.00     4.59          NaN   \n",
       "4346           237            9.75            31.88     4.76         21.0   \n",
       "4347           175            8.50            30.00     4.46         17.0   \n",
       "\n",
       "      vert leap (in)  broad jump (in)  shuttle  3cone  60yd shuttle  \n",
       "4343            25.0             94.0     4.98   8.48           NaN  \n",
       "4344            29.0            104.0     4.49   7.29         12.47  \n",
       "4345            34.0            123.0     4.15   7.18         11.72  \n",
       "4346            31.0            112.0     4.39   7.96         11.87  \n",
       "4347            35.0            119.0     4.14   7.03           NaN  "
      ]
     },
     "execution_count": 92,
     "metadata": {},
     "output_type": "execute_result"
    }
   ],
   "source": [
    "combine_file = r'data\\nfl_combine_1987_2020.csv'\n",
    "\n",
    "df_raw_combine = pd.read_csv(combine_file)\n",
    "\n",
    "df_raw_combine.head()\n",
    "\n",
    "# Keep raw data import for reference - build copy to modify\n",
    "df_combine = df_raw_combine\n",
    "\n",
    "# Drop dummy '0' column and Wonderlic scores data\n",
    "combine_cols_to_drop = ['Unnamed: 0', 'Wonderlic']\n",
    "df_combine.drop(columns=combine_cols_to_drop, inplace=True)\n",
    "\n",
    "# Clean column headers\n",
    "df_combine.columns = df_combine.columns.str.lower()\n",
    "df_combine.rename(columns={'college':'school'}, inplace=True)\n",
    "\n",
    "# Clean school names\n",
    "df_combine['school'] = df_combine['school'].str.strip()\n",
    "\n",
    "# Drop years prior to 2000 (no draft data)\n",
    "print(df_combine.shape)\n",
    "df_combine.drop(df_combine[df_combine['year']<2000].index, inplace=True)\n",
    "print('Cleaned combine size: ', df_combine.shape)\n",
    "df_combine.head()"
   ]
  },
  {
   "cell_type": "markdown",
   "metadata": {},
   "source": [
    "## Import position mapping data\n",
    "The \"combine\" dataset maps players to very specific positions (ie, \"Free Saftey\" or \"Outside Linebacker\").\n",
    "\n",
    "Map these granular positions to more standard positions. Also classify each position as \"Offense\" or \"Defense\", and indicate if the position is a \"Skill\" position or on the line of scrimmage."
   ]
  },
  {
   "cell_type": "code",
   "execution_count": 93,
   "metadata": {
    "pycharm": {
     "name": "#%%\n"
    }
   },
   "outputs": [
    {
     "data": {
      "text/html": [
       "<div>\n",
       "<style scoped>\n",
       "    .dataframe tbody tr th:only-of-type {\n",
       "        vertical-align: middle;\n",
       "    }\n",
       "\n",
       "    .dataframe tbody tr th {\n",
       "        vertical-align: top;\n",
       "    }\n",
       "\n",
       "    .dataframe thead th {\n",
       "        text-align: right;\n",
       "    }\n",
       "</style>\n",
       "<table border=\"1\" class=\"dataframe\">\n",
       "  <thead>\n",
       "    <tr style=\"text-align: right;\">\n",
       "      <th></th>\n",
       "      <th>pos</th>\n",
       "      <th>pos_group</th>\n",
       "      <th>offense_defense</th>\n",
       "      <th>line_or_skill</th>\n",
       "    </tr>\n",
       "  </thead>\n",
       "  <tbody>\n",
       "    <tr>\n",
       "      <th>0</th>\n",
       "      <td>WR</td>\n",
       "      <td>WR</td>\n",
       "      <td>O</td>\n",
       "      <td>S</td>\n",
       "    </tr>\n",
       "    <tr>\n",
       "      <th>1</th>\n",
       "      <td>CB</td>\n",
       "      <td>CB</td>\n",
       "      <td>D</td>\n",
       "      <td>S</td>\n",
       "    </tr>\n",
       "    <tr>\n",
       "      <th>2</th>\n",
       "      <td>RB</td>\n",
       "      <td>RB</td>\n",
       "      <td>O</td>\n",
       "      <td>S</td>\n",
       "    </tr>\n",
       "    <tr>\n",
       "      <th>3</th>\n",
       "      <td>DE</td>\n",
       "      <td>DL</td>\n",
       "      <td>D</td>\n",
       "      <td>L</td>\n",
       "    </tr>\n",
       "    <tr>\n",
       "      <th>4</th>\n",
       "      <td>OT</td>\n",
       "      <td>OL</td>\n",
       "      <td>O</td>\n",
       "      <td>L</td>\n",
       "    </tr>\n",
       "  </tbody>\n",
       "</table>\n",
       "</div>"
      ],
      "text/plain": [
       "  pos pos_group offense_defense line_or_skill\n",
       "0  WR        WR               O             S\n",
       "1  CB        CB               D             S\n",
       "2  RB        RB               O             S\n",
       "3  DE        DL               D             L\n",
       "4  OT        OL               O             L"
      ]
     },
     "execution_count": 93,
     "metadata": {},
     "output_type": "execute_result"
    }
   ],
   "source": [
    "df_positions = pd.read_csv('data/position_mapping.csv')\n",
    "df_positions.head()"
   ]
  },
  {
   "cell_type": "markdown",
   "metadata": {},
   "source": [
    "### Merge the draft and position mapping datasets"
   ]
  },
  {
   "cell_type": "code",
   "execution_count": 94,
   "metadata": {
    "pycharm": {
     "name": "#%%\n"
    }
   },
   "outputs": [
    {
     "name": "stdout",
     "output_type": "stream",
     "text": [
      "Granular position counts in combine dataset:\n",
      "WR     1095\n",
      "CB      864\n",
      "RB      700\n",
      "DE      657\n",
      "DT      647\n",
      "OT      618\n",
      "OLB     586\n",
      "OG      528\n",
      "TE      471\n",
      "QB      470\n",
      "ILB     350\n",
      "FS      347\n",
      "SS      298\n",
      "C       253\n",
      "FB      175\n",
      "P       108\n",
      "K        92\n",
      "LB       91\n",
      "S        53\n",
      "LS       22\n",
      "EDG      22\n",
      "OL       10\n",
      "DL        4\n",
      "DB        3\n",
      "NT        1\n",
      "Name: pos, dtype: int64\n",
      "\n",
      "Position Group counts after merging with position map:\n",
      "OL    1409\n",
      "DL    1331\n",
      "WR    1095\n",
      "LB    1027\n",
      "CB     864\n",
      "S      701\n",
      "RB     700\n",
      "TE     471\n",
      "QB     470\n",
      "K      200\n",
      "FB     175\n",
      "SN      22\n",
      "Name: pos_group, dtype: int64\n"
     ]
    },
    {
     "data": {
      "text/html": [
       "<div>\n",
       "<style scoped>\n",
       "    .dataframe tbody tr th:only-of-type {\n",
       "        vertical-align: middle;\n",
       "    }\n",
       "\n",
       "    .dataframe tbody tr th {\n",
       "        vertical-align: top;\n",
       "    }\n",
       "\n",
       "    .dataframe thead th {\n",
       "        text-align: right;\n",
       "    }\n",
       "</style>\n",
       "<table border=\"1\" class=\"dataframe\">\n",
       "  <thead>\n",
       "    <tr style=\"text-align: right;\">\n",
       "      <th></th>\n",
       "      <th>year</th>\n",
       "      <th>name</th>\n",
       "      <th>school</th>\n",
       "      <th>pos</th>\n",
       "      <th>height (in)</th>\n",
       "      <th>weight (lbs)</th>\n",
       "      <th>hand size (in)</th>\n",
       "      <th>arm length (in)</th>\n",
       "      <th>40 yard</th>\n",
       "      <th>bench press</th>\n",
       "      <th>vert leap (in)</th>\n",
       "      <th>broad jump (in)</th>\n",
       "      <th>shuttle</th>\n",
       "      <th>3cone</th>\n",
       "      <th>60yd shuttle</th>\n",
       "      <th>pos_group</th>\n",
       "      <th>offense_defense</th>\n",
       "      <th>line_or_skill</th>\n",
       "    </tr>\n",
       "  </thead>\n",
       "  <tbody>\n",
       "    <tr>\n",
       "      <th>0</th>\n",
       "      <td>2000</td>\n",
       "      <td>Darnell Alford</td>\n",
       "      <td>Boston College</td>\n",
       "      <td>OT</td>\n",
       "      <td>76.0</td>\n",
       "      <td>334</td>\n",
       "      <td>10.50</td>\n",
       "      <td>34.00</td>\n",
       "      <td>5.58</td>\n",
       "      <td>23.0</td>\n",
       "      <td>25.0</td>\n",
       "      <td>94.0</td>\n",
       "      <td>4.98</td>\n",
       "      <td>8.48</td>\n",
       "      <td>NaN</td>\n",
       "      <td>OL</td>\n",
       "      <td>O</td>\n",
       "      <td>L</td>\n",
       "    </tr>\n",
       "    <tr>\n",
       "      <th>1</th>\n",
       "      <td>2000</td>\n",
       "      <td>Kyle Allamon</td>\n",
       "      <td>Texas Tech</td>\n",
       "      <td>TE</td>\n",
       "      <td>74.5</td>\n",
       "      <td>253</td>\n",
       "      <td>9.88</td>\n",
       "      <td>31.00</td>\n",
       "      <td>5.01</td>\n",
       "      <td>NaN</td>\n",
       "      <td>29.0</td>\n",
       "      <td>104.0</td>\n",
       "      <td>4.49</td>\n",
       "      <td>7.29</td>\n",
       "      <td>12.47</td>\n",
       "      <td>TE</td>\n",
       "      <td>O</td>\n",
       "      <td>S</td>\n",
       "    </tr>\n",
       "    <tr>\n",
       "      <th>2</th>\n",
       "      <td>2000</td>\n",
       "      <td>Rashard Anderson</td>\n",
       "      <td>Jackson State (MS)</td>\n",
       "      <td>CB</td>\n",
       "      <td>74.4</td>\n",
       "      <td>206</td>\n",
       "      <td>10.00</td>\n",
       "      <td>33.00</td>\n",
       "      <td>4.59</td>\n",
       "      <td>NaN</td>\n",
       "      <td>34.0</td>\n",
       "      <td>123.0</td>\n",
       "      <td>4.15</td>\n",
       "      <td>7.18</td>\n",
       "      <td>11.72</td>\n",
       "      <td>CB</td>\n",
       "      <td>D</td>\n",
       "      <td>S</td>\n",
       "    </tr>\n",
       "    <tr>\n",
       "      <th>3</th>\n",
       "      <td>2000</td>\n",
       "      <td>Corey Atkins</td>\n",
       "      <td>South Carolina</td>\n",
       "      <td>OLB</td>\n",
       "      <td>72.4</td>\n",
       "      <td>237</td>\n",
       "      <td>9.75</td>\n",
       "      <td>31.88</td>\n",
       "      <td>4.76</td>\n",
       "      <td>21.0</td>\n",
       "      <td>31.0</td>\n",
       "      <td>112.0</td>\n",
       "      <td>4.39</td>\n",
       "      <td>7.96</td>\n",
       "      <td>11.87</td>\n",
       "      <td>LB</td>\n",
       "      <td>D</td>\n",
       "      <td>S</td>\n",
       "    </tr>\n",
       "    <tr>\n",
       "      <th>4</th>\n",
       "      <td>2000</td>\n",
       "      <td>Reggie Austin</td>\n",
       "      <td>Wake Forest</td>\n",
       "      <td>CB</td>\n",
       "      <td>69.4</td>\n",
       "      <td>175</td>\n",
       "      <td>8.50</td>\n",
       "      <td>30.00</td>\n",
       "      <td>4.46</td>\n",
       "      <td>17.0</td>\n",
       "      <td>35.0</td>\n",
       "      <td>119.0</td>\n",
       "      <td>4.14</td>\n",
       "      <td>7.03</td>\n",
       "      <td>NaN</td>\n",
       "      <td>CB</td>\n",
       "      <td>D</td>\n",
       "      <td>S</td>\n",
       "    </tr>\n",
       "  </tbody>\n",
       "</table>\n",
       "</div>"
      ],
      "text/plain": [
       "   year              name              school  pos  height (in)  weight (lbs)  \\\n",
       "0  2000    Darnell Alford      Boston College   OT         76.0           334   \n",
       "1  2000      Kyle Allamon          Texas Tech   TE         74.5           253   \n",
       "2  2000  Rashard Anderson  Jackson State (MS)   CB         74.4           206   \n",
       "3  2000      Corey Atkins      South Carolina  OLB         72.4           237   \n",
       "4  2000     Reggie Austin         Wake Forest   CB         69.4           175   \n",
       "\n",
       "   hand size (in)  arm length (in)  40 yard  bench press  vert leap (in)  \\\n",
       "0           10.50            34.00     5.58         23.0            25.0   \n",
       "1            9.88            31.00     5.01          NaN            29.0   \n",
       "2           10.00            33.00     4.59          NaN            34.0   \n",
       "3            9.75            31.88     4.76         21.0            31.0   \n",
       "4            8.50            30.00     4.46         17.0            35.0   \n",
       "\n",
       "   broad jump (in)  shuttle  3cone  60yd shuttle pos_group offense_defense  \\\n",
       "0             94.0     4.98   8.48           NaN        OL               O   \n",
       "1            104.0     4.49   7.29         12.47        TE               O   \n",
       "2            123.0     4.15   7.18         11.72        CB               D   \n",
       "3            112.0     4.39   7.96         11.87        LB               D   \n",
       "4            119.0     4.14   7.03           NaN        CB               D   \n",
       "\n",
       "  line_or_skill  \n",
       "0             L  \n",
       "1             S  \n",
       "2             S  \n",
       "3             S  \n",
       "4             S  "
      ]
     },
     "execution_count": 94,
     "metadata": {},
     "output_type": "execute_result"
    }
   ],
   "source": [
    "print('Granular position counts in combine dataset:')\n",
    "print(df_combine['pos'].value_counts())\n",
    "\n",
    "df_combine = df_combine.merge(df_positions,\n",
    "                          how='left',\n",
    "                          on='pos')\n",
    "\n",
    "print('\\nPosition Group counts after merging with position map:')\n",
    "print(df_combine['pos_group'].value_counts())\n",
    "\n",
    "df_combine.head()"
   ]
  },
  {
   "cell_type": "markdown",
   "metadata": {
    "pycharm": {
     "name": "#%% md\n"
    }
   },
   "source": [
    "#### Visualize combine performance distributions by position"
   ]
  },
  {
   "cell_type": "code",
   "execution_count": 95,
   "metadata": {
    "pycharm": {
     "name": "#%%\n"
    }
   },
   "outputs": [
    {
     "name": "stdout",
     "output_type": "stream",
     "text": [
      "['OL', 'TE', 'CB', 'LB', 'S', 'DL', 'QB', 'RB', 'WR', 'FB']\n",
      "Unique Positions:  10\n",
      "Index(['year', 'name', 'school', 'pos', 'height (in)', 'weight (lbs)',\n",
      "       'hand size (in)', 'arm length (in)', '40 yard', 'bench press',\n",
      "       'vert leap (in)', 'broad jump (in)', 'shuttle', '3cone', '60yd shuttle',\n",
      "       'pos_group', 'offense_defense', 'line_or_skill'],\n",
      "      dtype='object')\n"
     ]
    },
    {
     "name": "stderr",
     "output_type": "stream",
     "text": [
      "C:\\Users\\mitch\\AppData\\Local\\Temp/ipykernel_13124/858193567.py:48: UserWarning: Matplotlib is currently using module://matplotlib_inline.backend_inline, which is a non-GUI backend, so cannot show the figure.\n",
      "  fig.show()\n"
     ]
    },
    {
     "data": {
      "image/png": "[encoded data removed]",
      "text/plain": [
       "<Figure size 1800x1800 with 110 Axes>"
      ]
     },
     "metadata": {
      "needs_background": "light"
     },
     "output_type": "display_data"
    }
   ],
   "source": [
    "positions = df_combine['pos_group'].unique()\n",
    "\n",
    "positions_to_drop = ['SN', 'K']   # Long snappers and kickers/punters\n",
    "\n",
    "positions = [pos for pos in positions if pos not in positions_to_drop]\n",
    "print(positions)\n",
    "\n",
    "\n",
    "print('Unique Positions: ', len(positions))\n",
    "print(df_combine.columns)\n",
    "stat_columns = ['height (in)', 'weight (lbs)',\n",
    "       'hand size (in)', 'arm length (in)', '40 yard', 'bench press',\n",
    "       'vert leap (in)', 'broad jump (in)', 'shuttle', '3cone', '60yd shuttle']\n",
    "num_stats = len(stat_columns)\n",
    "\n",
    "fig, axes = plt.subplots(len(positions), num_stats,\n",
    "                         sharex=False,\n",
    "                         sharey=True,\n",
    "                         figsize=(25,25))\n",
    "\n",
    "fig.suptitle('NFL Combine Statistics - Distribution by Position (2000-2020)', fontsize=30)\n",
    "fig.supxlabel('Measurement', fontsize=30)\n",
    "fig.supylabel('Position', fontsize=30)\n",
    "\n",
    "fig.tight_layout(rect=[0.03, 0.03, 1, .95])\n",
    "\n",
    "# Loop over axes and data\n",
    "for row, pos in enumerate(positions):\n",
    "    x_positions = df_combine[df_combine['pos_group']==pos]\n",
    "\n",
    "    for col, stat in enumerate(stat_columns):\n",
    "        # Get axis\n",
    "        ax = axes[row,col]\n",
    "        x = x_positions[stat]\n",
    "        ax.hist(x,\n",
    "                range=[df_combine[stat].min(),df_combine[stat].max()],\n",
    "                alpha=.5, bins=10)\n",
    "        # Set Y label once per row\n",
    "        if col==0:\n",
    "            ax.set_ylabel(pos, fontsize='xx-large')\n",
    "\n",
    "        # Set X label once per column\n",
    "        if row == 0:\n",
    "            ax.set_title(stat, fontsize='xx-large')\n",
    "        if row == len(positions) - 1:\n",
    "            ax.set_xlabel(stat, fontsize='xx-large')\n",
    "\n",
    "fig.show()\n",
    "fig.savefig('images/stats_by_position.png', format='png')\n"
   ]
  },
  {
   "cell_type": "markdown",
   "metadata": {},
   "source": [
    "## Import and clean NFL Draft Data"
   ]
  },
  {
   "cell_type": "code",
   "execution_count": 96,
   "metadata": {
    "pycharm": {
     "name": "#%%\n"
    }
   },
   "outputs": [],
   "source": [
    "draft_file = r'data\\espn_draft_history_2000_2021_cleaned.csv'\n",
    "df_raw_draft = pd.read_csv(draft_file)\n",
    "\n",
    "# Keep raw data import for reference - build copy to modify\n",
    "df_draft = df_raw_draft\n",
    "\n",
    "# Clean column headers\n",
    "df_draft.columns = df_draft.columns.str.lower()\n",
    "\n",
    "# Clean school names\n",
    "df_draft['school'] = df_draft['school'].str.strip()"
   ]
  },
  {
   "cell_type": "markdown",
   "metadata": {},
   "source": [
    "### Are there duplicated names?"
   ]
  },
  {
   "cell_type": "code",
   "execution_count": 97,
   "metadata": {
    "pycharm": {
     "name": "#%%\n"
    }
   },
   "outputs": [
    {
     "data": {
      "text/plain": [
       "Brandon Williams    5\n",
       "Chris Brown         5\n",
       "Brian Allen         4\n",
       "Mike Williams       4\n",
       "Chris Jones         4\n",
       "Michael Bennett     3\n",
       "Josh Harris         3\n",
       "Travis Wilson       3\n",
       "Steve Smith         3\n",
       "Andre Smith         3\n",
       "Name: name, dtype: int64"
      ]
     },
     "execution_count": 97,
     "metadata": {},
     "output_type": "execute_result"
    }
   ],
   "source": [
    "df_combine['name'].value_counts(sort='descending').head(10)"
   ]
  },
  {
   "cell_type": "markdown",
   "metadata": {},
   "source": [
    "### Answer: Yes\n",
    "\n",
    "So we cannot simply join the 2 datasets on player 'name' columns. Need to also join on\n",
    "college and year.\n"
   ]
  },
  {
   "cell_type": "markdown",
   "metadata": {},
   "source": [
    "## Do college names match in both datasets?"
   ]
  },
  {
   "cell_type": "code",
   "execution_count": 98,
   "metadata": {
    "pycharm": {
     "name": "#%%\n"
    }
   },
   "outputs": [
    {
     "name": "stdout",
     "output_type": "stream",
     "text": [
      "<class 'pandas.core.frame.DataFrame'>\n",
      "               school   source\n",
      "0      Boston College  combine\n",
      "1          Texas Tech  combine\n",
      "2  Jackson State (MS)  combine\n",
      "3      South Carolina  combine\n",
      "4         Wake Forest  combine\n"
     ]
    },
    {
     "data": {
      "text/html": [
       "<div>\n",
       "<style scoped>\n",
       "    .dataframe tbody tr th:only-of-type {\n",
       "        vertical-align: middle;\n",
       "    }\n",
       "\n",
       "    .dataframe tbody tr th {\n",
       "        vertical-align: top;\n",
       "    }\n",
       "\n",
       "    .dataframe thead th {\n",
       "        text-align: right;\n",
       "    }\n",
       "</style>\n",
       "<table border=\"1\" class=\"dataframe\">\n",
       "  <thead>\n",
       "    <tr style=\"text-align: right;\">\n",
       "      <th></th>\n",
       "      <th>school</th>\n",
       "      <th>source_draft</th>\n",
       "      <th>source_combine</th>\n",
       "    </tr>\n",
       "  </thead>\n",
       "  <tbody>\n",
       "    <tr>\n",
       "      <th>202</th>\n",
       "      <td>Abilene Christian</td>\n",
       "      <td>draft</td>\n",
       "      <td>NaN</td>\n",
       "    </tr>\n",
       "    <tr>\n",
       "      <th>381</th>\n",
       "      <td>Abilene Christian (TX)</td>\n",
       "      <td>NaN</td>\n",
       "      <td>combine</td>\n",
       "    </tr>\n",
       "    <tr>\n",
       "      <th>445</th>\n",
       "      <td>Adams State (CO)</td>\n",
       "      <td>NaN</td>\n",
       "      <td>combine</td>\n",
       "    </tr>\n",
       "    <tr>\n",
       "      <th>345</th>\n",
       "      <td>Alabama-Birmingham</td>\n",
       "      <td>NaN</td>\n",
       "      <td>combine</td>\n",
       "    </tr>\n",
       "    <tr>\n",
       "      <th>200</th>\n",
       "      <td>Albany</td>\n",
       "      <td>draft</td>\n",
       "      <td>NaN</td>\n",
       "    </tr>\n",
       "    <tr>\n",
       "      <th>388</th>\n",
       "      <td>Albany (NY)</td>\n",
       "      <td>NaN</td>\n",
       "      <td>combine</td>\n",
       "    </tr>\n",
       "    <tr>\n",
       "      <th>412</th>\n",
       "      <td>Alcorn State (MS)</td>\n",
       "      <td>NaN</td>\n",
       "      <td>combine</td>\n",
       "    </tr>\n",
       "    <tr>\n",
       "      <th>133</th>\n",
       "      <td>Appalachian State</td>\n",
       "      <td>draft</td>\n",
       "      <td>NaN</td>\n",
       "    </tr>\n",
       "    <tr>\n",
       "      <th>336</th>\n",
       "      <td>Appalachian State (NC)</td>\n",
       "      <td>NaN</td>\n",
       "      <td>combine</td>\n",
       "    </tr>\n",
       "    <tr>\n",
       "      <th>255</th>\n",
       "      <td>Ashland</td>\n",
       "      <td>draft</td>\n",
       "      <td>NaN</td>\n",
       "    </tr>\n",
       "  </tbody>\n",
       "</table>\n",
       "</div>"
      ],
      "text/plain": [
       "                     school source_draft source_combine\n",
       "202       Abilene Christian        draft            NaN\n",
       "381  Abilene Christian (TX)          NaN        combine\n",
       "445        Adams State (CO)          NaN        combine\n",
       "345      Alabama-Birmingham          NaN        combine\n",
       "200                  Albany        draft            NaN\n",
       "388             Albany (NY)          NaN        combine\n",
       "412       Alcorn State (MS)          NaN        combine\n",
       "133       Appalachian State        draft            NaN\n",
       "336  Appalachian State (NC)          NaN        combine\n",
       "255                 Ashland        draft            NaN"
      ]
     },
     "execution_count": 98,
     "metadata": {},
     "output_type": "execute_result"
    }
   ],
   "source": [
    "draft_school = pd.DataFrame(df_draft['school'].unique()).rename(columns={0:'school'})\n",
    "draft_school['source'] = 'draft'\n",
    "combine_school = pd.DataFrame(df_combine['school'].unique()).rename(columns={0:'school'})\n",
    "combine_school['source'] = 'combine'\n",
    "print(type(combine_school))\n",
    "print(combine_school.head())\n",
    "\n",
    "schools = draft_school.merge(combine_school, on='school', how='outer',\n",
    "                             suffixes=['_draft', '_combine']).sort_values(by='school')\n",
    "\n",
    "# List all cases with mismatches\n",
    "na_mask = schools.isna().any(axis=1)\n",
    "schools[na_mask].head(10)"
   ]
  },
  {
   "cell_type": "markdown",
   "metadata": {
    "pycharm": {
     "name": "#%% md\n"
    }
   },
   "source": [
    "### So we see that the 'combine' dataset frequently has the state appended to the school name;\n",
    "Ex: \"Abilene Christian (TX)\". Remove these from school names, with the exception of \"Miami (OH)."
   ]
  },
  {
   "cell_type": "code",
   "execution_count": 99,
   "metadata": {
    "pycharm": {
     "name": "#%%\n"
    }
   },
   "outputs": [
    {
     "name": "stdout",
     "output_type": "stream",
     "text": [
      "0        Boston College\n",
      "1            Texas Tech\n",
      "2    Jackson State (MS)\n",
      "3        South Carolina\n",
      "4           Wake Forest\n",
      "Name: school, dtype: object\n"
     ]
    },
    {
     "name": "stderr",
     "output_type": "stream",
     "text": [
      "C:\\Users\\mitch\\AppData\\Local\\Temp/ipykernel_13124/172860408.py:1: FutureWarning: The default value of regex will change from True to False in a future version.\n",
      "  df_combine['school'] = df_combine['school'].str.replace('Miami (OH)', 'Miami - OH')\n"
     ]
    },
    {
     "data": {
      "text/plain": [
       "0    Boston College\n",
       "1        Texas Tech\n",
       "2    Jackson State \n",
       "3    South Carolina\n",
       "4       Wake Forest\n",
       "Name: school, dtype: object"
      ]
     },
     "execution_count": 99,
     "metadata": {},
     "output_type": "execute_result"
    }
   ],
   "source": [
    "df_combine['school'] = df_combine['school'].str.replace('Miami (OH)', 'Miami - OH')\n",
    "\n",
    "print(df_combine['school'].head())\n",
    "regex_replace_parens = r'\\([^)]*[a-zA-Z][^)]*\\)'\n",
    "df_combine['school'] = df_combine['school'].str.replace(regex_replace_parens,\n",
    "                                                        '', regex=True)\n",
    "\n",
    "df_combine['school'].head()"
   ]
  },
  {
   "cell_type": "markdown",
   "metadata": {},
   "source": [
    "## Standardize player names between datasets\n",
    "Player names in the \"Draft\" dataset include suffixes including \"Jr., II, III, IV\", but these are NOT included in the \"combine\" dataset.\n",
    "\n",
    "Standardize player names between datasets by removing these values from the \"Draft\" dataset."
   ]
  },
  {
   "cell_type": "code",
   "execution_count": 100,
   "metadata": {
    "pycharm": {
     "name": "#%%\n"
    }
   },
   "outputs": [],
   "source": [
    "regex_suffixes_to_remove = r'Jr\\.$|III$|IIII$|IV$|, Jr.$'\n",
    "df_draft['name'] = df_draft['name'].str.replace(regex_suffixes_to_remove,\n",
    "                                                '', regex=True)"
   ]
  },
  {
   "cell_type": "markdown",
   "metadata": {},
   "source": [
    "### Merge the Draft and NFL Combine datasets"
   ]
  },
  {
   "cell_type": "code",
   "execution_count": 101,
   "metadata": {
    "pycharm": {
     "name": "#%%\n"
    }
   },
   "outputs": [
    {
     "data": {
      "text/html": [
       "<div>\n",
       "<style scoped>\n",
       "    .dataframe tbody tr th:only-of-type {\n",
       "        vertical-align: middle;\n",
       "    }\n",
       "\n",
       "    .dataframe tbody tr th {\n",
       "        vertical-align: top;\n",
       "    }\n",
       "\n",
       "    .dataframe thead th {\n",
       "        text-align: right;\n",
       "    }\n",
       "</style>\n",
       "<table border=\"1\" class=\"dataframe\">\n",
       "  <thead>\n",
       "    <tr style=\"text-align: right;\">\n",
       "      <th></th>\n",
       "      <th>year</th>\n",
       "      <th>name</th>\n",
       "      <th>school</th>\n",
       "      <th>pos</th>\n",
       "      <th>height (in)</th>\n",
       "      <th>weight (lbs)</th>\n",
       "      <th>hand size (in)</th>\n",
       "      <th>arm length (in)</th>\n",
       "      <th>40 yard</th>\n",
       "      <th>bench press</th>\n",
       "      <th>...</th>\n",
       "      <th>shuttle</th>\n",
       "      <th>3cone</th>\n",
       "      <th>60yd shuttle</th>\n",
       "      <th>pos_group</th>\n",
       "      <th>offense_defense</th>\n",
       "      <th>line_or_skill</th>\n",
       "      <th>round</th>\n",
       "      <th>pk(ovr)</th>\n",
       "      <th>team</th>\n",
       "      <th>position</th>\n",
       "    </tr>\n",
       "  </thead>\n",
       "  <tbody>\n",
       "    <tr>\n",
       "      <th>0</th>\n",
       "      <td>2000</td>\n",
       "      <td>Darnell Alford</td>\n",
       "      <td>Boston College</td>\n",
       "      <td>OT</td>\n",
       "      <td>76.0</td>\n",
       "      <td>334</td>\n",
       "      <td>10.50</td>\n",
       "      <td>34.00</td>\n",
       "      <td>5.58</td>\n",
       "      <td>23.0</td>\n",
       "      <td>...</td>\n",
       "      <td>4.98</td>\n",
       "      <td>8.48</td>\n",
       "      <td>NaN</td>\n",
       "      <td>OL</td>\n",
       "      <td>O</td>\n",
       "      <td>L</td>\n",
       "      <td>6.0</td>\n",
       "      <td>22(188)</td>\n",
       "      <td>Chiefs</td>\n",
       "      <td>OT</td>\n",
       "    </tr>\n",
       "    <tr>\n",
       "      <th>1</th>\n",
       "      <td>2000</td>\n",
       "      <td>Kyle Allamon</td>\n",
       "      <td>Texas Tech</td>\n",
       "      <td>TE</td>\n",
       "      <td>74.5</td>\n",
       "      <td>253</td>\n",
       "      <td>9.88</td>\n",
       "      <td>31.00</td>\n",
       "      <td>5.01</td>\n",
       "      <td>NaN</td>\n",
       "      <td>...</td>\n",
       "      <td>4.49</td>\n",
       "      <td>7.29</td>\n",
       "      <td>12.47</td>\n",
       "      <td>TE</td>\n",
       "      <td>O</td>\n",
       "      <td>S</td>\n",
       "      <td>NaN</td>\n",
       "      <td>NaN</td>\n",
       "      <td>NaN</td>\n",
       "      <td>NaN</td>\n",
       "    </tr>\n",
       "    <tr>\n",
       "      <th>2</th>\n",
       "      <td>2000</td>\n",
       "      <td>Rashard Anderson</td>\n",
       "      <td>Jackson State</td>\n",
       "      <td>CB</td>\n",
       "      <td>74.4</td>\n",
       "      <td>206</td>\n",
       "      <td>10.00</td>\n",
       "      <td>33.00</td>\n",
       "      <td>4.59</td>\n",
       "      <td>NaN</td>\n",
       "      <td>...</td>\n",
       "      <td>4.15</td>\n",
       "      <td>7.18</td>\n",
       "      <td>11.72</td>\n",
       "      <td>CB</td>\n",
       "      <td>D</td>\n",
       "      <td>S</td>\n",
       "      <td>NaN</td>\n",
       "      <td>NaN</td>\n",
       "      <td>NaN</td>\n",
       "      <td>NaN</td>\n",
       "    </tr>\n",
       "    <tr>\n",
       "      <th>3</th>\n",
       "      <td>2000</td>\n",
       "      <td>Corey Atkins</td>\n",
       "      <td>South Carolina</td>\n",
       "      <td>OLB</td>\n",
       "      <td>72.4</td>\n",
       "      <td>237</td>\n",
       "      <td>9.75</td>\n",
       "      <td>31.88</td>\n",
       "      <td>4.76</td>\n",
       "      <td>21.0</td>\n",
       "      <td>...</td>\n",
       "      <td>4.39</td>\n",
       "      <td>7.96</td>\n",
       "      <td>11.87</td>\n",
       "      <td>LB</td>\n",
       "      <td>D</td>\n",
       "      <td>S</td>\n",
       "      <td>NaN</td>\n",
       "      <td>NaN</td>\n",
       "      <td>NaN</td>\n",
       "      <td>NaN</td>\n",
       "    </tr>\n",
       "    <tr>\n",
       "      <th>4</th>\n",
       "      <td>2000</td>\n",
       "      <td>Reggie Austin</td>\n",
       "      <td>Wake Forest</td>\n",
       "      <td>CB</td>\n",
       "      <td>69.4</td>\n",
       "      <td>175</td>\n",
       "      <td>8.50</td>\n",
       "      <td>30.00</td>\n",
       "      <td>4.46</td>\n",
       "      <td>17.0</td>\n",
       "      <td>...</td>\n",
       "      <td>4.14</td>\n",
       "      <td>7.03</td>\n",
       "      <td>NaN</td>\n",
       "      <td>CB</td>\n",
       "      <td>D</td>\n",
       "      <td>S</td>\n",
       "      <td>4.0</td>\n",
       "      <td>31(125)</td>\n",
       "      <td>Bears</td>\n",
       "      <td>DB</td>\n",
       "    </tr>\n",
       "  </tbody>\n",
       "</table>\n",
       "<p>5 rows × 22 columns</p>\n",
       "</div>"
      ],
      "text/plain": [
       "   year              name          school  pos  height (in)  weight (lbs)  \\\n",
       "0  2000    Darnell Alford  Boston College   OT         76.0           334   \n",
       "1  2000      Kyle Allamon      Texas Tech   TE         74.5           253   \n",
       "2  2000  Rashard Anderson  Jackson State    CB         74.4           206   \n",
       "3  2000      Corey Atkins  South Carolina  OLB         72.4           237   \n",
       "4  2000     Reggie Austin     Wake Forest   CB         69.4           175   \n",
       "\n",
       "   hand size (in)  arm length (in)  40 yard  bench press  ...  shuttle  3cone  \\\n",
       "0           10.50            34.00     5.58         23.0  ...     4.98   8.48   \n",
       "1            9.88            31.00     5.01          NaN  ...     4.49   7.29   \n",
       "2           10.00            33.00     4.59          NaN  ...     4.15   7.18   \n",
       "3            9.75            31.88     4.76         21.0  ...     4.39   7.96   \n",
       "4            8.50            30.00     4.46         17.0  ...     4.14   7.03   \n",
       "\n",
       "   60yd shuttle  pos_group  offense_defense line_or_skill round  pk(ovr)  \\\n",
       "0           NaN         OL                O             L   6.0  22(188)   \n",
       "1         12.47         TE                O             S   NaN      NaN   \n",
       "2         11.72         CB                D             S   NaN      NaN   \n",
       "3         11.87         LB                D             S   NaN      NaN   \n",
       "4           NaN         CB                D             S   4.0  31(125)   \n",
       "\n",
       "     team position  \n",
       "0  Chiefs       OT  \n",
       "1     NaN      NaN  \n",
       "2     NaN      NaN  \n",
       "3     NaN      NaN  \n",
       "4   Bears       DB  \n",
       "\n",
       "[5 rows x 22 columns]"
      ]
     },
     "execution_count": 101,
     "metadata": {},
     "output_type": "execute_result"
    }
   ],
   "source": [
    "df_merged = df_combine.merge(df_draft, how='left',\n",
    "                             on=['name', 'school', 'year'])\n",
    "\n",
    "df_merged.head()\n",
    "\n",
    "# df_merged.to_clipboard()"
   ]
  },
  {
   "cell_type": "markdown",
   "metadata": {
    "pycharm": {
     "name": "#%% md\n"
    }
   },
   "source": [
    "## Investigate merged data"
   ]
  },
  {
   "cell_type": "code",
   "execution_count": 102,
   "metadata": {
    "pycharm": {
     "name": "#%%\n"
    }
   },
   "outputs": [
    {
     "name": "stdout",
     "output_type": "stream",
     "text": [
      "<class 'pandas.core.frame.DataFrame'>\n",
      "Int64Index: 8465 entries, 0 to 8464\n",
      "Data columns (total 22 columns):\n",
      " #   Column           Non-Null Count  Dtype  \n",
      "---  ------           --------------  -----  \n",
      " 0   year             8465 non-null   int64  \n",
      " 1   name             8465 non-null   object \n",
      " 2   school           8462 non-null   object \n",
      " 3   pos              8465 non-null   object \n",
      " 4   height (in)      8465 non-null   float64\n",
      " 5   weight (lbs)     8465 non-null   int64  \n",
      " 6   hand size (in)   7639 non-null   float64\n",
      " 7   arm length (in)  7638 non-null   float64\n",
      " 8   40 yard          7922 non-null   float64\n",
      " 9   bench press      6603 non-null   float64\n",
      " 10  vert leap (in)   7503 non-null   float64\n",
      " 11  broad jump (in)  7400 non-null   float64\n",
      " 12  shuttle          6929 non-null   float64\n",
      " 13  3cone            6827 non-null   float64\n",
      " 14  60yd shuttle     1370 non-null   float64\n",
      " 15  pos_group        8465 non-null   object \n",
      " 16  offense_defense  8465 non-null   object \n",
      " 17  line_or_skill    8465 non-null   object \n",
      " 18  round            3612 non-null   float64\n",
      " 19  pk(ovr)          3612 non-null   object \n",
      " 20  team             3599 non-null   object \n",
      " 21  position         3612 non-null   object \n",
      "dtypes: float64(11), int64(2), object(9)\n",
      "memory usage: 1.5+ MB\n"
     ]
    }
   ],
   "source": [
    "df_merged.info()\n"
   ]
  },
  {
   "cell_type": "markdown",
   "metadata": {},
   "source": [
    "## Data Cleaning:\n",
    "* Very few 60-yard shuttle records; drop column\n",
    "* Split the 'pk(ovr)' column to get a new \"Overall\" column.\n",
    "    * Overwrite blank values in this column with '500' to reflect undrafted players\n",
    "* Drop kickers, long snappers, QBs and Fullbacks (too few, draft status not driven by stats)"
   ]
  },
  {
   "cell_type": "code",
   "execution_count": 103,
   "metadata": {
    "pycharm": {
     "name": "#%%\n"
    }
   },
   "outputs": [
    {
     "name": "stdout",
     "output_type": "stream",
     "text": [
      "   height (in)  weight (lbs)  hand size (in)  arm length (in)  40 yard  \\\n",
      "0         76.0           334           10.50            34.00     5.58   \n",
      "4         69.4           175            8.50            30.00     4.46   \n",
      "5         77.9           312            9.25            32.75     5.36   \n",
      "6         71.6           208            9.50            32.00     4.63   \n",
      "7         69.9           199           10.00            31.13     4.48   \n",
      "\n",
      "   bench press  vert leap (in)  broad jump (in)  shuttle  3cone pos_group  \\\n",
      "0         23.0            25.0             94.0     4.98   8.48        OL   \n",
      "4         17.0            35.0            119.0     4.14   7.03        CB   \n",
      "5         20.0            28.0             96.0     4.73   7.72        OL   \n",
      "6         10.0            35.0            114.0     4.32   6.92         S   \n",
      "7         16.0            37.5            116.0     4.04   6.81        CB   \n",
      "\n",
      "  offense_defense line_or_skill  pk(ovr)  overall  \n",
      "0               O             L  22(188)    188.0  \n",
      "4               D             S  31(125)    125.0  \n",
      "5               O             L  41(247)    247.0  \n",
      "6               D             S  19(225)    225.0  \n",
      "7               D             S   8(102)    102.0  \n",
      "\n",
      " Remaining Columns\n",
      "Index(['height (in)', 'weight (lbs)', 'hand size (in)', 'arm length (in)',\n",
      "       '40 yard', 'bench press', 'vert leap (in)', 'broad jump (in)',\n",
      "       'shuttle', '3cone', 'pos_group', 'offense_defense', 'line_or_skill',\n",
      "       'overall'],\n",
      "      dtype='object')\n",
      "Int64Index([  91,  172,  216,  259,  307,  326,  431,  542,  595,  662,  838,\n",
      "             847,  868,  948, 1278, 1465, 1485, 1554, 1832, 2005, 2231, 2287,\n",
      "            2311, 2327, 2546, 2564, 2672, 2840, 2906, 3198, 3256, 3571, 3718,\n",
      "            3979, 3985, 4140, 4185, 4291, 4330, 4442, 4636, 4918, 4956, 5107,\n",
      "            5247, 5383, 6699, 6911, 7595, 7603, 7689],\n",
      "           dtype='int64')\n",
      "(2175, 14)\n",
      "   height (in)  weight (lbs)  hand size (in)  arm length (in)  40 yard  \\\n",
      "0         76.0           334           10.50            34.00     5.58   \n",
      "4         69.4           175            8.50            30.00     4.46   \n",
      "5         77.9           312            9.25            32.75     5.36   \n",
      "6         71.6           208            9.50            32.00     4.63   \n",
      "7         69.9           199           10.00            31.13     4.48   \n",
      "\n",
      "   bench press  vert leap (in)  broad jump (in)  shuttle  3cone pos_group  \\\n",
      "0         23.0            25.0             94.0     4.98   8.48        OL   \n",
      "4         17.0            35.0            119.0     4.14   7.03        CB   \n",
      "5         20.0            28.0             96.0     4.73   7.72        OL   \n",
      "6         10.0            35.0            114.0     4.32   6.92         S   \n",
      "7         16.0            37.5            116.0     4.04   6.81        CB   \n",
      "\n",
      "  offense_defense line_or_skill  overall  \n",
      "0               O             L    188.0  \n",
      "4               D             S    125.0  \n",
      "5               O             L    247.0  \n",
      "6               D             S    225.0  \n",
      "7               D             S    102.0  \n"
     ]
    }
   ],
   "source": [
    "# Drop 60yd shuttle (too few data points), duplicative columns related to\n",
    "# player position, and things like year and team name\n",
    "merged_cols_to_drop = ['year', 'name', 'school', 'pos',\n",
    "                       '60yd shuttle',\n",
    "                       'round', 'team', 'position']\n",
    "\n",
    "try:\n",
    "    df_merged.drop(columns=merged_cols_to_drop, inplace=True)\n",
    "except:\n",
    "    print('Issue dropping columns')\n",
    "\n",
    "\n",
    "# Make new \"overall\" column of draft status by extracting overall\n",
    "# draft rank from between parentheses in the \"pk(ovr)\" column\n",
    "regex_value_bw_parens = r'\\((.*?)\\)'\n",
    "df_merged['overall'] = \\\n",
    "    df_merged['pk(ovr)'].str.extract(pat=regex_value_bw_parens).astype('float')\n",
    "\n",
    "# print(df_merged['overall'].max()) # is 260\n",
    "\n",
    "\n",
    "\n",
    "# Undrafter players will have \"Nan\" values. Set these to 500\n",
    "# as a way to indicate undrafter players\n",
    "# df_merged['overall'].fillna(500, inplace=True)\n",
    "\n",
    "# Drop Undrafted\n",
    "df_merged.dropna(inplace=True)\n",
    "print(df_merged.head())\n",
    "# Now drop the 'pk(ovr)' column\n",
    "df_merged.drop(columns=['pk(ovr)'], inplace=True)\n",
    "\n",
    "\n",
    "\n",
    "\n",
    "print('\\n Remaining Columns')\n",
    "print(df_merged.columns)\n",
    "\n",
    "positions_to_drop = ['SN', 'K', 'QB', 'FB']\n",
    "positions_mask = \\\n",
    "    df_merged[df_merged['pos_group'].isin(positions_to_drop)].index\n",
    "\n",
    "print(positions_mask)\n",
    "\n",
    "print(df_merged.shape)\n",
    "df_merged.drop(positions_mask, inplace=True)\n",
    "print(df_merged.head())\n"
   ]
  },
  {
   "cell_type": "markdown",
   "metadata": {
    "pycharm": {
     "name": "#%% md\n"
    }
   },
   "source": [
    "### How many players don't have much combine data? Drop them"
   ]
  },
  {
   "cell_type": "code",
   "execution_count": 104,
   "metadata": {
    "pycharm": {
     "name": "#%%\n"
    }
   },
   "outputs": [
    {
     "name": "stdout",
     "output_type": "stream",
     "text": [
      "\n",
      " Missing metrics per row\n",
      "0    2124\n",
      "dtype: int64\n",
      "\n",
      "Remaining missing metrics by row\n",
      "0    2124\n",
      "dtype: int64\n"
     ]
    },
    {
     "data": {
      "text/html": [
       "<div>\n",
       "<style scoped>\n",
       "    .dataframe tbody tr th:only-of-type {\n",
       "        vertical-align: middle;\n",
       "    }\n",
       "\n",
       "    .dataframe tbody tr th {\n",
       "        vertical-align: top;\n",
       "    }\n",
       "\n",
       "    .dataframe thead th {\n",
       "        text-align: right;\n",
       "    }\n",
       "</style>\n",
       "<table border=\"1\" class=\"dataframe\">\n",
       "  <thead>\n",
       "    <tr style=\"text-align: right;\">\n",
       "      <th></th>\n",
       "      <th>height (in)</th>\n",
       "      <th>weight (lbs)</th>\n",
       "      <th>hand size (in)</th>\n",
       "      <th>arm length (in)</th>\n",
       "      <th>40 yard</th>\n",
       "      <th>bench press</th>\n",
       "      <th>vert leap (in)</th>\n",
       "      <th>broad jump (in)</th>\n",
       "      <th>shuttle</th>\n",
       "      <th>3cone</th>\n",
       "      <th>pos_group</th>\n",
       "      <th>offense_defense</th>\n",
       "      <th>line_or_skill</th>\n",
       "      <th>overall</th>\n",
       "    </tr>\n",
       "  </thead>\n",
       "  <tbody>\n",
       "    <tr>\n",
       "      <th>0</th>\n",
       "      <td>76.0</td>\n",
       "      <td>334</td>\n",
       "      <td>10.50</td>\n",
       "      <td>34.00</td>\n",
       "      <td>5.58</td>\n",
       "      <td>23.0</td>\n",
       "      <td>25.0</td>\n",
       "      <td>94.0</td>\n",
       "      <td>4.98</td>\n",
       "      <td>8.48</td>\n",
       "      <td>OL</td>\n",
       "      <td>O</td>\n",
       "      <td>L</td>\n",
       "      <td>188.0</td>\n",
       "    </tr>\n",
       "    <tr>\n",
       "      <th>4</th>\n",
       "      <td>69.4</td>\n",
       "      <td>175</td>\n",
       "      <td>8.50</td>\n",
       "      <td>30.00</td>\n",
       "      <td>4.46</td>\n",
       "      <td>17.0</td>\n",
       "      <td>35.0</td>\n",
       "      <td>119.0</td>\n",
       "      <td>4.14</td>\n",
       "      <td>7.03</td>\n",
       "      <td>CB</td>\n",
       "      <td>D</td>\n",
       "      <td>S</td>\n",
       "      <td>125.0</td>\n",
       "    </tr>\n",
       "    <tr>\n",
       "      <th>5</th>\n",
       "      <td>77.9</td>\n",
       "      <td>312</td>\n",
       "      <td>9.25</td>\n",
       "      <td>32.75</td>\n",
       "      <td>5.36</td>\n",
       "      <td>20.0</td>\n",
       "      <td>28.0</td>\n",
       "      <td>96.0</td>\n",
       "      <td>4.73</td>\n",
       "      <td>7.72</td>\n",
       "      <td>OL</td>\n",
       "      <td>O</td>\n",
       "      <td>L</td>\n",
       "      <td>247.0</td>\n",
       "    </tr>\n",
       "    <tr>\n",
       "      <th>6</th>\n",
       "      <td>71.6</td>\n",
       "      <td>208</td>\n",
       "      <td>9.50</td>\n",
       "      <td>32.00</td>\n",
       "      <td>4.63</td>\n",
       "      <td>10.0</td>\n",
       "      <td>35.0</td>\n",
       "      <td>114.0</td>\n",
       "      <td>4.32</td>\n",
       "      <td>6.92</td>\n",
       "      <td>S</td>\n",
       "      <td>D</td>\n",
       "      <td>S</td>\n",
       "      <td>225.0</td>\n",
       "    </tr>\n",
       "    <tr>\n",
       "      <th>7</th>\n",
       "      <td>69.9</td>\n",
       "      <td>199</td>\n",
       "      <td>10.00</td>\n",
       "      <td>31.13</td>\n",
       "      <td>4.48</td>\n",
       "      <td>16.0</td>\n",
       "      <td>37.5</td>\n",
       "      <td>116.0</td>\n",
       "      <td>4.04</td>\n",
       "      <td>6.81</td>\n",
       "      <td>CB</td>\n",
       "      <td>D</td>\n",
       "      <td>S</td>\n",
       "      <td>102.0</td>\n",
       "    </tr>\n",
       "    <tr>\n",
       "      <th>13</th>\n",
       "      <td>76.4</td>\n",
       "      <td>302</td>\n",
       "      <td>10.00</td>\n",
       "      <td>32.38</td>\n",
       "      <td>5.12</td>\n",
       "      <td>17.0</td>\n",
       "      <td>31.5</td>\n",
       "      <td>103.0</td>\n",
       "      <td>4.58</td>\n",
       "      <td>7.76</td>\n",
       "      <td>OL</td>\n",
       "      <td>O</td>\n",
       "      <td>L</td>\n",
       "      <td>206.0</td>\n",
       "    </tr>\n",
       "    <tr>\n",
       "      <th>14</th>\n",
       "      <td>73.6</td>\n",
       "      <td>237</td>\n",
       "      <td>10.13</td>\n",
       "      <td>31.88</td>\n",
       "      <td>4.80</td>\n",
       "      <td>21.0</td>\n",
       "      <td>31.5</td>\n",
       "      <td>111.0</td>\n",
       "      <td>4.33</td>\n",
       "      <td>7.17</td>\n",
       "      <td>LB</td>\n",
       "      <td>D</td>\n",
       "      <td>S</td>\n",
       "      <td>116.0</td>\n",
       "    </tr>\n",
       "    <tr>\n",
       "      <th>16</th>\n",
       "      <td>73.1</td>\n",
       "      <td>201</td>\n",
       "      <td>9.00</td>\n",
       "      <td>30.25</td>\n",
       "      <td>4.51</td>\n",
       "      <td>12.0</td>\n",
       "      <td>33.0</td>\n",
       "      <td>115.0</td>\n",
       "      <td>4.09</td>\n",
       "      <td>7.06</td>\n",
       "      <td>S</td>\n",
       "      <td>D</td>\n",
       "      <td>S</td>\n",
       "      <td>198.0</td>\n",
       "    </tr>\n",
       "    <tr>\n",
       "      <th>21</th>\n",
       "      <td>69.9</td>\n",
       "      <td>204</td>\n",
       "      <td>9.13</td>\n",
       "      <td>30.50</td>\n",
       "      <td>4.60</td>\n",
       "      <td>14.0</td>\n",
       "      <td>36.0</td>\n",
       "      <td>116.0</td>\n",
       "      <td>4.01</td>\n",
       "      <td>6.93</td>\n",
       "      <td>S</td>\n",
       "      <td>D</td>\n",
       "      <td>S</td>\n",
       "      <td>39.0</td>\n",
       "    </tr>\n",
       "    <tr>\n",
       "      <th>22</th>\n",
       "      <td>69.9</td>\n",
       "      <td>204</td>\n",
       "      <td>9.13</td>\n",
       "      <td>30.50</td>\n",
       "      <td>4.60</td>\n",
       "      <td>14.0</td>\n",
       "      <td>36.0</td>\n",
       "      <td>116.0</td>\n",
       "      <td>4.01</td>\n",
       "      <td>6.93</td>\n",
       "      <td>CB</td>\n",
       "      <td>D</td>\n",
       "      <td>S</td>\n",
       "      <td>140.0</td>\n",
       "    </tr>\n",
       "  </tbody>\n",
       "</table>\n",
       "</div>"
      ],
      "text/plain": [
       "    height (in)  weight (lbs)  hand size (in)  arm length (in)  40 yard  \\\n",
       "0          76.0           334           10.50            34.00     5.58   \n",
       "4          69.4           175            8.50            30.00     4.46   \n",
       "5          77.9           312            9.25            32.75     5.36   \n",
       "6          71.6           208            9.50            32.00     4.63   \n",
       "7          69.9           199           10.00            31.13     4.48   \n",
       "13         76.4           302           10.00            32.38     5.12   \n",
       "14         73.6           237           10.13            31.88     4.80   \n",
       "16         73.1           201            9.00            30.25     4.51   \n",
       "21         69.9           204            9.13            30.50     4.60   \n",
       "22         69.9           204            9.13            30.50     4.60   \n",
       "\n",
       "    bench press  vert leap (in)  broad jump (in)  shuttle  3cone pos_group  \\\n",
       "0          23.0            25.0             94.0     4.98   8.48        OL   \n",
       "4          17.0            35.0            119.0     4.14   7.03        CB   \n",
       "5          20.0            28.0             96.0     4.73   7.72        OL   \n",
       "6          10.0            35.0            114.0     4.32   6.92         S   \n",
       "7          16.0            37.5            116.0     4.04   6.81        CB   \n",
       "13         17.0            31.5            103.0     4.58   7.76        OL   \n",
       "14         21.0            31.5            111.0     4.33   7.17        LB   \n",
       "16         12.0            33.0            115.0     4.09   7.06         S   \n",
       "21         14.0            36.0            116.0     4.01   6.93         S   \n",
       "22         14.0            36.0            116.0     4.01   6.93        CB   \n",
       "\n",
       "   offense_defense line_or_skill  overall  \n",
       "0                O             L    188.0  \n",
       "4                D             S    125.0  \n",
       "5                O             L    247.0  \n",
       "6                D             S    225.0  \n",
       "7                D             S    102.0  \n",
       "13               O             L    206.0  \n",
       "14               D             S    116.0  \n",
       "16               D             S    198.0  \n",
       "21               D             S     39.0  \n",
       "22               D             S    140.0  "
      ]
     },
     "execution_count": 104,
     "metadata": {},
     "output_type": "execute_result"
    }
   ],
   "source": [
    "metrics_cols = ['height (in)', 'weight (lbs)', 'hand size (in)', 'arm length (in)',\n",
    "       '40 yard', 'bench press', 'vert leap (in)', 'broad jump (in)',\n",
    "       'shuttle', '3cone']\n",
    "\n",
    "# See count of records by number of missing metrics values\n",
    "# 10 total metrics values, drop if they don't have at least 8\n",
    "print('\\n Missing metrics per row')\n",
    "print(df_merged[metrics_cols].isna().sum(axis=1).value_counts())\n",
    "df_merged.dropna(axis=0, thresh=7,\n",
    "                 subset=metrics_cols, inplace=True)\n",
    "print('\\nRemaining missing metrics by row')\n",
    "print(df_merged[metrics_cols].isna().sum(axis=1).value_counts())\n",
    "\n",
    "df_merged.head(10)"
   ]
  },
  {
   "cell_type": "code",
   "execution_count": 105,
   "metadata": {
    "pycharm": {
     "name": "#%%\n"
    }
   },
   "outputs": [
    {
     "data": {
      "text/plain": [
       "Index(['height (in)', 'weight (lbs)', 'hand size (in)', 'arm length (in)',\n",
       "       '40 yard', 'bench press', 'vert leap (in)', 'broad jump (in)',\n",
       "       'shuttle', '3cone', 'pos_group', 'offense_defense', 'line_or_skill',\n",
       "       'overall'],\n",
       "      dtype='object')"
      ]
     },
     "execution_count": 105,
     "metadata": {},
     "output_type": "execute_result"
    }
   ],
   "source": [
    "df_merged.columns\n"
   ]
  },
  {
   "cell_type": "markdown",
   "metadata": {
    "pycharm": {
     "name": "#%% md\n"
    }
   },
   "source": [
    "## Impute missing values based on average of players with same position\n"
   ]
  },
  {
   "cell_type": "code",
   "execution_count": 106,
   "metadata": {
    "pycharm": {
     "name": "#%%\n"
    }
   },
   "outputs": [
    {
     "name": "stdout",
     "output_type": "stream",
     "text": [
      "Before Imputing\n",
      "    height (in)  weight (lbs)  hand size (in)  arm length (in)  40 yard  \\\n",
      "0          76.0           334           10.50            34.00     5.58   \n",
      "4          69.4           175            8.50            30.00     4.46   \n",
      "5          77.9           312            9.25            32.75     5.36   \n",
      "6          71.6           208            9.50            32.00     4.63   \n",
      "7          69.9           199           10.00            31.13     4.48   \n",
      "13         76.4           302           10.00            32.38     5.12   \n",
      "14         73.6           237           10.13            31.88     4.80   \n",
      "16         73.1           201            9.00            30.25     4.51   \n",
      "21         69.9           204            9.13            30.50     4.60   \n",
      "22         69.9           204            9.13            30.50     4.60   \n",
      "\n",
      "    bench press  vert leap (in)  broad jump (in)  shuttle  3cone pos_group  \\\n",
      "0          23.0            25.0             94.0     4.98   8.48        OL   \n",
      "4          17.0            35.0            119.0     4.14   7.03        CB   \n",
      "5          20.0            28.0             96.0     4.73   7.72        OL   \n",
      "6          10.0            35.0            114.0     4.32   6.92         S   \n",
      "7          16.0            37.5            116.0     4.04   6.81        CB   \n",
      "13         17.0            31.5            103.0     4.58   7.76        OL   \n",
      "14         21.0            31.5            111.0     4.33   7.17        LB   \n",
      "16         12.0            33.0            115.0     4.09   7.06         S   \n",
      "21         14.0            36.0            116.0     4.01   6.93         S   \n",
      "22         14.0            36.0            116.0     4.01   6.93        CB   \n",
      "\n",
      "   offense_defense line_or_skill  overall  \n",
      "0                O             L    188.0  \n",
      "4                D             S    125.0  \n",
      "5                O             L    247.0  \n",
      "6                D             S    225.0  \n",
      "7                D             S    102.0  \n",
      "13               O             L    206.0  \n",
      "14               D             S    116.0  \n",
      "16               D             S    198.0  \n",
      "21               D             S     39.0  \n",
      "22               D             S    140.0  \n",
      "\n",
      " *** AFTER IMPUTING\n",
      "    height (in)  weight (lbs)  hand size (in)  arm length (in)  40 yard  \\\n",
      "0          76.0           334           10.50            34.00     5.58   \n",
      "4          69.4           175            8.50            30.00     4.46   \n",
      "5          77.9           312            9.25            32.75     5.36   \n",
      "6          71.6           208            9.50            32.00     4.63   \n",
      "7          69.9           199           10.00            31.13     4.48   \n",
      "13         76.4           302           10.00            32.38     5.12   \n",
      "14         73.6           237           10.13            31.88     4.80   \n",
      "16         73.1           201            9.00            30.25     4.51   \n",
      "21         69.9           204            9.13            30.50     4.60   \n",
      "22         69.9           204            9.13            30.50     4.60   \n",
      "\n",
      "    bench press  vert leap (in)  broad jump (in)  shuttle  3cone pos_group  \\\n",
      "0          23.0            25.0             94.0     4.98   8.48        OL   \n",
      "4          17.0            35.0            119.0     4.14   7.03        CB   \n",
      "5          20.0            28.0             96.0     4.73   7.72        OL   \n",
      "6          10.0            35.0            114.0     4.32   6.92         S   \n",
      "7          16.0            37.5            116.0     4.04   6.81        CB   \n",
      "13         17.0            31.5            103.0     4.58   7.76        OL   \n",
      "14         21.0            31.5            111.0     4.33   7.17        LB   \n",
      "16         12.0            33.0            115.0     4.09   7.06         S   \n",
      "21         14.0            36.0            116.0     4.01   6.93         S   \n",
      "22         14.0            36.0            116.0     4.01   6.93        CB   \n",
      "\n",
      "   offense_defense line_or_skill  overall  \n",
      "0                O             L    188.0  \n",
      "4                D             S    125.0  \n",
      "5                O             L    247.0  \n",
      "6                D             S    225.0  \n",
      "7                D             S    102.0  \n",
      "13               O             L    206.0  \n",
      "14               D             S    116.0  \n",
      "16               D             S    198.0  \n",
      "21               D             S     39.0  \n",
      "22               D             S    140.0  \n"
     ]
    }
   ],
   "source": [
    "print('Before Imputing')\n",
    "print(df_merged.head(10))\n",
    "\n",
    "df_merged = clean_data.group_imputer(\n",
    "    df=df_merged,\n",
    "    grouping_col='pos_group',\n",
    "    cols_to_impute=metrics_cols)\n",
    "\n",
    "print('\\n *** AFTER IMPUTING')\n",
    "print(df_merged.head(10))"
   ]
  },
  {
   "cell_type": "code",
   "execution_count": 106,
   "metadata": {
    "pycharm": {
     "name": "#%%\n"
    }
   },
   "outputs": [],
   "source": []
  },
  {
   "cell_type": "markdown",
   "metadata": {},
   "source": [
    "## Begin Modeling\n"
   ]
  },
  {
   "cell_type": "markdown",
   "metadata": {},
   "source": [
    "### Imports for modeling"
   ]
  },
  {
   "cell_type": "code",
   "execution_count": 107,
   "metadata": {
    "pycharm": {
     "name": "#%%\n"
    }
   },
   "outputs": [],
   "source": [
    "from sklearn.model_selection import train_test_split\n",
    "\n",
    "# encoders\n",
    "from category_encoders import OneHotEncoder, OrdinalEncoder\n",
    "from sklearn.impute import SimpleImputer\n",
    "from sklearn.preprocessing import StandardScaler\n",
    "\n",
    "#metrics\n",
    "from sklearn.metrics import accuracy_score, precision_score, recall_score, classification_report, roc_auc_score\n",
    "\n",
    "#pipeline\n",
    "from sklearn.pipeline import make_pipeline\n",
    "\n",
    "# machine learning\n",
    "from sklearn.linear_model import LogisticRegression, RidgeClassifierCV, LinearRegression\n",
    "from sklearn.ensemble import RandomForestClassifier\n",
    "from sklearn.ensemble import GradientBoostingRegressor\n",
    "from sklearn.tree import DecisionTreeClassifier\n",
    "from sklearn.model_selection import RandomizedSearchCV\n",
    "\n",
    "# Boosted Models\n",
    "# Use this one if you have an M1 chip.\n",
    "from sklearn.ensemble import GradientBoostingClassifier\n",
    "from xgboost import XGBClassifier\n",
    "\n",
    "# Permutation Importance\n",
    "from sklearn.inspection import permutation_importance\n",
    "\n",
    "# for displaying images and html\n",
    "from IPython.display import Image\n",
    "from IPython.core.display import HTML\n"
   ]
  },
  {
   "cell_type": "markdown",
   "metadata": {},
   "source": [
    "### Split data"
   ]
  },
  {
   "cell_type": "code",
   "execution_count": 108,
   "metadata": {
    "pycharm": {
     "name": "#%%\n"
    }
   },
   "outputs": [
    {
     "name": "stdout",
     "output_type": "stream",
     "text": [
      "X_train shape: (1699, 13) X_test shape: (425, 13)\n"
     ]
    }
   ],
   "source": [
    "target = 'overall'\n",
    "X = df_merged.drop(columns=target)\n",
    "y = df_merged[target]\n",
    "\n",
    "X_train, X_test, y_train, y_test = train_test_split(X, y,\n",
    "                                                    test_size=.2,\n",
    "                                                    random_state=42)\n",
    "\n",
    "print(f'X_train shape: {X_train.shape} X_test shape: {X_test.shape}')"
   ]
  },
  {
   "cell_type": "markdown",
   "metadata": {
    "pycharm": {
     "name": "#%% md\n"
    }
   },
   "source": [
    "## Baseline Accuracy"
   ]
  },
  {
   "cell_type": "code",
   "execution_count": 109,
   "metadata": {
    "pycharm": {
     "name": "#%%\n"
    }
   },
   "outputs": [
    {
     "data": {
      "text/plain": [
       "122.66290018832392"
      ]
     },
     "execution_count": 109,
     "metadata": {},
     "output_type": "execute_result"
    }
   ],
   "source": [
    "#baseline = y.value_counts(normalize=True).max()\n",
    "baseline = y.mean()\n",
    "baseline"
   ]
  },
  {
   "cell_type": "markdown",
   "metadata": {},
   "source": [
    "## Build Linear Regression Model/Pipeline"
   ]
  },
  {
   "cell_type": "code",
   "execution_count": 110,
   "metadata": {
    "pycharm": {
     "name": "#%%\n"
    }
   },
   "outputs": [
    {
     "name": "stdout",
     "output_type": "stream",
     "text": [
      "LR Training Accuracy 0.11173009852645521\n",
      "LR Validation Accuracy 0.10460501658167609\n"
     ]
    }
   ],
   "source": [
    "# Base Model\n",
    "model_lr = make_pipeline(\n",
    "    # Transforms\n",
    "    OneHotEncoder(),\n",
    "\n",
    "    # Model\n",
    "    LinearRegression()\n",
    ")\n",
    "\n",
    "\n",
    "model_lr.fit(X_train, y_train)\n",
    "\n",
    "print('LR Training Accuracy', model_lr.score(X_train, y_train))\n",
    "print('LR Validation Accuracy', model_lr.score(X_test, y_test))\n",
    "\n"
   ]
  },
  {
   "cell_type": "markdown",
   "metadata": {},
   "source": [
    "## Build Logistic regression Model/Pipeline"
   ]
  },
  {
   "cell_type": "code",
   "execution_count": 118,
   "metadata": {
    "pycharm": {
     "name": "#%%\n"
    }
   },
   "outputs": [
    {
     "name": "stdout",
     "output_type": "stream",
     "text": [
      "Y:  0       188.0\n",
      "4       125.0\n",
      "5       247.0\n",
      "6       225.0\n",
      "7       102.0\n",
      "        ...  \n",
      "8454     65.0\n",
      "8455    193.0\n",
      "8457     13.0\n",
      "8459    190.0\n",
      "8460    117.0\n",
      "Name: overall, Length: 2124, dtype: float64\n",
      "X:        height (in)  weight (lbs)  hand size (in)  arm length (in)  40 yard  \\\n",
      "0           76.00           334           10.50            34.00     5.58   \n",
      "4           69.40           175            8.50            30.00     4.46   \n",
      "5           77.90           312            9.25            32.75     5.36   \n",
      "6           71.60           208            9.50            32.00     4.63   \n",
      "7           69.90           199           10.00            31.13     4.48   \n",
      "...           ...           ...             ...              ...      ...   \n",
      "8454        74.13           241            9.50            32.38     4.63   \n",
      "8455        76.50           290            9.88            33.13     4.90   \n",
      "8457        76.88           320           10.25            34.00     4.85   \n",
      "8459        76.63           244           10.00            31.13     4.78   \n",
      "8460        76.63           258           10.50            34.13     4.73   \n",
      "\n",
      "      bench press  vert leap (in)  broad jump (in)  shuttle  3cone pos_group  \\\n",
      "0            23.0            25.0             94.0     4.98   8.48        OL   \n",
      "4            17.0            35.0            119.0     4.14   7.03        CB   \n",
      "5            20.0            28.0             96.0     4.73   7.72        OL   \n",
      "6            10.0            35.0            114.0     4.32   6.92         S   \n",
      "7            16.0            37.5            116.0     4.04   6.81        CB   \n",
      "...           ...             ...              ...      ...    ...       ...   \n",
      "8454         21.0            32.0            121.0     4.27   7.07        LB   \n",
      "8455         21.0            28.5            111.0     4.44   7.47        DL   \n",
      "8457         24.0            36.5            121.0     4.68   7.65        OL   \n",
      "8459         21.0            34.5            120.0     4.46   7.18        TE   \n",
      "8460         20.0            34.5            123.0     4.44   7.25        DL   \n",
      "\n",
      "     offense_defense line_or_skill  \n",
      "0                  O             L  \n",
      "4                  D             S  \n",
      "5                  O             L  \n",
      "6                  D             S  \n",
      "7                  D             S  \n",
      "...              ...           ...  \n",
      "8454               D             S  \n",
      "8455               D             L  \n",
      "8457               O             L  \n",
      "8459               O             S  \n",
      "8460               D             L  \n",
      "\n",
      "[2124 rows x 13 columns]\n"
     ]
    },
    {
     "name": "stderr",
     "output_type": "stream",
     "text": [
      "C:\\Py\\nfl_combine_draft\\venv\\lib\\site-packages\\sklearn\\model_selection\\_split.py:676: UserWarning: The least populated class in y has only 1 members, which is less than n_splits=5.\n",
      "  warnings.warn(\n"
     ]
    },
    {
     "name": "stdout",
     "output_type": "stream",
     "text": [
      "Logistic Regression Training Accuracy 0.06533254855797528\n",
      "Logistic Regression Validation Accuracy 0.004705882352941176\n"
     ]
    }
   ],
   "source": [
    "# Base Model\n",
    "#model_rf = LogisticRegression(random_state=42)\n",
    "\n",
    "model_rf = make_pipeline(\n",
    "    OneHotEncoder(),\n",
    "    RidgeClassifierCV(cv=5)\n",
    ")\n",
    "\n",
    "# print('Y: ', y)\n",
    "\n",
    "# print('X: ', X)\n",
    "model_rf.fit(X_train, y_train)\n",
    "\n",
    "print('Logistic Regression Training Accuracy', model_rf.score(X_train, y_train))\n",
    "print('Logistic Regression Validation Accuracy', model_rf.score(X_test, y_test))\n"
   ]
  },
  {
   "cell_type": "markdown",
   "metadata": {
    "pycharm": {
     "name": "#%% md\n"
    }
   },
   "source": [
    "## Build Gradient Boosting Regressor Model/Pipeline"
   ]
  },
  {
   "cell_type": "code",
   "execution_count": 119,
   "metadata": {
    "pycharm": {
     "name": "#%%\n"
    }
   },
   "outputs": [
    {
     "name": "stdout",
     "output_type": "stream",
     "text": [
      "Fitting 5 folds for each of 5 candidates, totalling 25 fits\n"
     ]
    },
    {
     "data": {
      "text/plain": [
       "RandomizedSearchCV(cv=5,\n",
       "                   estimator=Pipeline(steps=[('onehotencoder',\n",
       "                                              OneHotEncoder(cols=['pos_group',\n",
       "                                                                  'offense_defense',\n",
       "                                                                  'line_or_skill'])),\n",
       "                                             ('simpleimputer', SimpleImputer()),\n",
       "                                             ('gradientboostingregressor',\n",
       "                                              GradientBoostingRegressor(random_state=42))]),\n",
       "                   n_iter=5, n_jobs=4,\n",
       "                   param_distributions={'gradientboostingregressor__max_depth': range(3, 30, 5),\n",
       "                                        'simpleimputer__strategy': ['mean',\n",
       "                                                                    'most_frequent']},\n",
       "                   verbose=1)"
      ]
     },
     "execution_count": 119,
     "metadata": {},
     "output_type": "execute_result"
    }
   ],
   "source": [
    "# Base Model\n",
    "model_gbr = make_pipeline(\n",
    "    OneHotEncoder(),\n",
    "    SimpleImputer(),\n",
    "    GradientBoostingRegressor(random_state=42)\n",
    ")\n",
    "\n",
    "# Parameter grid for hyperparameter tuning\n",
    "# Note double underscores __ in keys below\n",
    "param_distributions = {\n",
    "    'simpleimputer__strategy': ['mean', 'most_frequent'],\n",
    "    'gradientboostingregressor__max_depth': range(3,30,5)\n",
    "                      }\n",
    "#     'randomforestclassifier__n_estimators': range(10,2000, 10),\n",
    "#     'randomforestclassifier__bootstrap': [True, False],\n",
    "#     'randomforestclassifier__warm_start': [True, False]\n",
    "# }\n",
    "\n",
    "tuned_gbr = RandomizedSearchCV(\n",
    "    model_gbr,\n",
    "    param_distributions=param_distributions,\n",
    "    n_iter=5,\n",
    "    cv=5,\n",
    "    verbose=1,\n",
    "    n_jobs=4\n",
    ")\n",
    "\n",
    "model_gbr.fit(X_train, y_train)\n",
    "tuned_gbr.fit(X_train, y_train)"
   ]
  },
  {
   "cell_type": "markdown",
   "metadata": {},
   "source": [
    "### Evaluate Random Forest Model/Pipeline"
   ]
  },
  {
   "cell_type": "code",
   "execution_count": 120,
   "metadata": {
    "pycharm": {
     "name": "#%%\n"
    }
   },
   "outputs": [
    {
     "name": "stdout",
     "output_type": "stream",
     "text": [
      "Tuned GBR best score:  0.06040245283171512\n",
      "Tuned GBR best parameters:  {'simpleimputer__strategy': 'mean', 'gradientboostingregressor__max_depth': 3}\n",
      "Gradient Boosting Regressor Training Accuracy 0.3163973493397806\n",
      "Gradient Boosting Regressor  Validation Accuracy 0.061180080224168876\n"
     ]
    },
    {
     "data": {
      "text/html": [
       "<div>\n",
       "<style scoped>\n",
       "    .dataframe tbody tr th:only-of-type {\n",
       "        vertical-align: middle;\n",
       "    }\n",
       "\n",
       "    .dataframe tbody tr th {\n",
       "        vertical-align: top;\n",
       "    }\n",
       "\n",
       "    .dataframe thead th {\n",
       "        text-align: right;\n",
       "    }\n",
       "</style>\n",
       "<table border=\"1\" class=\"dataframe\">\n",
       "  <thead>\n",
       "    <tr style=\"text-align: right;\">\n",
       "      <th></th>\n",
       "      <th>height (in)</th>\n",
       "      <th>weight (lbs)</th>\n",
       "      <th>hand size (in)</th>\n",
       "      <th>arm length (in)</th>\n",
       "      <th>40 yard</th>\n",
       "      <th>bench press</th>\n",
       "      <th>vert leap (in)</th>\n",
       "      <th>broad jump (in)</th>\n",
       "      <th>shuttle</th>\n",
       "      <th>3cone</th>\n",
       "      <th>pos_group</th>\n",
       "      <th>offense_defense</th>\n",
       "      <th>line_or_skill</th>\n",
       "    </tr>\n",
       "  </thead>\n",
       "  <tbody>\n",
       "    <tr>\n",
       "      <th>5622</th>\n",
       "      <td>74.13</td>\n",
       "      <td>209</td>\n",
       "      <td>9.50</td>\n",
       "      <td>32.000</td>\n",
       "      <td>4.56</td>\n",
       "      <td>17.0</td>\n",
       "      <td>32.5</td>\n",
       "      <td>123.0</td>\n",
       "      <td>4.40</td>\n",
       "      <td>7.04</td>\n",
       "      <td>S</td>\n",
       "      <td>D</td>\n",
       "      <td>S</td>\n",
       "    </tr>\n",
       "    <tr>\n",
       "      <th>1003</th>\n",
       "      <td>77.30</td>\n",
       "      <td>307</td>\n",
       "      <td>10.25</td>\n",
       "      <td>32.250</td>\n",
       "      <td>5.01</td>\n",
       "      <td>18.0</td>\n",
       "      <td>30.0</td>\n",
       "      <td>109.0</td>\n",
       "      <td>4.43</td>\n",
       "      <td>7.69</td>\n",
       "      <td>OL</td>\n",
       "      <td>O</td>\n",
       "      <td>L</td>\n",
       "    </tr>\n",
       "    <tr>\n",
       "      <th>2415</th>\n",
       "      <td>74.88</td>\n",
       "      <td>246</td>\n",
       "      <td>9.25</td>\n",
       "      <td>32.750</td>\n",
       "      <td>4.87</td>\n",
       "      <td>29.0</td>\n",
       "      <td>31.5</td>\n",
       "      <td>112.0</td>\n",
       "      <td>4.56</td>\n",
       "      <td>7.08</td>\n",
       "      <td>LB</td>\n",
       "      <td>D</td>\n",
       "      <td>S</td>\n",
       "    </tr>\n",
       "    <tr>\n",
       "      <th>8316</th>\n",
       "      <td>75.88</td>\n",
       "      <td>310</td>\n",
       "      <td>9.50</td>\n",
       "      <td>32.250</td>\n",
       "      <td>5.11</td>\n",
       "      <td>26.0</td>\n",
       "      <td>25.5</td>\n",
       "      <td>107.0</td>\n",
       "      <td>4.90</td>\n",
       "      <td>8.13</td>\n",
       "      <td>OL</td>\n",
       "      <td>O</td>\n",
       "      <td>L</td>\n",
       "    </tr>\n",
       "    <tr>\n",
       "      <th>1567</th>\n",
       "      <td>74.00</td>\n",
       "      <td>312</td>\n",
       "      <td>10.75</td>\n",
       "      <td>33.380</td>\n",
       "      <td>5.08</td>\n",
       "      <td>27.0</td>\n",
       "      <td>27.5</td>\n",
       "      <td>100.0</td>\n",
       "      <td>4.65</td>\n",
       "      <td>8.21</td>\n",
       "      <td>DL</td>\n",
       "      <td>D</td>\n",
       "      <td>L</td>\n",
       "    </tr>\n",
       "    <tr>\n",
       "      <th>...</th>\n",
       "      <td>...</td>\n",
       "      <td>...</td>\n",
       "      <td>...</td>\n",
       "      <td>...</td>\n",
       "      <td>...</td>\n",
       "      <td>...</td>\n",
       "      <td>...</td>\n",
       "      <td>...</td>\n",
       "      <td>...</td>\n",
       "      <td>...</td>\n",
       "      <td>...</td>\n",
       "      <td>...</td>\n",
       "      <td>...</td>\n",
       "    </tr>\n",
       "    <tr>\n",
       "      <th>6085</th>\n",
       "      <td>72.50</td>\n",
       "      <td>211</td>\n",
       "      <td>10.63</td>\n",
       "      <td>32.750</td>\n",
       "      <td>4.62</td>\n",
       "      <td>17.0</td>\n",
       "      <td>38.0</td>\n",
       "      <td>132.0</td>\n",
       "      <td>4.38</td>\n",
       "      <td>7.09</td>\n",
       "      <td>S</td>\n",
       "      <td>D</td>\n",
       "      <td>S</td>\n",
       "    </tr>\n",
       "    <tr>\n",
       "      <th>4108</th>\n",
       "      <td>73.38</td>\n",
       "      <td>306</td>\n",
       "      <td>9.13</td>\n",
       "      <td>32.250</td>\n",
       "      <td>4.80</td>\n",
       "      <td>36.0</td>\n",
       "      <td>33.5</td>\n",
       "      <td>113.0</td>\n",
       "      <td>4.25</td>\n",
       "      <td>7.19</td>\n",
       "      <td>DL</td>\n",
       "      <td>D</td>\n",
       "      <td>L</td>\n",
       "    </tr>\n",
       "    <tr>\n",
       "      <th>4247</th>\n",
       "      <td>75.75</td>\n",
       "      <td>249</td>\n",
       "      <td>9.25</td>\n",
       "      <td>33.250</td>\n",
       "      <td>4.73</td>\n",
       "      <td>25.0</td>\n",
       "      <td>33.5</td>\n",
       "      <td>117.0</td>\n",
       "      <td>4.31</td>\n",
       "      <td>7.11</td>\n",
       "      <td>LB</td>\n",
       "      <td>D</td>\n",
       "      <td>S</td>\n",
       "    </tr>\n",
       "    <tr>\n",
       "      <th>4716</th>\n",
       "      <td>72.00</td>\n",
       "      <td>191</td>\n",
       "      <td>9.00</td>\n",
       "      <td>29.880</td>\n",
       "      <td>4.56</td>\n",
       "      <td>10.0</td>\n",
       "      <td>36.5</td>\n",
       "      <td>122.0</td>\n",
       "      <td>4.32</td>\n",
       "      <td>7.28</td>\n",
       "      <td>CB</td>\n",
       "      <td>D</td>\n",
       "      <td>S</td>\n",
       "    </tr>\n",
       "    <tr>\n",
       "      <th>3369</th>\n",
       "      <td>72.88</td>\n",
       "      <td>242</td>\n",
       "      <td>9.50</td>\n",
       "      <td>33.375</td>\n",
       "      <td>4.71</td>\n",
       "      <td>21.0</td>\n",
       "      <td>36.5</td>\n",
       "      <td>115.0</td>\n",
       "      <td>4.23</td>\n",
       "      <td>7.08</td>\n",
       "      <td>LB</td>\n",
       "      <td>D</td>\n",
       "      <td>S</td>\n",
       "    </tr>\n",
       "  </tbody>\n",
       "</table>\n",
       "<p>1699 rows × 13 columns</p>\n",
       "</div>"
      ],
      "text/plain": [
       "      height (in)  weight (lbs)  hand size (in)  arm length (in)  40 yard  \\\n",
       "5622        74.13           209            9.50           32.000     4.56   \n",
       "1003        77.30           307           10.25           32.250     5.01   \n",
       "2415        74.88           246            9.25           32.750     4.87   \n",
       "8316        75.88           310            9.50           32.250     5.11   \n",
       "1567        74.00           312           10.75           33.380     5.08   \n",
       "...           ...           ...             ...              ...      ...   \n",
       "6085        72.50           211           10.63           32.750     4.62   \n",
       "4108        73.38           306            9.13           32.250     4.80   \n",
       "4247        75.75           249            9.25           33.250     4.73   \n",
       "4716        72.00           191            9.00           29.880     4.56   \n",
       "3369        72.88           242            9.50           33.375     4.71   \n",
       "\n",
       "      bench press  vert leap (in)  broad jump (in)  shuttle  3cone pos_group  \\\n",
       "5622         17.0            32.5            123.0     4.40   7.04         S   \n",
       "1003         18.0            30.0            109.0     4.43   7.69        OL   \n",
       "2415         29.0            31.5            112.0     4.56   7.08        LB   \n",
       "8316         26.0            25.5            107.0     4.90   8.13        OL   \n",
       "1567         27.0            27.5            100.0     4.65   8.21        DL   \n",
       "...           ...             ...              ...      ...    ...       ...   \n",
       "6085         17.0            38.0            132.0     4.38   7.09         S   \n",
       "4108         36.0            33.5            113.0     4.25   7.19        DL   \n",
       "4247         25.0            33.5            117.0     4.31   7.11        LB   \n",
       "4716         10.0            36.5            122.0     4.32   7.28        CB   \n",
       "3369         21.0            36.5            115.0     4.23   7.08        LB   \n",
       "\n",
       "     offense_defense line_or_skill  \n",
       "5622               D             S  \n",
       "1003               O             L  \n",
       "2415               D             S  \n",
       "8316               O             L  \n",
       "1567               D             L  \n",
       "...              ...           ...  \n",
       "6085               D             S  \n",
       "4108               D             L  \n",
       "4247               D             S  \n",
       "4716               D             S  \n",
       "3369               D             S  \n",
       "\n",
       "[1699 rows x 13 columns]"
      ]
     },
     "execution_count": 120,
     "metadata": {},
     "output_type": "execute_result"
    }
   ],
   "source": [
    "print('Tuned GBR best score: ', tuned_gbr.best_score_)\n",
    "print('Tuned GBR best parameters: ', tuned_gbr.best_params_)\n",
    "\n",
    "\n",
    "print('Gradient Boosting Regressor Training Accuracy', model_gbr.score(X_train, y_train))\n",
    "print('Gradient Boosting Regressor  Validation Accuracy', model_gbr.score(X_test, y_test))\n",
    "X_train"
   ]
  },
  {
   "cell_type": "markdown",
   "metadata": {
    "pycharm": {
     "name": "#%% md\n"
    }
   },
   "source": [
    "### Get Permutation importances for model"
   ]
  },
  {
   "cell_type": "code",
   "execution_count": null,
   "metadata": {
    "pycharm": {
     "name": "#%%\n"
    }
   },
   "outputs": [],
   "source": [
    "importances = model_rf.named_steps['randomforestclassifier'].feature_importances_\n",
    "\n",
    "gini_imp = pd.DataFrame(data=importances, index=X_test.columns, columns=['gini_impurity']).sort_values(by='gini_impurity')\n",
    "\n",
    "gini_imp.tail(10).plot(kind='barh');\n",
    "\n"
   ]
  },
  {
   "cell_type": "markdown",
   "metadata": {},
   "source": [
    "## Build XGBoost Model/Pipeline"
   ]
  },
  {
   "cell_type": "code",
   "execution_count": 122,
   "metadata": {
    "pycharm": {
     "name": "#%%\n"
    }
   },
   "outputs": [
    {
     "name": "stderr",
     "output_type": "stream",
     "text": [
      "C:\\Py\\nfl_combine_draft\\venv\\lib\\site-packages\\xgboost\\sklearn.py:1146: UserWarning: The use of label encoder in XGBClassifier is deprecated and will be removed in a future release. To remove this warning, do the following: 1) Pass option use_label_encoder=False when constructing XGBClassifier object; and 2) Encode your labels (y) as integers starting with 0, i.e. 0, 1, 2, ..., [num_class - 1].\n",
      "  warnings.warn(label_encoder_deprecation_msg, UserWarning)\n"
     ]
    },
    {
     "name": "stdout",
     "output_type": "stream",
     "text": [
      "[10:07:01] WARNING: C:/Users/Administrator/workspace/xgboost-win64_release_1.4.0/src/learner.cc:573: \n",
      "Parameters: { \"loss\", \"verbose\" } might not be used.\n",
      "\n",
      "  This may not be accurate due to some parameters are only used in language bindings but\n",
      "  passed down to XGBoost core.  Or some parameters are not used but slip through this\n",
      "  verification. Please open an issue if you find above cases.\n",
      "\n",
      "\n",
      "[10:07:01] WARNING: C:/Users/Administrator/workspace/xgboost-win64_release_1.4.0/src/learner.cc:1095: Starting in XGBoost 1.3.0, the default evaluation metric used with the objective 'multi:softprob' was changed from 'merror' to 'mlogloss'. Explicitly set eval_metric if you'd like to restore the old behavior.\n"
     ]
    },
    {
     "data": {
      "text/plain": [
       "Pipeline(steps=[('ordinalencoder',\n",
       "                 OrdinalEncoder(cols=['pos_group', 'offense_defense',\n",
       "                                      'line_or_skill'],\n",
       "                                mapping=[{'col': 'pos_group',\n",
       "                                          'data_type': dtype('O'),\n",
       "                                          'mapping': S      1\n",
       "OL     2\n",
       "LB     3\n",
       "DL     4\n",
       "RB     5\n",
       "CB     6\n",
       "TE     7\n",
       "WR     8\n",
       "NaN   -2\n",
       "dtype: int64},\n",
       "                                         {'col': 'offense_defense',\n",
       "                                          'data_type': dtype('O'),\n",
       "                                          'mapping': D      1\n",
       "O      2\n",
       "NaN   -2\n",
       "dtype: int64},\n",
       "                                         {'col': 'line_or_skill',\n",
       "                                          'data_type': dtype('O'),\n",
       "                                          'mapping': S      1\n",
       "L      2\n",
       "NaN   -2\n",
       "d...\n",
       "                               interaction_constraints='',\n",
       "                               learning_rate=0.300000012, loss='deviance',\n",
       "                               max_delta_step=0, max_depth=4,\n",
       "                               min_child_weight=1, missing=nan,\n",
       "                               monotone_constraints='()', n_estimators=500,\n",
       "                               n_jobs=16, num_parallel_tree=1,\n",
       "                               objective='multi:softprob', random_state=42,\n",
       "                               reg_alpha=0, reg_lambda=1, scale_pos_weight=None,\n",
       "                               subsample=1, tree_method='exact',\n",
       "                               validate_parameters=1, verbose=1,\n",
       "                               verbosity=None))])"
      ]
     },
     "execution_count": 122,
     "metadata": {},
     "output_type": "execute_result"
    }
   ],
   "source": [
    "model_xgb = make_pipeline(\n",
    "    OrdinalEncoder(),\n",
    "    SimpleImputer(),\n",
    "\n",
    "    XGBClassifier(\n",
    "        loss='deviance',\n",
    "        # learning_rate=0.1,\n",
    "        n_estimators=500,\n",
    "        subsample=1,\n",
    "        max_depth=4,\n",
    "        verbose=1,\n",
    "        random_state=42\n",
    "    )\n",
    ")\n",
    "\n",
    "model_xgb.fit(X_train, y_train)"
   ]
  },
  {
   "cell_type": "markdown",
   "metadata": {},
   "source": [
    "### Evaluate XGBoost Model/Pipeline"
   ]
  },
  {
   "cell_type": "code",
   "execution_count": 123,
   "metadata": {
    "pycharm": {
     "name": "#%%\n"
    }
   },
   "outputs": [
    {
     "name": "stdout",
     "output_type": "stream",
     "text": [
      "XGBoost Forest Training Accuracy 1.0\n",
      "XGBoost Forest Validation Accuracy 0.004705882352941176\n"
     ]
    }
   ],
   "source": [
    "print('XGBoost Forest Training Accuracy', model_xgb.score(X_train, y_train))\n",
    "print('XGBoost Forest Validation Accuracy', model_xgb.score(X_test, y_test))\n"
   ]
  },
  {
   "cell_type": "markdown",
   "metadata": {},
   "source": [
    "## Build Ridge Regression Model/Pipeline"
   ]
  },
  {
   "cell_type": "code",
   "execution_count": 124,
   "metadata": {
    "pycharm": {
     "name": "#%%\n"
    }
   },
   "outputs": [
    {
     "name": "stderr",
     "output_type": "stream",
     "text": [
      "C:\\Py\\nfl_combine_draft\\venv\\lib\\site-packages\\sklearn\\model_selection\\_split.py:676: UserWarning: The least populated class in y has only 1 members, which is less than n_splits=5.\n",
      "  warnings.warn(\n"
     ]
    },
    {
     "data": {
      "text/plain": [
       "Pipeline(steps=[('onehotencoder',\n",
       "                 OneHotEncoder(cols=['pos_group', 'offense_defense',\n",
       "                                     'line_or_skill'])),\n",
       "                ('simpleimputer', SimpleImputer()),\n",
       "                ('ridgeclassifiercv',\n",
       "                 RidgeClassifierCV(alphas=array([ 0.1,  1. , 10. ]), cv=5))])"
      ]
     },
     "execution_count": 124,
     "metadata": {},
     "output_type": "execute_result"
    }
   ],
   "source": [
    "# very similar to RandomForest\n",
    "model_ridge = make_pipeline(\n",
    "    OneHotEncoder(),\n",
    "    SimpleImputer(),\n",
    "    RidgeClassifierCV(cv=5)\n",
    ")\n",
    "\n",
    "model_ridge.fit(X_train, y_train)"
   ]
  },
  {
   "cell_type": "markdown",
   "metadata": {},
   "source": [
    "### Evaluate Ridge Regression Model/Pipeline"
   ]
  },
  {
   "cell_type": "code",
   "execution_count": 125,
   "metadata": {
    "pycharm": {
     "name": "#%%\n"
    }
   },
   "outputs": [
    {
     "name": "stdout",
     "output_type": "stream",
     "text": [
      "Ridge Regression Training Accuracy 0.06533254855797528\n",
      "Ridge Regression Validation Accuracy 0.004705882352941176\n"
     ]
    }
   ],
   "source": [
    "print('Ridge Regression Training Accuracy', model_ridge.score(X_train, y_train))\n",
    "print('Ridge Regression Validation Accuracy', model_ridge.score(X_test, y_test))\n",
    "\n",
    "# model_ridge.named_steps.ridgeclassifiercv.coef_"
   ]
  },
  {
   "cell_type": "code",
   "execution_count": null,
   "metadata": {
    "pycharm": {
     "name": "#%%\n"
    }
   },
   "outputs": [],
   "source": []
  },
  {
   "cell_type": "markdown",
   "metadata": {
    "pycharm": {
     "name": "#%% md\n"
    }
   },
   "source": [
    "# Module 4 Work\n",
    "(10/14/2021)\n",
    "\n",
    "* Make at least 1 partial dependence plot to explain your model.\n",
    "* Make at least 1 Shapley force plot to explain an individual prediction.\n",
    "* Share at least 1 visualization (of any type) on Slack!\n"
   ]
  },
  {
   "cell_type": "markdown",
   "metadata": {},
   "source": [
    "### imports"
   ]
  },
  {
   "cell_type": "code",
   "execution_count": null,
   "metadata": {
    "pycharm": {
     "name": "#%%\n"
    }
   },
   "outputs": [],
   "source": []
  },
  {
   "cell_type": "code",
   "execution_count": null,
   "metadata": {
    "pycharm": {
     "name": "#%%\n"
    }
   },
   "outputs": [],
   "source": []
  }
 ],
 "metadata": {
  "kernelspec": {
   "display_name": "PyCharm (nfl_combine_draft)",
   "language": "python",
   "name": "pycharm-437d00df"
  },
  "language_info": {
   "codemirror_mode": {
    "name": "ipython",
    "version": 3
   },
   "file_extension": ".py",
   "mimetype": "text/x-python",
   "name": "python",
   "nbconvert_exporter": "python",
   "pygments_lexer": "ipython3",
   "version": "3.9.6"
  }
 },
 "nbformat": 4,
 "nbformat_minor": 1
}